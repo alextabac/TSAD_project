{
 "cells": [
  {
   "cell_type": "markdown",
   "id": "5b059c6a",
   "metadata": {},
   "source": [
    "## MASS_V4 Implementation from below reference/source-codes\n",
    "#### Conversion from Matlab code to Python code\n",
    "\n",
    "Abdullah Mueen, Sheng Zhong, Yan Zhu, Michael Yeh, Kaveh Kamgar, Krishnamurthy Viswanathan, Chetan Kumar Gupta and Eamonn Keogh (2022), The Fastest Similarity Search Algorithm for Time Series Subsequences under Euclidean Distance, URL: http://www.cs.unm.edu/~mueen/FastestSimilaritySearch.html"
   ]
  },
  {
   "cell_type": "markdown",
   "id": "3de66cfb",
   "metadata": {},
   "source": [
    " This code is created by Sheng Zhong and Abdullah Mueen.\n",
    " \n",
    " The overall time complexity of the code is O(n log n). \n",
    " \n",
    " The code is free to use for research purposes.\n",
    " \n",
    " The code does not produce imaginary numbers due to numerical errors k should greater than or equals to floor((3m+1)/2)"
   ]
  },
  {
   "cell_type": "markdown",
   "id": "75cd8b67",
   "metadata": {},
   "source": [
    "#### Note: in Matlab the array index starts at 1 where in Python it starts at 0"
   ]
  },
  {
   "cell_type": "code",
   "execution_count": 42,
   "id": "b4d8cfde",
   "metadata": {},
   "outputs": [],
   "source": [
    "import numpy as np\n",
    "import pandas as pd\n",
    "import scipy.stats as stats\n",
    "from math import floor, sqrt\n",
    "from scipy.fftpack import dct"
   ]
  },
  {
   "cell_type": "code",
   "execution_count": 63,
   "id": "176330da",
   "metadata": {},
   "outputs": [],
   "source": [
    "class MASS_V4:\n",
    "    \n",
    "    def zNorm(self, Q):\n",
    "        return stats.zscore(Q)\n",
    "    \n",
    "    def get_similarities(self, T, Q, k):\n",
    "        n = len(T)\n",
    "        m = len(Q)\n",
    "        Q = zNorm(Q)\n",
    "        dist = np.array([])\n",
    "        batch = self.get_batch_size(k, m)\n",
    "        for j in range(0, n-m+1, batch-m+1):\n",
    "            right = j + batch - 1\n",
    "            if right >= n:\n",
    "                right = n\n",
    "            dot_p = dct_dot_product(T[j:right], Q)\n",
    "            sigmaT = movstd(T[j:right], m)\n",
    "            d = np.sqrt(2.0 * (m - np.divide(dot_p, sigmaT[m:])))\n",
    "            dist = np.concatenate((dist, d))\n",
    "        return dist\n",
    "    \n",
    "    def movstd(self, A, window):\n",
    "        aw = np.lib.stride_tricks.sliding_window_view(A, window)\n",
    "        return np.std(aw, axis=-1)\n",
    "\n",
    "    def get_batch_size(self, k, m):\n",
    "        b = floor((2.0 * k - 2.0) / 3.0) - 1.0\n",
    "        if b < m:\n",
    "            b = m\n",
    "        pad_len = b + floor((b - m + 1.0) / 2.0) + floor((m + 1.0) / 2.0)\n",
    "        while pad_len < k:\n",
    "            b += 1\n",
    "            pad_len = b + floor((b - m + 1.0) / 2.0) + floor((m + 1.0) / 2.0)\n",
    "        if pad_len > k:\n",
    "            b -= 1.0\n",
    "        return b\n",
    "    \n",
    "    def dct_dot_product(self, x, y):\n",
    "        n = len(x)\n",
    "        m = len(y)\n",
    "        x_pad, y_pad, si = self.dct_padding(x,y)\n",
    "        N = len(x_pad)\n",
    "        xc = dct(x_pad, type=2)\n",
    "        yc = dct(y_pad, type=2)\n",
    "        dct_product = np.multiply(xc, yc)\n",
    "        dct_product.resize(N + 1)\n",
    "        dct_product[N + 1] = 0\n",
    "        dct_product[0] *= sqrt(2)\n",
    "        dot_p = dct(dct_product, type=1)\n",
    "        dot_p[0] *= 2\n",
    "        dot_p = sqrt(2 * N) * dot_p[si : si+n-m]\n",
    "        return dot_p\n",
    "    \n",
    "    def dct_padding(self, x, y):\n",
    "        n = len(x)\n",
    "        m = len(y)\n",
    "        p2 = floor((n-m+1)/2)\n",
    "        p1 = p2 + floor((m+1)/2)\n",
    "        p4 = n-m+p1+p2\n",
    "        x_pad = np.zeros(p1 + n)\n",
    "        x_pad[p1:] = x\n",
    "        y_pad = np.zeros(m + p2 + p4)\n",
    "        y_pad[p2: p2+m+1] = y\n",
    "        start_index = p1-p2\n",
    "        return x_pad, y_pad, start_index"
   ]
  },
  {
   "cell_type": "code",
   "execution_count": null,
   "id": "3145d4ac",
   "metadata": {},
   "outputs": [],
   "source": []
  },
  {
   "cell_type": "code",
   "execution_count": null,
   "id": "4d31bb6f",
   "metadata": {},
   "outputs": [],
   "source": []
  },
  {
   "cell_type": "code",
   "execution_count": null,
   "id": "f7eb4c0c",
   "metadata": {},
   "outputs": [],
   "source": []
  },
  {
   "cell_type": "code",
   "execution_count": null,
   "id": "106576c2",
   "metadata": {},
   "outputs": [],
   "source": []
  },
  {
   "cell_type": "code",
   "execution_count": null,
   "id": "8c12532d",
   "metadata": {},
   "outputs": [],
   "source": []
  },
  {
   "cell_type": "code",
   "execution_count": null,
   "id": "9858c7e6",
   "metadata": {},
   "outputs": [],
   "source": []
  },
  {
   "cell_type": "code",
   "execution_count": null,
   "id": "648171ae",
   "metadata": {},
   "outputs": [],
   "source": []
  },
  {
   "cell_type": "code",
   "execution_count": null,
   "id": "bff631bc",
   "metadata": {},
   "outputs": [],
   "source": []
  },
  {
   "cell_type": "code",
   "execution_count": null,
   "id": "30de46a1",
   "metadata": {},
   "outputs": [],
   "source": []
  },
  {
   "cell_type": "code",
   "execution_count": null,
   "id": "c48860b2",
   "metadata": {},
   "outputs": [],
   "source": []
  },
  {
   "cell_type": "code",
   "execution_count": null,
   "id": "6325a5f5",
   "metadata": {},
   "outputs": [],
   "source": []
  },
  {
   "cell_type": "code",
   "execution_count": null,
   "id": "5f7985b1",
   "metadata": {},
   "outputs": [],
   "source": []
  },
  {
   "cell_type": "code",
   "execution_count": null,
   "id": "31216937",
   "metadata": {},
   "outputs": [],
   "source": []
  },
  {
   "cell_type": "code",
   "execution_count": null,
   "id": "00d9475b",
   "metadata": {},
   "outputs": [],
   "source": []
  },
  {
   "cell_type": "code",
   "execution_count": null,
   "id": "6ce0c50b",
   "metadata": {},
   "outputs": [],
   "source": []
  },
  {
   "cell_type": "code",
   "execution_count": null,
   "id": "a5c9a70e",
   "metadata": {},
   "outputs": [],
   "source": []
  }
 ],
 "metadata": {
  "kernelspec": {
   "display_name": "Python 3 (ipykernel)",
   "language": "python",
   "name": "python3"
  },
  "language_info": {
   "codemirror_mode": {
    "name": "ipython",
    "version": 3
   },
   "file_extension": ".py",
   "mimetype": "text/x-python",
   "name": "python",
   "nbconvert_exporter": "python",
   "pygments_lexer": "ipython3",
   "version": "3.9.7"
  }
 },
 "nbformat": 4,
 "nbformat_minor": 5
}
