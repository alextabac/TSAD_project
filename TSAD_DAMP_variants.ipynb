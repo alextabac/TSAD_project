{
 "cells": [
  {
   "cell_type": "markdown",
   "id": "7e1b5842",
   "metadata": {},
   "source": [
    "## Author: Alexandru Paul Tabacaru  ;  alextabac@gmail.com\n",
    "## MIT License"
   ]
  },
  {
   "cell_type": "code",
   "execution_count": 161,
   "id": "8494ea76",
   "metadata": {},
   "outputs": [],
   "source": [
    "import pandas as pd\n",
    "import numpy as np\n",
    "from math import floor\n",
    "import scipy.stats as stats\n",
    "import os\n",
    "import json\n",
    "import random\n",
    "from sklearn.model_selection import train_test_split\n",
    "from pandas_profiling import ProfileReport\n",
    "from datetime import datetime\n",
    "from collections import deque\n",
    "from MASS_V4 import MASS_V4\n",
    "from DAMP_V2 import DAMP_V2\n",
    "from datetime import datetime\n",
    "import matplotlib.pyplot as plt\n",
    "from importlib import reload\n",
    "from data_prep import Data_Preprocess as dprep"
   ]
  },
  {
   "cell_type": "markdown",
   "id": "ceb7fdd2",
   "metadata": {},
   "source": [
    "## Paths and Data Files"
   ]
  },
  {
   "cell_type": "code",
   "execution_count": 3,
   "id": "b80de29a",
   "metadata": {},
   "outputs": [
    {
     "data": {
      "text/plain": [
       "'C:\\\\ALEX\\\\BGU\\\\TDA\\\\PROJECT\\\\TSAD_project'"
      ]
     },
     "execution_count": 3,
     "metadata": {},
     "output_type": "execute_result"
    }
   ],
   "source": [
    "os.getcwd()"
   ]
  },
  {
   "cell_type": "code",
   "execution_count": 4,
   "id": "32714825",
   "metadata": {},
   "outputs": [],
   "source": [
    "data_path = \"..\\\\..\\\\sensors_data\"\n",
    "data_folder = os.path.join(os.getcwd(), data_path)\n",
    "files1 = os.listdir(data_folder)\n",
    "files2 = [os.path.join(data_folder, f) for f in files1 if f.endswith(\"_trim.tab\")]\n",
    "files = [f for f in files2 if os.path.isfile(f)]\n",
    "delimiter = \"\\t\""
   ]
  },
  {
   "cell_type": "markdown",
   "id": "515ecdde",
   "metadata": {},
   "source": [
    "## Equipment digits explained:\n",
    "### first digit is the server NOD number:  1, 2, 3, or 4 otherwise\n",
    "### second digit is the SITE within the NOD: 0, 1, 2.\n",
    "### third digit is the entity number: 0 to 6 at most\n",
    "### fourth digit is the side of the entity:  0 or 1"
   ]
  },
  {
   "cell_type": "code",
   "execution_count": 250,
   "id": "62105ccf",
   "metadata": {},
   "outputs": [],
   "source": [
    "import data_prep\n",
    "reload(data_prep)\n",
    "from data_prep import Data_Preprocess as dprep"
   ]
  },
  {
   "cell_type": "code",
   "execution_count": 252,
   "id": "a220f48c",
   "metadata": {},
   "outputs": [
    {
     "name": "stdout",
     "output_type": "stream",
     "text": [
      "File loaded with 11568827 rows.\n"
     ]
    }
   ],
   "source": [
    "data_obj = dprep(aggregate_type='min', aggregate_amount=15, feature_num=2)\n",
    "data_obj.load_data(files[0], delimiter)"
   ]
  },
  {
   "cell_type": "code",
   "execution_count": 253,
   "id": "d0f80bb3",
   "metadata": {},
   "outputs": [
    {
     "data": {
      "text/plain": [
       "3140370"
      ]
     },
     "execution_count": 253,
     "metadata": {},
     "output_type": "execute_result"
    }
   ],
   "source": [
    "len(data_obj.df)"
   ]
  },
  {
   "cell_type": "code",
   "execution_count": 254,
   "id": "59aaadd8",
   "metadata": {
    "scrolled": true
   },
   "outputs": [
    {
     "name": "stdout",
     "output_type": "stream",
     "text": [
      "Preparing key series Equip2000_Feature2_mean ...\n",
      "Preparing key series Equip2001_Feature2_mean ...\n",
      "Preparing key series Equip2010_Feature2_mean ...\n",
      "Preparing key series Equip2011_Feature2_mean ...\n",
      "Preparing key series Equip2050_Feature2_mean ...\n",
      "Preparing key series Equip2051_Feature2_mean ...\n",
      "Preparing key series Equip2060_Feature2_mean ...\n",
      "Preparing key series Equip2061_Feature2_mean ...\n",
      "Preparing key series Equip2020_Feature2_mean ...\n",
      "Preparing key series Equip2021_Feature2_mean ...\n",
      "Preparing key series Equip2031_Feature2_mean ...\n",
      "Preparing key series Equip2040_Feature2_mean ...\n",
      "Preparing key series Equip2041_Feature2_mean ...\n",
      "Preparing key series Equip2030_Feature2_mean ...\n",
      "Preparing key series Equip2000_Feature2_std ...\n",
      "Preparing key series Equip2001_Feature2_std ...\n",
      "Preparing key series Equip2010_Feature2_std ...\n",
      "Found two clusters or more and need split, in dataset Equip2010_Feature2_std, indx 8107, delta 1.8514249414863468.\n",
      "Preparing key series Equip2011_Feature2_std ...\n",
      "Preparing key series Equip2050_Feature2_std ...\n",
      "Preparing key series Equip2051_Feature2_std ...\n",
      "Preparing key series Equip2060_Feature2_std ...\n",
      "Preparing key series Equip2061_Feature2_std ...\n",
      "Preparing key series Equip2020_Feature2_std ...\n",
      "Preparing key series Equip2021_Feature2_std ...\n",
      "Preparing key series Equip2031_Feature2_std ...\n",
      "Found two clusters or more and need split, in dataset Equip2031_Feature2_std, indx 148, delta 3.0951733712412484.\n",
      "Found two clusters or more and need split, in dataset Equip2031_Feature2_std, indx 49, delta 2.3114148797546816.\n",
      "Preparing key series Equip2040_Feature2_std ...\n",
      "Preparing key series Equip2041_Feature2_std ...\n",
      "Preparing key series Equip2030_Feature2_std ...\n",
      "Data preparation run time 0:00:54.883684\n"
     ]
    }
   ],
   "source": [
    "data_obj.prepare_series()"
   ]
  },
  {
   "cell_type": "code",
   "execution_count": 255,
   "id": "9c02379e",
   "metadata": {},
   "outputs": [
    {
     "data": {
      "text/plain": [
       "34"
      ]
     },
     "execution_count": 255,
     "metadata": {},
     "output_type": "execute_result"
    }
   ],
   "source": [
    "len(data_obj.dfs)"
   ]
  },
  {
   "cell_type": "code",
   "execution_count": 256,
   "id": "56e7af3d",
   "metadata": {},
   "outputs": [
    {
     "data": {
      "text/plain": [
       "list"
      ]
     },
     "execution_count": 256,
     "metadata": {},
     "output_type": "execute_result"
    }
   ],
   "source": [
    "type(data_obj.dfs)"
   ]
  },
  {
   "cell_type": "code",
   "execution_count": 257,
   "id": "1cb81c5a",
   "metadata": {},
   "outputs": [
    {
     "name": "stdout",
     "output_type": "stream",
     "text": [
      "367699\n"
     ]
    }
   ],
   "source": [
    "N = 0\n",
    "for df in data_obj.dfs:\n",
    "    N += len(df)\n",
    "print(N)"
   ]
  },
  {
   "cell_type": "code",
   "execution_count": 258,
   "id": "33b4f68e",
   "metadata": {},
   "outputs": [
    {
     "data": {
      "text/plain": [
       "-7.350572582590664e-16"
      ]
     },
     "execution_count": 258,
     "metadata": {},
     "output_type": "execute_result"
    }
   ],
   "source": [
    "np.mean(data_obj.dfs[5]['value'])"
   ]
  },
  {
   "cell_type": "code",
   "execution_count": 259,
   "id": "d7714889",
   "metadata": {},
   "outputs": [
    {
     "data": {
      "text/plain": [
       "1.0000000000000002"
      ]
     },
     "execution_count": 259,
     "metadata": {},
     "output_type": "execute_result"
    }
   ],
   "source": [
    "np.std(data_obj.dfs[5]['value'])"
   ]
  },
  {
   "cell_type": "code",
   "execution_count": 260,
   "id": "70222531",
   "metadata": {},
   "outputs": [
    {
     "data": {
      "text/plain": [
       "34"
      ]
     },
     "execution_count": 260,
     "metadata": {},
     "output_type": "execute_result"
    }
   ],
   "source": [
    "len(data_obj.dfs)"
   ]
  },
  {
   "cell_type": "code",
   "execution_count": 263,
   "id": "35512247",
   "metadata": {},
   "outputs": [
    {
     "data": {
      "text/html": [
       "<div>\n",
       "<style scoped>\n",
       "    .dataframe tbody tr th:only-of-type {\n",
       "        vertical-align: middle;\n",
       "    }\n",
       "\n",
       "    .dataframe tbody tr th {\n",
       "        vertical-align: top;\n",
       "    }\n",
       "\n",
       "    .dataframe thead th {\n",
       "        text-align: right;\n",
       "    }\n",
       "</style>\n",
       "<table border=\"1\" class=\"dataframe\">\n",
       "  <thead>\n",
       "    <tr style=\"text-align: right;\">\n",
       "      <th></th>\n",
       "      <th>time</th>\n",
       "      <th>RUN_START_WW</th>\n",
       "      <th>Equip</th>\n",
       "      <th>series</th>\n",
       "      <th>key</th>\n",
       "      <th>value</th>\n",
       "    </tr>\n",
       "  </thead>\n",
       "  <tbody>\n",
       "    <tr>\n",
       "      <th>0</th>\n",
       "      <td>2022-06-27 01:45:00</td>\n",
       "      <td>202227</td>\n",
       "      <td>Equip2031</td>\n",
       "      <td>Feature2_mean</td>\n",
       "      <td>Equip2031_Feature2_mean</td>\n",
       "      <td>0.620855</td>\n",
       "    </tr>\n",
       "    <tr>\n",
       "      <th>1</th>\n",
       "      <td>2022-06-27 07:00:00</td>\n",
       "      <td>202227</td>\n",
       "      <td>Equip2031</td>\n",
       "      <td>Feature2_mean</td>\n",
       "      <td>Equip2031_Feature2_mean</td>\n",
       "      <td>0.467176</td>\n",
       "    </tr>\n",
       "    <tr>\n",
       "      <th>2</th>\n",
       "      <td>2022-06-27 13:30:00</td>\n",
       "      <td>202227</td>\n",
       "      <td>Equip2031</td>\n",
       "      <td>Feature2_mean</td>\n",
       "      <td>Equip2031_Feature2_mean</td>\n",
       "      <td>0.159094</td>\n",
       "    </tr>\n",
       "    <tr>\n",
       "      <th>3</th>\n",
       "      <td>2022-06-27 14:00:00</td>\n",
       "      <td>202227</td>\n",
       "      <td>Equip2031</td>\n",
       "      <td>Feature2_mean</td>\n",
       "      <td>Equip2031_Feature2_mean</td>\n",
       "      <td>-0.148988</td>\n",
       "    </tr>\n",
       "    <tr>\n",
       "      <th>4</th>\n",
       "      <td>2022-06-27 17:30:00</td>\n",
       "      <td>202227</td>\n",
       "      <td>Equip2031</td>\n",
       "      <td>Feature2_mean</td>\n",
       "      <td>Equip2031_Feature2_mean</td>\n",
       "      <td>4.671594</td>\n",
       "    </tr>\n",
       "    <tr>\n",
       "      <th>...</th>\n",
       "      <td>...</td>\n",
       "      <td>...</td>\n",
       "      <td>...</td>\n",
       "      <td>...</td>\n",
       "      <td>...</td>\n",
       "      <td>...</td>\n",
       "    </tr>\n",
       "    <tr>\n",
       "      <th>11671</th>\n",
       "      <td>2022-11-24 01:15:00</td>\n",
       "      <td>202248</td>\n",
       "      <td>Equip2031</td>\n",
       "      <td>Feature2_mean</td>\n",
       "      <td>Equip2031_Feature2_mean</td>\n",
       "      <td>-0.714712</td>\n",
       "    </tr>\n",
       "    <tr>\n",
       "      <th>11672</th>\n",
       "      <td>2022-11-24 01:45:00</td>\n",
       "      <td>202248</td>\n",
       "      <td>Equip2031</td>\n",
       "      <td>Feature2_mean</td>\n",
       "      <td>Equip2031_Feature2_mean</td>\n",
       "      <td>0.327343</td>\n",
       "    </tr>\n",
       "    <tr>\n",
       "      <th>11673</th>\n",
       "      <td>2022-11-24 02:00:00</td>\n",
       "      <td>202248</td>\n",
       "      <td>Equip2031</td>\n",
       "      <td>Feature2_mean</td>\n",
       "      <td>Equip2031_Feature2_mean</td>\n",
       "      <td>0.953970</td>\n",
       "    </tr>\n",
       "    <tr>\n",
       "      <th>11674</th>\n",
       "      <td>2022-11-24 02:15:00</td>\n",
       "      <td>202248</td>\n",
       "      <td>Equip2031</td>\n",
       "      <td>Feature2_mean</td>\n",
       "      <td>Equip2031_Feature2_mean</td>\n",
       "      <td>-0.825175</td>\n",
       "    </tr>\n",
       "    <tr>\n",
       "      <th>11675</th>\n",
       "      <td>2022-11-24 02:30:00</td>\n",
       "      <td>202248</td>\n",
       "      <td>Equip2031</td>\n",
       "      <td>Feature2_mean</td>\n",
       "      <td>Equip2031_Feature2_mean</td>\n",
       "      <td>-0.804539</td>\n",
       "    </tr>\n",
       "  </tbody>\n",
       "</table>\n",
       "<p>11676 rows × 6 columns</p>\n",
       "</div>"
      ],
      "text/plain": [
       "                     time  RUN_START_WW      Equip         series  \\\n",
       "0     2022-06-27 01:45:00        202227  Equip2031  Feature2_mean   \n",
       "1     2022-06-27 07:00:00        202227  Equip2031  Feature2_mean   \n",
       "2     2022-06-27 13:30:00        202227  Equip2031  Feature2_mean   \n",
       "3     2022-06-27 14:00:00        202227  Equip2031  Feature2_mean   \n",
       "4     2022-06-27 17:30:00        202227  Equip2031  Feature2_mean   \n",
       "...                   ...           ...        ...            ...   \n",
       "11671 2022-11-24 01:15:00        202248  Equip2031  Feature2_mean   \n",
       "11672 2022-11-24 01:45:00        202248  Equip2031  Feature2_mean   \n",
       "11673 2022-11-24 02:00:00        202248  Equip2031  Feature2_mean   \n",
       "11674 2022-11-24 02:15:00        202248  Equip2031  Feature2_mean   \n",
       "11675 2022-11-24 02:30:00        202248  Equip2031  Feature2_mean   \n",
       "\n",
       "                           key     value  \n",
       "0      Equip2031_Feature2_mean  0.620855  \n",
       "1      Equip2031_Feature2_mean  0.467176  \n",
       "2      Equip2031_Feature2_mean  0.159094  \n",
       "3      Equip2031_Feature2_mean -0.148988  \n",
       "4      Equip2031_Feature2_mean  4.671594  \n",
       "...                        ...       ...  \n",
       "11671  Equip2031_Feature2_mean -0.714712  \n",
       "11672  Equip2031_Feature2_mean  0.327343  \n",
       "11673  Equip2031_Feature2_mean  0.953970  \n",
       "11674  Equip2031_Feature2_mean -0.825175  \n",
       "11675  Equip2031_Feature2_mean -0.804539  \n",
       "\n",
       "[11676 rows x 6 columns]"
      ]
     },
     "execution_count": 263,
     "metadata": {},
     "output_type": "execute_result"
    }
   ],
   "source": [
    "data_obj.dfs[10]"
   ]
  },
  {
   "cell_type": "code",
   "execution_count": 264,
   "id": "ce7658f5",
   "metadata": {},
   "outputs": [
    {
     "name": "stdout",
     "output_type": "stream",
     "text": [
      "Equip2000_Feature2_mean\n",
      "Equip2001_Feature2_mean\n",
      "Equip2010_Feature2_mean\n",
      "Equip2011_Feature2_mean\n",
      "Equip2050_Feature2_mean\n",
      "Equip2051_Feature2_mean\n",
      "Equip2060_Feature2_mean\n",
      "Equip2061_Feature2_mean\n",
      "Equip2020_Feature2_mean\n",
      "Equip2021_Feature2_mean\n",
      "Equip2031_Feature2_mean\n",
      "Equip2040_Feature2_mean\n",
      "Equip2041_Feature2_mean\n",
      "Equip2030_Feature2_mean\n",
      "Equip2000_Feature2_std\n",
      "Equip2001_Feature2_std\n",
      "Equip2010_Feature2_std\n",
      "Equip2010_Feature2_std\n",
      "Equip2010_Feature2_std\n",
      "Equip2011_Feature2_std\n",
      "Equip2050_Feature2_std\n",
      "Equip2051_Feature2_std\n",
      "Equip2060_Feature2_std\n",
      "Equip2061_Feature2_std\n",
      "Equip2020_Feature2_std\n",
      "Equip2021_Feature2_std\n",
      "Equip2031_Feature2_std\n",
      "Equip2031_Feature2_std\n",
      "Equip2031_Feature2_std\n",
      "Equip2031_Feature2_std\n",
      "Equip2031_Feature2_std\n",
      "Equip2040_Feature2_std\n",
      "Equip2041_Feature2_std\n",
      "Equip2030_Feature2_std\n"
     ]
    }
   ],
   "source": [
    "for i in range(len(data_obj.dfs)):\n",
    "    print(data_obj.dfs[i].loc[0, 'key'])"
   ]
  },
  {
   "cell_type": "code",
   "execution_count": 265,
   "id": "6fc3a887",
   "metadata": {},
   "outputs": [
    {
     "data": {
      "text/plain": [
       "0        1.596570\n",
       "1        1.715241\n",
       "2        1.372563\n",
       "3        0.360406\n",
       "4        2.558051\n",
       "           ...   \n",
       "12904   -0.978973\n",
       "12905   -1.080436\n",
       "12906   -1.120397\n",
       "12907   -1.324339\n",
       "12908   -2.736174\n",
       "Name: value, Length: 12909, dtype: float64"
      ]
     },
     "execution_count": 265,
     "metadata": {},
     "output_type": "execute_result"
    }
   ],
   "source": [
    "data_obj.dfs[5]['value']"
   ]
  },
  {
   "cell_type": "code",
   "execution_count": 239,
   "id": "fcbce229",
   "metadata": {
    "scrolled": true
   },
   "outputs": [
    {
     "name": "stdout",
     "output_type": "stream",
     "text": [
      "index 24 - key Equip2060_Feature9_mean - len 10267\n",
      "index 29 - key Equip2061_Feature9_mean - len 10267\n",
      "index 34 - key Equip2030_Feature9_mean - len 12748\n",
      "index 39 - key Equip2031_Feature9_mean - len 12748\n",
      "index 49 - key Equip2010_Feature9_mean - len 14790\n",
      "index 54 - key Equip2011_Feature9_mean - len 14790\n",
      "index 74 - key Equip2050_Feature9_mean - len 14514\n",
      "index 79 - key Equip2051_Feature9_mean - len 14514\n",
      "index 84 - key Equip2000_Feature9_mean - len 15748\n",
      "index 89 - key Equip2001_Feature9_mean - len 15748\n",
      "index 94 - key Equip2020_Feature9_mean - len 14944\n",
      "index 99 - key Equip2021_Feature9_mean - len 14944\n",
      "index 116 - key Equip2040_Feature9_mean - len 14319\n",
      "index 121 - key Equip2041_Feature9_mean - len 9999\n",
      "index 122 - key Equip2041_Feature9_mean - len 4320\n",
      "index 123 - key Equip2041_Feature9_mean - len 14319\n",
      "index 174 - key Equip2060_Feature9_std - len 10267\n",
      "index 179 - key Equip2061_Feature9_std - len 10267\n",
      "index 184 - key Equip2030_Feature9_std - len 12748\n",
      "index 189 - key Equip2031_Feature9_std - len 12748\n",
      "index 199 - key Equip2010_Feature9_std - len 14790\n",
      "index 204 - key Equip2011_Feature9_std - len 14790\n",
      "index 224 - key Equip2050_Feature9_std - len 14514\n",
      "index 229 - key Equip2051_Feature9_std - len 14514\n",
      "index 234 - key Equip2000_Feature9_std - len 15748\n",
      "index 239 - key Equip2001_Feature9_std - len 15748\n",
      "index 244 - key Equip2020_Feature9_std - len 14944\n",
      "index 249 - key Equip2021_Feature9_std - len 14944\n",
      "index 264 - key Equip2040_Feature9_std - len 14319\n",
      "index 269 - key Equip2041_Feature9_std - len 14319\n"
     ]
    }
   ],
   "source": [
    "circflow_mean_idx = []\n",
    "for i in range(len(data_obj.dfs)):\n",
    "    if 'Feature9' in data_obj.dfs[i].loc[0, 'key'] and len(data_obj.dfs[i]) > 1000:\n",
    "        circflow_mean_idx.append(i)\n",
    "        print(f\"index {i} - key {data_obj.dfs[i].loc[0, 'key']} - len {len(data_obj.dfs[i])}\")"
   ]
  },
  {
   "cell_type": "code",
   "execution_count": 240,
   "id": "4cae3cea",
   "metadata": {
    "scrolled": true
   },
   "outputs": [
    {
     "name": "stdout",
     "output_type": "stream",
     "text": [
      "index 23 - key Equip2060_Feature4_mean - len 10267\n",
      "index 28 - key Equip2061_Feature4_mean - len 10267\n",
      "index 33 - key Equip2030_Feature4_mean - len 12748\n",
      "index 38 - key Equip2031_Feature4_mean - len 12748\n",
      "index 48 - key Equip2010_Feature4_mean - len 14790\n",
      "index 53 - key Equip2011_Feature4_mean - len 14790\n",
      "index 73 - key Equip2050_Feature4_mean - len 14514\n",
      "index 78 - key Equip2051_Feature4_mean - len 14514\n",
      "index 83 - key Equip2000_Feature4_mean - len 15748\n",
      "index 88 - key Equip2001_Feature4_mean - len 15748\n",
      "index 93 - key Equip2020_Feature4_mean - len 14944\n",
      "index 98 - key Equip2021_Feature4_mean - len 14944\n",
      "index 115 - key Equip2040_Feature4_mean - len 14319\n",
      "index 120 - key Equip2041_Feature4_mean - len 14319\n",
      "index 173 - key Equip2060_Feature4_std - len 10267\n",
      "index 178 - key Equip2061_Feature4_std - len 10267\n",
      "index 183 - key Equip2030_Feature4_std - len 12748\n",
      "index 188 - key Equip2031_Feature4_std - len 12748\n",
      "index 198 - key Equip2010_Feature4_std - len 14790\n",
      "index 203 - key Equip2011_Feature4_std - len 14790\n",
      "index 223 - key Equip2050_Feature4_std - len 14514\n",
      "index 228 - key Equip2051_Feature4_std - len 14514\n",
      "index 233 - key Equip2000_Feature4_std - len 15748\n",
      "index 238 - key Equip2001_Feature4_std - len 15748\n",
      "index 243 - key Equip2020_Feature4_std - len 14944\n",
      "index 248 - key Equip2021_Feature4_std - len 14944\n",
      "index 263 - key Equip2040_Feature4_std - len 14319\n",
      "index 268 - key Equip2041_Feature4_std - len 14319\n"
     ]
    }
   ],
   "source": [
    "circflow_std_idx = []\n",
    "for i in range(len(data_obj.dfs)):\n",
    "    if 'Feature4' in data_obj.dfs[i].loc[0, 'key'] and len(data_obj.dfs[i]) > 1000:\n",
    "        circflow_std_idx.append(i)\n",
    "        print(f\"index {i} - key {data_obj.dfs[i].loc[0, 'key']} - len {len(data_obj.dfs[i])}\")"
   ]
  },
  {
   "cell_type": "code",
   "execution_count": 241,
   "id": "9165b2c5",
   "metadata": {
    "scrolled": true
   },
   "outputs": [
    {
     "name": "stdout",
     "output_type": "stream",
     "text": [
      "index 20 - key Equip2060_Feature0_mean - len 10267\n",
      "index 25 - key Equip2061_Feature0_mean - len 10267\n",
      "index 30 - key Equip2030_Feature0_mean - len 12748\n",
      "index 35 - key Equip2031_Feature0_mean - len 12748\n",
      "index 45 - key Equip2010_Feature0_mean - len 14790\n",
      "index 50 - key Equip2011_Feature0_mean - len 14790\n",
      "index 70 - key Equip2050_Feature0_mean - len 14514\n",
      "index 75 - key Equip2051_Feature0_mean - len 14514\n",
      "index 80 - key Equip2000_Feature0_mean - len 15748\n",
      "index 85 - key Equip2001_Feature0_mean - len 15748\n",
      "index 90 - key Equip2020_Feature0_mean - len 14944\n",
      "index 95 - key Equip2021_Feature0_mean - len 14944\n",
      "index 110 - key Equip2040_Feature0_mean - len 14319\n",
      "index 117 - key Equip2041_Feature0_mean - len 14319\n",
      "index 170 - key Equip2060_Feature0_std - len 10267\n",
      "index 175 - key Equip2061_Feature0_std - len 10267\n",
      "index 180 - key Equip2030_Feature0_std - len 12748\n",
      "index 185 - key Equip2031_Feature0_std - len 12748\n",
      "index 195 - key Equip2010_Feature0_std - len 14790\n",
      "index 200 - key Equip2011_Feature0_std - len 14790\n",
      "index 220 - key Equip2050_Feature0_std - len 14514\n",
      "index 225 - key Equip2051_Feature0_std - len 14514\n",
      "index 230 - key Equip2000_Feature0_std - len 15748\n",
      "index 235 - key Equip2001_Feature0_std - len 15748\n",
      "index 240 - key Equip2020_Feature0_std - len 14944\n",
      "index 245 - key Equip2021_Feature0_std - len 14944\n",
      "index 260 - key Equip2040_Feature0_std - len 14319\n",
      "index 265 - key Equip2041_Feature0_std - len 14319\n"
     ]
    }
   ],
   "source": [
    "ppress_idx = []\n",
    "for i in range(len(data_obj.dfs)):\n",
    "    if 'Feature0' in data_obj.dfs[i].loc[0, 'key'] and len(data_obj.dfs[i]) > 1000:\n",
    "        ppress_idx.append(i)\n",
    "        print(f\"index {i} - key {data_obj.dfs[i].loc[0, 'key']} - len {len(data_obj.dfs[i])}\")"
   ]
  },
  {
   "cell_type": "code",
   "execution_count": 266,
   "id": "a432973d",
   "metadata": {},
   "outputs": [
    {
     "name": "stdout",
     "output_type": "stream",
     "text": [
      "index 0 - key Equip2000_Feature2_mean - len 13249\n",
      "index 1 - key Equip2001_Feature2_mean - len 13199\n",
      "index 2 - key Equip2010_Feature2_mean - len 12425\n",
      "index 3 - key Equip2011_Feature2_mean - len 12411\n",
      "index 4 - key Equip2050_Feature2_mean - len 12985\n",
      "index 5 - key Equip2051_Feature2_mean - len 12909\n",
      "index 6 - key Equip2060_Feature2_mean - len 8709\n",
      "index 7 - key Equip2061_Feature2_mean - len 8696\n",
      "index 8 - key Equip2020_Feature2_mean - len 12680\n",
      "index 9 - key Equip2021_Feature2_mean - len 12667\n",
      "index 10 - key Equip2031_Feature2_mean - len 11676\n",
      "index 11 - key Equip2040_Feature2_mean - len 11372\n",
      "index 12 - key Equip2041_Feature2_mean - len 11392\n",
      "index 13 - key Equip2030_Feature2_mean - len 11665\n",
      "index 14 - key Equip2000_Feature2_std - len 13249\n",
      "index 15 - key Equip2001_Feature2_std - len 13199\n",
      "index 16 - key Equip2010_Feature2_std - len 4318\n",
      "index 17 - key Equip2010_Feature2_std - len 8107\n",
      "index 18 - key Equip2010_Feature2_std - len 12425\n",
      "index 19 - key Equip2011_Feature2_std - len 12411\n",
      "index 20 - key Equip2050_Feature2_std - len 12985\n",
      "index 21 - key Equip2051_Feature2_std - len 12909\n",
      "index 22 - key Equip2060_Feature2_std - len 8709\n",
      "index 23 - key Equip2061_Feature2_std - len 8696\n",
      "index 24 - key Equip2020_Feature2_std - len 12680\n",
      "index 25 - key Equip2021_Feature2_std - len 12667\n",
      "index 26 - key Equip2031_Feature2_std - len 11479\n",
      "index 28 - key Equip2031_Feature2_std - len 11528\n",
      "index 30 - key Equip2031_Feature2_std - len 11676\n",
      "index 31 - key Equip2040_Feature2_std - len 11372\n",
      "index 32 - key Equip2041_Feature2_std - len 11392\n",
      "index 33 - key Equip2030_Feature2_std - len 11665\n"
     ]
    }
   ],
   "source": [
    "ramp_idx = []\n",
    "for i in range(len(data_obj.dfs)):\n",
    "    if 'Feature2' in data_obj.dfs[i].loc[0, 'key'] and len(data_obj.dfs[i]) > 1000:\n",
    "        ramp_idx.append(i)\n",
    "        print(f\"index {i} - key {data_obj.dfs[i].loc[0, 'key']} - len {len(data_obj.dfs[i])}\")"
   ]
  },
  {
   "cell_type": "code",
   "execution_count": 267,
   "id": "dd7d7013",
   "metadata": {},
   "outputs": [],
   "source": [
    "ramp_dfs  = [data_obj.dfs[i] for i in ramp_idx]"
   ]
  },
  {
   "cell_type": "code",
   "execution_count": 248,
   "id": "3a79b9e3",
   "metadata": {},
   "outputs": [],
   "source": [
    "ppress_dfs = [data_obj.dfs[i] for i in ppress_idx]\n",
    "circflow_std_dfs = [data_obj.dfs[i] for i in circflow_std_idx]\n",
    "circflow_mean_dfs = [data_obj.dfs[i] for i in circflow_mean_idx]\n",
    "ramp_dfs  = [data_obj.dfs[i] for i in ramp_idx]"
   ]
  },
  {
   "cell_type": "code",
   "execution_count": 268,
   "id": "c7d3f248",
   "metadata": {},
   "outputs": [],
   "source": [
    "ramp_dfs[10].to_excel('..//..//sample_data_file_ramp_max.xlsx', engine='xlsxwriter')"
   ]
  },
  {
   "cell_type": "code",
   "execution_count": 270,
   "id": "8576cc45",
   "metadata": {},
   "outputs": [],
   "source": [
    "test_dfs = ramp_dfs"
   ]
  },
  {
   "cell_type": "code",
   "execution_count": 272,
   "id": "f05d07e7",
   "metadata": {},
   "outputs": [],
   "source": [
    "w = 20\n",
    "Q = test_dfs[0][-w:]['value'].values\n",
    "T = test_dfs[0]['value'].values\n",
    "k = 30"
   ]
  },
  {
   "cell_type": "code",
   "execution_count": 45,
   "id": "4f792f37",
   "metadata": {},
   "outputs": [
    {
     "data": {
      "text/plain": [
       "array([-1.78963936, -1.14104214, -0.16814631, -0.42037856, -0.94543345,\n",
       "       -0.70246688, -0.5233305 , -0.03533831, -0.13946684, -0.50788771])"
      ]
     },
     "execution_count": 45,
     "metadata": {},
     "output_type": "execute_result"
    }
   ],
   "source": [
    "Q"
   ]
  },
  {
   "cell_type": "code",
   "execution_count": 273,
   "id": "d5b40de8",
   "metadata": {},
   "outputs": [
    {
     "name": "stdout",
     "output_type": "stream",
     "text": [
      "13249\n",
      "20\n"
     ]
    }
   ],
   "source": [
    "print(len(T))\n",
    "print(len(Q))"
   ]
  },
  {
   "cell_type": "code",
   "execution_count": 274,
   "id": "c1f1011a",
   "metadata": {},
   "outputs": [],
   "source": [
    "import MASS_V4\n",
    "reload(MASS_V4)\n",
    "from MASS_V4 import MASS_V4"
   ]
  },
  {
   "cell_type": "code",
   "execution_count": 275,
   "id": "3159d4dc",
   "metadata": {},
   "outputs": [],
   "source": [
    "mass = MASS_V4(len(Q))"
   ]
  },
  {
   "cell_type": "code",
   "execution_count": 276,
   "id": "a4b5b2e4",
   "metadata": {},
   "outputs": [
    {
     "data": {
      "text/plain": [
       "30"
      ]
     },
     "execution_count": 276,
     "metadata": {},
     "output_type": "execute_result"
    }
   ],
   "source": [
    "floor((3*w+1)/2)"
   ]
  },
  {
   "cell_type": "code",
   "execution_count": 277,
   "id": "3c4393eb",
   "metadata": {},
   "outputs": [],
   "source": [
    "batchs = mass.get_batch_size(floor((3*w+1)/2), 10)"
   ]
  },
  {
   "cell_type": "code",
   "execution_count": 278,
   "id": "88730247",
   "metadata": {},
   "outputs": [
    {
     "data": {
      "text/plain": [
       "20"
      ]
     },
     "execution_count": 278,
     "metadata": {},
     "output_type": "execute_result"
    }
   ],
   "source": [
    "batchs"
   ]
  },
  {
   "cell_type": "code",
   "execution_count": 279,
   "id": "cb4cf687",
   "metadata": {},
   "outputs": [],
   "source": [
    "x_pad, y_pad, start_i = mass.dct_padding(T, Q)"
   ]
  },
  {
   "cell_type": "code",
   "execution_count": 280,
   "id": "16282d3c",
   "metadata": {},
   "outputs": [
    {
     "name": "stdout",
     "output_type": "stream",
     "text": [
      "19874\n",
      "19874\n",
      "10\n"
     ]
    }
   ],
   "source": [
    "print(len(x_pad))\n",
    "print(len(y_pad))\n",
    "print(start_i)"
   ]
  },
  {
   "cell_type": "code",
   "execution_count": 281,
   "id": "8d247ba7",
   "metadata": {},
   "outputs": [
    {
     "data": {
      "text/plain": [
       "array([0., 0., 0., 0., 0., 0., 0., 0., 0., 0., 0., 0., 0., 0., 0., 0.])"
      ]
     },
     "execution_count": 281,
     "metadata": {},
     "output_type": "execute_result"
    }
   ],
   "source": [
    "y_pad[1704:1720]"
   ]
  },
  {
   "cell_type": "code",
   "execution_count": 282,
   "id": "ee36888b",
   "metadata": {},
   "outputs": [],
   "source": [
    "dd = mass.dct_dot_product(T[100: 100+batchs], Q)"
   ]
  },
  {
   "cell_type": "code",
   "execution_count": 283,
   "id": "f993fd58",
   "metadata": {},
   "outputs": [
    {
     "data": {
      "text/plain": [
       "1"
      ]
     },
     "execution_count": 283,
     "metadata": {},
     "output_type": "execute_result"
    }
   ],
   "source": [
    "len(dd)"
   ]
  },
  {
   "cell_type": "code",
   "execution_count": 284,
   "id": "535ae138",
   "metadata": {},
   "outputs": [
    {
     "data": {
      "text/plain": [
       "array([3.43395207])"
      ]
     },
     "execution_count": 284,
     "metadata": {},
     "output_type": "execute_result"
    }
   ],
   "source": [
    "dd"
   ]
  },
  {
   "cell_type": "code",
   "execution_count": 285,
   "id": "3d02b130",
   "metadata": {},
   "outputs": [],
   "source": [
    "mws = mass.movstd(T[100: 100+batchs], len(Q))"
   ]
  },
  {
   "cell_type": "code",
   "execution_count": 286,
   "id": "fec47970",
   "metadata": {},
   "outputs": [
    {
     "data": {
      "text/plain": [
       "array([0.85664947])"
      ]
     },
     "execution_count": 286,
     "metadata": {},
     "output_type": "execute_result"
    }
   ],
   "source": [
    "mws"
   ]
  },
  {
   "cell_type": "code",
   "execution_count": 287,
   "id": "3e067dc8",
   "metadata": {},
   "outputs": [],
   "source": [
    "sim = mass.dist_prof(T, Q)"
   ]
  },
  {
   "cell_type": "code",
   "execution_count": 288,
   "id": "21def54f",
   "metadata": {},
   "outputs": [
    {
     "data": {
      "text/plain": [
       "array([5.30480521e+00, 6.37445654e+00, 5.87105514e+00, ...,\n",
       "       6.71570180e+00, 5.57970759e+00, 1.19209290e-07])"
      ]
     },
     "execution_count": 288,
     "metadata": {},
     "output_type": "execute_result"
    }
   ],
   "source": [
    "sim"
   ]
  },
  {
   "cell_type": "code",
   "execution_count": 289,
   "id": "4e2e22fb",
   "metadata": {},
   "outputs": [
    {
     "data": {
      "text/plain": [
       "13230"
      ]
     },
     "execution_count": 289,
     "metadata": {},
     "output_type": "execute_result"
    }
   ],
   "source": [
    "len(sim)"
   ]
  },
  {
   "cell_type": "code",
   "execution_count": 290,
   "id": "ca1b8542",
   "metadata": {},
   "outputs": [
    {
     "data": {
      "text/plain": [
       "array([5.37235703, 6.71021055, 6.60695221, 6.75227038, 6.0720676 ,\n",
       "       6.86732007, 5.71435328, 5.28573614, 6.24288595, 6.62376356,\n",
       "       6.77980993, 4.77168346, 6.48902115, 7.13053405, 6.60715071,\n",
       "       5.17008476, 5.68362139, 6.88070133, 6.07934659, 6.57592114])"
      ]
     },
     "execution_count": 290,
     "metadata": {},
     "output_type": "execute_result"
    }
   ],
   "source": [
    "sim[10:30]"
   ]
  },
  {
   "cell_type": "code",
   "execution_count": 291,
   "id": "98725fe6",
   "metadata": {},
   "outputs": [
    {
     "data": {
      "text/plain": [
       "0"
      ]
     },
     "execution_count": 291,
     "metadata": {},
     "output_type": "execute_result"
    }
   ],
   "source": [
    "sum(np.isnan(sim))"
   ]
  },
  {
   "cell_type": "code",
   "execution_count": 292,
   "id": "2b4c4bad",
   "metadata": {},
   "outputs": [
    {
     "data": {
      "text/plain": [
       "2343"
      ]
     },
     "execution_count": 292,
     "metadata": {},
     "output_type": "execute_result"
    }
   ],
   "source": [
    "np.argmax(sim)"
   ]
  },
  {
   "cell_type": "code",
   "execution_count": 293,
   "id": "90e268d7",
   "metadata": {},
   "outputs": [
    {
     "data": {
      "text/plain": [
       "8.311029091228258"
      ]
     },
     "execution_count": 293,
     "metadata": {},
     "output_type": "execute_result"
    }
   ],
   "source": [
    "sim[2343]"
   ]
  },
  {
   "cell_type": "code",
   "execution_count": 297,
   "id": "085ab1d2",
   "metadata": {},
   "outputs": [
    {
     "data": {
      "image/png": "[encoded data removed]",
      "text/plain": [
       "<Figure size 1008x576 with 1 Axes>"
      ]
     },
     "metadata": {
      "needs_background": "light"
     },
     "output_type": "display_data"
    }
   ],
   "source": [
    "plt.figure(figsize=(14, 8))\n",
    "plt.plot(np.arange(2200, 2400), sim[2200:2400], 'o')\n",
    "plt.plot(np.arange(2200, 2400), sim[2200:2400], 'b')\n",
    "plt.show()"
   ]
  },
  {
   "cell_type": "code",
   "execution_count": 298,
   "id": "592e3e98",
   "metadata": {},
   "outputs": [],
   "source": [
    "TT = test_dfs[0]['value']"
   ]
  },
  {
   "cell_type": "code",
   "execution_count": 312,
   "id": "0d8dedc8",
   "metadata": {},
   "outputs": [],
   "source": [
    "import DAMP_V2\n",
    "reload(DAMP_V2)\n",
    "from DAMP_V2 import DAMP_V2"
   ]
  },
  {
   "cell_type": "code",
   "execution_count": 315,
   "id": "dc9d6479",
   "metadata": {},
   "outputs": [
    {
     "name": "stdout",
     "output_type": "stream",
     "text": [
      "-----------------------------------------------\n",
      "Thank you for using DAMP.\n",
      "This is version 2.0 of DAMP, please email Eamonn Keogh (eamonn@cs.ucr.edu) or Yue Lu (ylu175@ucr.edu) to make sure you have the latest version.\n",
      "This time series is of length 13249, and the subsequence length is 20\n",
      "The lookahead modified from 1000 to the next power of 2: 1024.\n",
      "Hints:\n",
      "Usually, the subsequence length you should use is between about 50 to 90% of a typical period.\n",
      "A good initial value of lookahead is about 2^nearest_power_of_two(16 times S).\n",
      "The range of lookahead should be 0 to length(T)-location_to_start_processing.\n",
      "If speed is important, you can tune lookahead to get greater speed-up in your domain.\n",
      "A simple search, doubling and halving the current value,\n",
      " should let you quickly converge on a good value.\n",
      "------------------------------------------\n",
      "\n",
      "\n",
      "Results:\n",
      "DAMP_V2 run time 0:13:09.996897\n",
      "Pruning Rate: 0.6956366874443455\n",
      "Predicted discord score/position: 4.037910347804943 / [2969]\n"
     ]
    }
   ],
   "source": [
    "damp1 = DAMP_V2({\"lookahead\": 1000, \"enable_output\": True})\n",
    "scor1, pos1, left_MP1 = damp1.DAMP_2_0(TT, 20, 2000)"
   ]
  },
  {
   "cell_type": "code",
   "execution_count": 323,
   "id": "3630d66a",
   "metadata": {},
   "outputs": [
    {
     "data": {
      "image/png": "[encoded data removed]",
      "text/plain": [
       "<Figure size 1008x576 with 1 Axes>"
      ]
     },
     "metadata": {
      "needs_background": "light"
     },
     "output_type": "display_data"
    }
   ],
   "source": [
    "plt.figure(figsize=(14, 8))\n",
    "plt.plot(np.arange(pos1[0]-200, pos1[0]+200), TT[pos1[0]-200:pos1[0]+200])\n",
    "plt.show()"
   ]
  },
  {
   "cell_type": "code",
   "execution_count": null,
   "id": "4233a9a8",
   "metadata": {},
   "outputs": [],
   "source": [
    "plt.figure(figsize=(14, 8))\n",
    "plt.plot(np.arange(pos1-200, pos1+200), left_MP1[pos1-200:pos1+200])\n",
    "plt.show()"
   ]
  },
  {
   "cell_type": "code",
   "execution_count": 303,
   "id": "f341ad1a",
   "metadata": {},
   "outputs": [
    {
     "name": "stdout",
     "output_type": "stream",
     "text": [
      "-----------------------------------------------\n",
      "Thank you for using DAMP.\n",
      "This is version 2.0 of DAMP, please email Eamonn Keogh (eamonn@cs.ucr.edu) or Yue Lu (ylu175@ucr.edu) to make sure you have the latest version.\n",
      "This time series is of length 13249, and the subsequence length is 20\n",
      "The lookahead modified from 1024 to the next power of 2: 1024.\n",
      "Hints:\n",
      "Usually, the subsequence length you should use is between about 50 to 90% of a typical period.\n",
      "A good initial value of lookahead is about 2^nearest_power_of_two(16 times S).\n",
      "The range of lookahead should be 0 to length(T)-location_to_start_processing.\n",
      "If speed is important, you can tune lookahead to get greater speed-up in your domain.\n",
      "A simple search, doubling and halving the current value,\n",
      " should let you quickly converge on a good value.\n",
      "------------------------------------------\n",
      "\n",
      "\n",
      "Results:\n",
      "DAMP_V2 run time 0:16:41.871480\n",
      "Pruning Rate: 0.4501547987616099\n",
      "Predicted discord score/position: 3.7305603582478533 / [11557]\n"
     ]
    }
   ],
   "source": [
    "scor, pos, left_MP = damp.DAMP_2_0(TT, 20, 10000)"
   ]
  },
  {
   "cell_type": "code",
   "execution_count": null,
   "id": "5868365d",
   "metadata": {},
   "outputs": [],
   "source": [
    "plt.figure(figsize=(14, 8))\n",
    "plt.plot(np.arange(pos-200, pos+200), TT[pos-200:pos+200])\n",
    "plt.show()"
   ]
  },
  {
   "cell_type": "code",
   "execution_count": 319,
   "id": "c36ef16d",
   "metadata": {},
   "outputs": [
    {
     "ename": "TypeError",
     "evalue": "only integer scalar arrays can be converted to a scalar index",
     "output_type": "error",
     "traceback": [
      "\u001b[1;31m---------------------------------------------------------------------------\u001b[0m",
      "\u001b[1;31mTypeError\u001b[0m                                 Traceback (most recent call last)",
      "\u001b[1;32m~\\AppData\\Local\\Temp/ipykernel_46292/3346778561.py\u001b[0m in \u001b[0;36m<module>\u001b[1;34m\u001b[0m\n\u001b[0;32m      1\u001b[0m \u001b[0mplt\u001b[0m\u001b[1;33m.\u001b[0m\u001b[0mfigure\u001b[0m\u001b[1;33m(\u001b[0m\u001b[0mfigsize\u001b[0m\u001b[1;33m=\u001b[0m\u001b[1;33m(\u001b[0m\u001b[1;36m14\u001b[0m\u001b[1;33m,\u001b[0m \u001b[1;36m8\u001b[0m\u001b[1;33m)\u001b[0m\u001b[1;33m)\u001b[0m\u001b[1;33m\u001b[0m\u001b[1;33m\u001b[0m\u001b[0m\n\u001b[1;32m----> 2\u001b[1;33m \u001b[0mplt\u001b[0m\u001b[1;33m.\u001b[0m\u001b[0mplot\u001b[0m\u001b[1;33m(\u001b[0m\u001b[0mnp\u001b[0m\u001b[1;33m.\u001b[0m\u001b[0marange\u001b[0m\u001b[1;33m(\u001b[0m\u001b[0mpos\u001b[0m\u001b[1;33m-\u001b[0m\u001b[1;36m200\u001b[0m\u001b[1;33m,\u001b[0m \u001b[0mpos\u001b[0m\u001b[1;33m+\u001b[0m\u001b[1;36m200\u001b[0m\u001b[1;33m)\u001b[0m\u001b[1;33m,\u001b[0m \u001b[0mleft_MP\u001b[0m\u001b[1;33m[\u001b[0m\u001b[0mpos\u001b[0m\u001b[1;33m-\u001b[0m\u001b[1;36m200\u001b[0m\u001b[1;33m:\u001b[0m\u001b[0mpos\u001b[0m\u001b[1;33m+\u001b[0m\u001b[1;36m200\u001b[0m\u001b[1;33m]\u001b[0m\u001b[1;33m)\u001b[0m\u001b[1;33m\u001b[0m\u001b[1;33m\u001b[0m\u001b[0m\n\u001b[0m\u001b[0;32m      3\u001b[0m \u001b[0mplt\u001b[0m\u001b[1;33m.\u001b[0m\u001b[0mshow\u001b[0m\u001b[1;33m(\u001b[0m\u001b[1;33m)\u001b[0m\u001b[1;33m\u001b[0m\u001b[1;33m\u001b[0m\u001b[0m\n",
      "\u001b[1;31mTypeError\u001b[0m: only integer scalar arrays can be converted to a scalar index"
     ]
    },
    {
     "data": {
      "text/plain": [
       "<Figure size 1008x576 with 0 Axes>"
      ]
     },
     "metadata": {},
     "output_type": "display_data"
    }
   ],
   "source": [
    "plt.figure(figsize=(14, 8))\n",
    "plt.plot(np.arange(pos-200, pos+200), left_MP[pos-200:pos+200])\n",
    "plt.show()"
   ]
  },
  {
   "cell_type": "code",
   "execution_count": 314,
   "id": "a5b820de",
   "metadata": {},
   "outputs": [
    {
     "name": "stdout",
     "output_type": "stream",
     "text": [
      "-----------------------------------------------\n",
      "Thank you for using DAMP.\n",
      "This is version 2.0 of DAMP, please email Eamonn Keogh (eamonn@cs.ucr.edu) or Yue Lu (ylu175@ucr.edu) to make sure you have the latest version.\n",
      "This time series is of length 13249, and the subsequence length is 20\n",
      "The lookahead modified from 1000 to the next power of 2: 1024.\n",
      "Hints:\n",
      "Usually, the subsequence length you should use is between about 50 to 90% of a typical period.\n",
      "A good initial value of lookahead is about 2^nearest_power_of_two(16 times S).\n",
      "The range of lookahead should be 0 to length(T)-location_to_start_processing.\n",
      "If speed is important, you can tune lookahead to get greater speed-up in your domain.\n",
      "A simple search, doubling and halving the current value,\n",
      " should let you quickly converge on a good value.\n",
      "------------------------------------------\n",
      "\n",
      "\n",
      "Results:\n",
      "DAMP_V2 run time 0:14:22.566749\n",
      "Pruning Rate: 0.2731707317073171\n",
      "Predicted discord score/position: 3.5489145646968137 / [12618]\n"
     ]
    }
   ],
   "source": [
    "damp3 = DAMP_V2({\"lookahead\": 1000, \"enable_output\": True})\n",
    "scor3, pos3, left_MP3 = damp3.DAMP_2_0(TT, 20, 12000)"
   ]
  },
  {
   "cell_type": "code",
   "execution_count": 316,
   "id": "ea8ceb07",
   "metadata": {},
   "outputs": [
    {
     "name": "stdout",
     "output_type": "stream",
     "text": [
      "-----------------------------------------------\n",
      "Thank you for using DAMP.\n",
      "This is version 2.0 of DAMP, please email Eamonn Keogh (eamonn@cs.ucr.edu) or Yue Lu (ylu175@ucr.edu) to make sure you have the latest version.\n",
      "This time series is of length 13249, and the subsequence length is 20\n",
      "The lookahead modified from 1000 to the next power of 2: 1024.\n",
      "Hints:\n",
      "Usually, the subsequence length you should use is between about 50 to 90% of a typical period.\n",
      "A good initial value of lookahead is about 2^nearest_power_of_two(16 times S).\n",
      "The range of lookahead should be 0 to length(T)-location_to_start_processing.\n",
      "If speed is important, you can tune lookahead to get greater speed-up in your domain.\n",
      "A simple search, doubling and halving the current value,\n",
      " should let you quickly converge on a good value.\n",
      "------------------------------------------\n",
      "\n",
      "\n",
      "Results:\n",
      "DAMP_V2 run time 0:21:18.466908\n",
      "Pruning Rate: 0.515569823434992\n",
      "Predicted discord score/position: 3.7999497376908367 / [8767]\n"
     ]
    }
   ],
   "source": [
    "damp4 = DAMP_V2({\"lookahead\": 1000, \"enable_output\": True})\n",
    "scor4, pos4, left_MP4 = damp4.DAMP_2_0(TT, 20, 7000)"
   ]
  },
  {
   "cell_type": "code",
   "execution_count": 109,
   "id": "4ebbe55d",
   "metadata": {},
   "outputs": [
    {
     "data": {
      "text/plain": [
       "2888"
      ]
     },
     "execution_count": 109,
     "metadata": {},
     "output_type": "execute_result"
    }
   ],
   "source": [
    "len(left_MP)"
   ]
  },
  {
   "cell_type": "code",
   "execution_count": 110,
   "id": "8c6612ce",
   "metadata": {},
   "outputs": [
    {
     "data": {
      "text/plain": [
       "4.825567862541175"
      ]
     },
     "execution_count": 110,
     "metadata": {},
     "output_type": "execute_result"
    }
   ],
   "source": [
    "max(left_MP)"
   ]
  },
  {
   "cell_type": "code",
   "execution_count": 111,
   "id": "77213825",
   "metadata": {},
   "outputs": [
    {
     "name": "stdout",
     "output_type": "stream",
     "text": [
      "[161]\n"
     ]
    }
   ],
   "source": [
    "max_mp = np.where(left_MP == max(left_MP))\n",
    "print(max_mp[0])"
   ]
  },
  {
   "cell_type": "code",
   "execution_count": 112,
   "id": "57c9a99c",
   "metadata": {},
   "outputs": [
    {
     "data": {
      "text/plain": [
       "4.825567862541175"
      ]
     },
     "execution_count": 112,
     "metadata": {},
     "output_type": "execute_result"
    }
   ],
   "source": [
    "left_MP[161]"
   ]
  },
  {
   "cell_type": "code",
   "execution_count": 114,
   "id": "eb86c4ad",
   "metadata": {},
   "outputs": [
    {
     "data": {
      "image/png": "[encoded data removed]",
      "text/plain": [
       "<Figure size 1008x576 with 1 Axes>"
      ]
     },
     "metadata": {
      "needs_background": "light"
     },
     "output_type": "display_data"
    }
   ],
   "source": [
    "plt.figure(figsize=(14, 8))\n",
    "plt.plot(np.arange(0, 300), left_MP[:300])\n",
    "plt.show()"
   ]
  },
  {
   "cell_type": "code",
   "execution_count": 115,
   "id": "cf443f73",
   "metadata": {},
   "outputs": [
    {
     "name": "stdout",
     "output_type": "stream",
     "text": [
      "(array([ 161,  162,  163,  164,  165,  166,  764, 1117, 1118, 2518],\n",
      "      dtype=int64),)\n"
     ]
    }
   ],
   "source": [
    "maxa = np.where(left_MP > 4.6)\n",
    "print(maxa)"
   ]
  },
  {
   "cell_type": "code",
   "execution_count": 118,
   "id": "65688bf7",
   "metadata": {},
   "outputs": [
    {
     "data": {
      "image/png": "[encoded data removed]",
      "text/plain": [
       "<Figure size 1008x576 with 1 Axes>"
      ]
     },
     "metadata": {
      "needs_background": "light"
     },
     "output_type": "display_data"
    }
   ],
   "source": [
    "plt.figure(figsize=(14, 8))\n",
    "plt.plot(np.arange(1000, 1200), left_MP[1000:1200])\n",
    "plt.show()"
   ]
  },
  {
   "cell_type": "code",
   "execution_count": 119,
   "id": "18906419",
   "metadata": {},
   "outputs": [
    {
     "data": {
      "image/png": "[encoded data removed]",
      "text/plain": [
       "<Figure size 1008x576 with 1 Axes>"
      ]
     },
     "metadata": {
      "needs_background": "light"
     },
     "output_type": "display_data"
    }
   ],
   "source": [
    "plt.figure(figsize=(14, 8))\n",
    "plt.plot(np.arange(1000, 1200), TT[1000:1200])\n",
    "plt.show()"
   ]
  },
  {
   "cell_type": "code",
   "execution_count": 413,
   "id": "7c85fc72",
   "metadata": {},
   "outputs": [],
   "source": [
    "zz = np.zeros(4)\n",
    "yy = zz.copy()"
   ]
  },
  {
   "cell_type": "code",
   "execution_count": 418,
   "id": "1718cac1",
   "metadata": {},
   "outputs": [],
   "source": [
    "yy[2:4] = 4"
   ]
  },
  {
   "cell_type": "code",
   "execution_count": 419,
   "id": "a365fb44",
   "metadata": {},
   "outputs": [
    {
     "data": {
      "text/plain": [
       "array([0., 0., 4., 4.])"
      ]
     },
     "execution_count": 419,
     "metadata": {},
     "output_type": "execute_result"
    }
   ],
   "source": [
    "yy"
   ]
  },
  {
   "cell_type": "code",
   "execution_count": 157,
   "id": "b8fc1c7e",
   "metadata": {},
   "outputs": [],
   "source": [
    "rng = pd.date_range('1/1/2023 00:00:00', periods=122, freq='1s')"
   ]
  },
  {
   "cell_type": "code",
   "execution_count": 158,
   "id": "525ce1b9",
   "metadata": {},
   "outputs": [
    {
     "data": {
      "text/plain": [
       "DatetimeIndex(['2023-01-01 00:00:00', '2023-01-01 00:00:01',\n",
       "               '2023-01-01 00:00:02', '2023-01-01 00:00:03',\n",
       "               '2023-01-01 00:00:04', '2023-01-01 00:00:05',\n",
       "               '2023-01-01 00:00:06', '2023-01-01 00:00:07',\n",
       "               '2023-01-01 00:00:08', '2023-01-01 00:00:09',\n",
       "               ...\n",
       "               '2023-01-01 00:01:52', '2023-01-01 00:01:53',\n",
       "               '2023-01-01 00:01:54', '2023-01-01 00:01:55',\n",
       "               '2023-01-01 00:01:56', '2023-01-01 00:01:57',\n",
       "               '2023-01-01 00:01:58', '2023-01-01 00:01:59',\n",
       "               '2023-01-01 00:02:00', '2023-01-01 00:02:01'],\n",
       "              dtype='datetime64[ns]', length=122, freq='S')"
      ]
     },
     "execution_count": 158,
     "metadata": {},
     "output_type": "execute_result"
    }
   ],
   "source": [
    "rng"
   ]
  },
  {
   "cell_type": "code",
   "execution_count": 159,
   "id": "6812377c",
   "metadata": {},
   "outputs": [
    {
     "data": {
      "text/plain": [
       "DatetimeIndex(['2023-01-01 00:00:00', '2023-01-01 00:00:00',\n",
       "               '2023-01-01 00:00:00', '2023-01-01 00:00:00',\n",
       "               '2023-01-01 00:00:00', '2023-01-01 00:00:00',\n",
       "               '2023-01-01 00:00:00', '2023-01-01 00:00:00',\n",
       "               '2023-01-01 00:00:00', '2023-01-01 00:00:00',\n",
       "               ...\n",
       "               '2023-01-01 00:01:00', '2023-01-01 00:01:00',\n",
       "               '2023-01-01 00:01:00', '2023-01-01 00:01:00',\n",
       "               '2023-01-01 00:01:00', '2023-01-01 00:01:00',\n",
       "               '2023-01-01 00:01:00', '2023-01-01 00:01:00',\n",
       "               '2023-01-01 00:02:00', '2023-01-01 00:02:00'],\n",
       "              dtype='datetime64[ns]', length=122, freq=None)"
      ]
     },
     "execution_count": 159,
     "metadata": {},
     "output_type": "execute_result"
    }
   ],
   "source": [
    "rng.floor('1min')"
   ]
  },
  {
   "cell_type": "code",
   "execution_count": null,
   "id": "b9f6095c",
   "metadata": {},
   "outputs": [],
   "source": []
  },
  {
   "cell_type": "code",
   "execution_count": 328,
   "id": "7f83329b",
   "metadata": {},
   "outputs": [],
   "source": [
    "from scipy import signal\n",
    "from scipy.signal import find_peaks"
   ]
  },
  {
   "cell_type": "code",
   "execution_count": 348,
   "id": "ce29d625",
   "metadata": {},
   "outputs": [],
   "source": [
    "def xcorr(ts, max_lag=3000):\n",
    "    corr = signal.correlate(ts, ts, mode=\"full\")\n",
    "    lags = signal.correlation_lags(max_lag, max_lag, mode=\"full\")\n",
    "    return corr, lags"
   ]
  },
  {
   "cell_type": "code",
   "execution_count": 391,
   "id": "b0bc21e7",
   "metadata": {},
   "outputs": [],
   "source": [
    "def find_max_peak_index(autocor, lags):\n",
    "    idx = find_peaks(autocor)[0]\n",
    "    new_corr = np.take(autocor, idx)\n",
    "    i = np.argmax(new_corr)\n",
    "    j = idx[i]\n",
    "    return lags[j]"
   ]
  },
  {
   "cell_type": "code",
   "execution_count": 343,
   "id": "4c2b9cd0",
   "metadata": {},
   "outputs": [
    {
     "data": {
      "text/plain": [
       "26498"
      ]
     },
     "execution_count": 343,
     "metadata": {},
     "output_type": "execute_result"
    }
   ],
   "source": [
    "2*len(TT)"
   ]
  },
  {
   "cell_type": "code",
   "execution_count": 394,
   "id": "3fa34f13",
   "metadata": {},
   "outputs": [],
   "source": [
    "corr, lag = xcorr(TT)"
   ]
  },
  {
   "cell_type": "code",
   "execution_count": 395,
   "id": "64f59b44",
   "metadata": {},
   "outputs": [
    {
     "name": "stdout",
     "output_type": "stream",
     "text": [
      "26497\n",
      "5999\n"
     ]
    }
   ],
   "source": [
    "print(len(corr))\n",
    "print(len(lag))"
   ]
  },
  {
   "cell_type": "code",
   "execution_count": 406,
   "id": "36c37ab9",
   "metadata": {},
   "outputs": [
    {
     "data": {
      "text/plain": [
       "-302.4702356283965"
      ]
     },
     "execution_count": 406,
     "metadata": {},
     "output_type": "execute_result"
    }
   ],
   "source": [
    "corr[len(TT)-3]"
   ]
  },
  {
   "cell_type": "code",
   "execution_count": 392,
   "id": "124cc6c1",
   "metadata": {},
   "outputs": [
    {
     "data": {
      "text/plain": [
       "array([-2.87287294, -1.69599433,  5.06407926, ...,  5.06407926,\n",
       "       -1.69599433, -2.87287294])"
      ]
     },
     "execution_count": 392,
     "metadata": {},
     "output_type": "execute_result"
    }
   ],
   "source": [
    "corr"
   ]
  },
  {
   "cell_type": "code",
   "execution_count": 410,
   "id": "006261b2",
   "metadata": {},
   "outputs": [
    {
     "name": "stdout",
     "output_type": "stream",
     "text": [
      "1.0\n"
     ]
    }
   ],
   "source": [
    "kk = np.corrcoef(TT, TT)\n",
    "print(np.max(kk))"
   ]
  },
  {
   "cell_type": "code",
   "execution_count": 408,
   "id": "046957a0",
   "metadata": {},
   "outputs": [
    {
     "data": {
      "text/plain": [
       "0        1.952409\n",
       "1        1.074625\n",
       "2       -0.856609\n",
       "3        1.027295\n",
       "4        0.832505\n",
       "           ...   \n",
       "13244    0.433680\n",
       "13245    1.401911\n",
       "13246    1.980515\n",
       "13247   -0.058767\n",
       "13248   -1.471451\n",
       "Name: value, Length: 13249, dtype: float64"
      ]
     },
     "execution_count": 408,
     "metadata": {},
     "output_type": "execute_result"
    }
   ],
   "source": [
    "TT"
   ]
  },
  {
   "cell_type": "code",
   "execution_count": null,
   "id": "8992a51e",
   "metadata": {},
   "outputs": [],
   "source": []
  },
  {
   "cell_type": "code",
   "execution_count": null,
   "id": "e6bd7443",
   "metadata": {},
   "outputs": [],
   "source": []
  },
  {
   "cell_type": "code",
   "execution_count": 393,
   "id": "4649f9fa",
   "metadata": {},
   "outputs": [
    {
     "data": {
      "text/plain": [
       "398"
      ]
     },
     "execution_count": 393,
     "metadata": {},
     "output_type": "execute_result"
    }
   ],
   "source": [
    "find_max_peak_index(corr[3010:4001], lag[3010:4001])"
   ]
  },
  {
   "cell_type": "code",
   "execution_count": 354,
   "id": "cad55110",
   "metadata": {},
   "outputs": [
    {
     "data": {
      "text/plain": [
       "array([ 1,  2,  3,  4,  5,  6,  7,  8,  9, 10, 11])"
      ]
     },
     "execution_count": 354,
     "metadata": {},
     "output_type": "execute_result"
    }
   ],
   "source": [
    "lag[3000:3011]"
   ]
  },
  {
   "cell_type": "code",
   "execution_count": 341,
   "id": "a91c0712",
   "metadata": {},
   "outputs": [
    {
     "data": {
      "text/plain": [
       "array([ -97.11039964,  -11.99811549,  -95.6456749 , -173.81098317])"
      ]
     },
     "execution_count": 341,
     "metadata": {},
     "output_type": "execute_result"
    }
   ],
   "source": [
    "corr[2998:3002]"
   ]
  },
  {
   "cell_type": "code",
   "execution_count": 360,
   "id": "ead3b46c",
   "metadata": {},
   "outputs": [],
   "source": [
    "corr_s = corr[3010:4001]"
   ]
  },
  {
   "cell_type": "code",
   "execution_count": 359,
   "id": "78f97ca9",
   "metadata": {},
   "outputs": [],
   "source": [
    "idx = find_max_peak_index(corr_s)"
   ]
  },
  {
   "cell_type": "code",
   "execution_count": 385,
   "id": "f5351c1e",
   "metadata": {},
   "outputs": [
    {
     "name": "stdout",
     "output_type": "stream",
     "text": [
      "288\n",
      "288\n"
     ]
    }
   ],
   "source": [
    "new_corr = np.take(corr_s, idx[0])\n",
    "print(len(new_corr))\n",
    "print(len(idx[0]))"
   ]
  },
  {
   "cell_type": "code",
   "execution_count": 386,
   "id": "4c9fac72",
   "metadata": {},
   "outputs": [
    {
     "data": {
      "text/plain": [
       "106"
      ]
     },
     "execution_count": 386,
     "metadata": {},
     "output_type": "execute_result"
    }
   ],
   "source": [
    "np.argmax(new_corr)"
   ]
  },
  {
   "cell_type": "code",
   "execution_count": 387,
   "id": "2530b25e",
   "metadata": {},
   "outputs": [
    {
     "data": {
      "text/plain": [
       "387"
      ]
     },
     "execution_count": 387,
     "metadata": {},
     "output_type": "execute_result"
    }
   ],
   "source": [
    "idx[0][106]"
   ]
  },
  {
   "cell_type": "code",
   "execution_count": 389,
   "id": "1ba20016",
   "metadata": {},
   "outputs": [
    {
     "data": {
      "text/plain": [
       "array([  -7.65120102,  -77.77450709,  -49.02780922,  -49.06664375,\n",
       "       -115.40926664, -144.53149682,  -76.95855061,  156.60779089,\n",
       "         -6.99363132,   -5.67394997,  -79.85209917,  -28.1578632 ,\n",
       "        -95.30584222,   16.08539082,   54.86963354])"
      ]
     },
     "execution_count": 389,
     "metadata": {},
     "output_type": "execute_result"
    }
   ],
   "source": [
    "corr_s[380:395]"
   ]
  },
  {
   "cell_type": "code",
   "execution_count": 390,
   "id": "76cbca79",
   "metadata": {},
   "outputs": [
    {
     "data": {
      "text/plain": [
       "156.60779088558968"
      ]
     },
     "execution_count": 390,
     "metadata": {},
     "output_type": "execute_result"
    }
   ],
   "source": [
    "corr_s[387]"
   ]
  },
  {
   "cell_type": "code",
   "execution_count": null,
   "id": "401c1640",
   "metadata": {},
   "outputs": [],
   "source": []
  },
  {
   "cell_type": "code",
   "execution_count": 326,
   "id": "3eea8058",
   "metadata": {
    "scrolled": true
   },
   "outputs": [
    {
     "data": {
      "text/plain": [
       "0        1.952409\n",
       "1        1.074625\n",
       "2       -0.856609\n",
       "3        1.027295\n",
       "4        0.832505\n",
       "           ...   \n",
       "13244    0.433680\n",
       "13245    1.401911\n",
       "13246    1.980515\n",
       "13247   -0.058767\n",
       "13248   -1.471451\n",
       "Name: value, Length: 13249, dtype: float64"
      ]
     },
     "execution_count": 326,
     "metadata": {},
     "output_type": "execute_result"
    }
   ],
   "source": [
    "TT"
   ]
  },
  {
   "cell_type": "code",
   "execution_count": 438,
   "id": "5ed3102e",
   "metadata": {},
   "outputs": [],
   "source": [
    "import DAMP_topK\n",
    "reload(DAMP_topK)\n",
    "from DAMP_topK import DAMP_topK"
   ]
  },
  {
   "cell_type": "code",
   "execution_count": 439,
   "id": "6de3d9d0",
   "metadata": {},
   "outputs": [],
   "source": [
    "damp_topk = DAMP_topK(enable_print=True)"
   ]
  },
  {
   "cell_type": "code",
   "execution_count": 440,
   "id": "69a29c92",
   "metadata": {
    "scrolled": true
   },
   "outputs": [
    {
     "name": "stdout",
     "output_type": "stream",
     "text": [
      "Auto subsequence length set to 398.\n",
      "Starting from index 1001, with lookahead of 1024\n",
      "Prefix handled starting.\n",
      "left_MP iteration 1001 out of 7369\n",
      "left_MP iteration 1002 out of 7369\n",
      "left_MP iteration 1003 out of 7369\n",
      "left_MP iteration 1004 out of 7369\n",
      "left_MP iteration 1005 out of 7369\n",
      "left_MP iteration 1006 out of 7369\n",
      "left_MP iteration 1007 out of 7369\n",
      "left_MP iteration 1008 out of 7369\n",
      "left_MP iteration 1009 out of 7369\n",
      "left_MP iteration 1010 out of 7369\n",
      "left_MP iteration 1011 out of 7369\n",
      "left_MP iteration 1012 out of 7369\n",
      "left_MP iteration 1013 out of 7369\n",
      "left_MP iteration 1014 out of 7369\n",
      "left_MP iteration 1015 out of 7369\n",
      "left_MP iteration 1016 out of 7369\n",
      "left_MP iteration 1017 out of 7369\n",
      "left_MP iteration 1018 out of 7369\n",
      "left_MP iteration 1019 out of 7369\n",
      "left_MP iteration 1020 out of 7369\n",
      "left_MP iteration 1021 out of 7369\n",
      "left_MP iteration 1022 out of 7369\n",
      "left_MP iteration 1023 out of 7369\n",
      "left_MP iteration 1024 out of 7369\n",
      "left_MP iteration 1025 out of 7369\n",
      "left_MP iteration 1026 out of 7369\n",
      "left_MP iteration 1027 out of 7369\n",
      "left_MP iteration 1028 out of 7369\n",
      "left_MP iteration 1029 out of 7369\n",
      "left_MP iteration 1030 out of 7369\n",
      "left_MP iteration 1031 out of 7369\n",
      "left_MP iteration 1032 out of 7369\n",
      "left_MP iteration 1033 out of 7369\n",
      "left_MP iteration 1034 out of 7369\n",
      "left_MP iteration 1035 out of 7369\n",
      "left_MP iteration 1036 out of 7369\n",
      "left_MP iteration 1037 out of 7369\n",
      "left_MP iteration 1038 out of 7369\n",
      "left_MP iteration 1039 out of 7369\n",
      "left_MP iteration 1040 out of 7369\n",
      "left_MP iteration 1041 out of 7369\n",
      "left_MP iteration 1042 out of 7369\n",
      "left_MP iteration 1043 out of 7369\n",
      "left_MP iteration 1044 out of 7369\n",
      "left_MP iteration 1045 out of 7369\n",
      "left_MP iteration 1046 out of 7369\n",
      "left_MP iteration 1047 out of 7369\n",
      "left_MP iteration 1048 out of 7369\n",
      "left_MP iteration 1049 out of 7369\n",
      "left_MP iteration 1050 out of 7369\n",
      "left_MP iteration 1051 out of 7369\n",
      "left_MP iteration 1052 out of 7369\n",
      "left_MP iteration 1053 out of 7369\n",
      "left_MP iteration 1054 out of 7369\n",
      "left_MP iteration 1055 out of 7369\n",
      "left_MP iteration 1056 out of 7369\n",
      "left_MP iteration 1057 out of 7369\n",
      "left_MP iteration 1058 out of 7369\n",
      "left_MP iteration 1059 out of 7369\n",
      "left_MP iteration 1060 out of 7369\n",
      "left_MP iteration 1061 out of 7369\n",
      "left_MP iteration 1062 out of 7369\n",
      "left_MP iteration 1063 out of 7369\n",
      "left_MP iteration 1064 out of 7369\n",
      "left_MP iteration 1065 out of 7369\n",
      "left_MP iteration 1066 out of 7369\n",
      "left_MP iteration 1067 out of 7369\n",
      "left_MP iteration 1068 out of 7369\n",
      "left_MP iteration 1069 out of 7369\n",
      "left_MP iteration 1070 out of 7369\n",
      "left_MP iteration 1071 out of 7369\n",
      "left_MP iteration 1072 out of 7369\n",
      "left_MP iteration 1073 out of 7369\n",
      "left_MP iteration 1074 out of 7369\n",
      "left_MP iteration 1075 out of 7369\n",
      "left_MP iteration 1076 out of 7369\n",
      "left_MP iteration 1077 out of 7369\n",
      "left_MP iteration 1078 out of 7369\n",
      "left_MP iteration 1079 out of 7369\n",
      "left_MP iteration 1080 out of 7369\n",
      "left_MP iteration 1081 out of 7369\n",
      "left_MP iteration 1082 out of 7369\n",
      "left_MP iteration 1083 out of 7369\n",
      "left_MP iteration 1084 out of 7369\n",
      "left_MP iteration 1085 out of 7369\n",
      "left_MP iteration 1086 out of 7369\n",
      "left_MP iteration 1087 out of 7369\n",
      "left_MP iteration 1088 out of 7369\n",
      "left_MP iteration 1089 out of 7369\n",
      "left_MP iteration 1090 out of 7369\n",
      "left_MP iteration 1091 out of 7369\n",
      "left_MP iteration 1092 out of 7369\n",
      "left_MP iteration 1093 out of 7369\n",
      "left_MP iteration 1094 out of 7369\n",
      "left_MP iteration 1095 out of 7369\n",
      "left_MP iteration 1096 out of 7369\n",
      "left_MP iteration 1097 out of 7369\n",
      "left_MP iteration 1098 out of 7369\n",
      "left_MP iteration 1099 out of 7369\n",
      "left_MP iteration 1100 out of 7369\n",
      "left_MP iteration 1101 out of 7369\n",
      "left_MP iteration 1102 out of 7369\n",
      "left_MP iteration 1103 out of 7369\n",
      "left_MP iteration 1104 out of 7369\n",
      "left_MP iteration 1105 out of 7369\n",
      "left_MP iteration 1106 out of 7369\n",
      "left_MP iteration 1107 out of 7369\n",
      "left_MP iteration 1108 out of 7369\n",
      "left_MP iteration 1109 out of 7369\n",
      "left_MP iteration 1110 out of 7369\n",
      "left_MP iteration 1111 out of 7369\n",
      "left_MP iteration 1112 out of 7369\n",
      "left_MP iteration 1113 out of 7369\n",
      "left_MP iteration 1114 out of 7369\n",
      "left_MP iteration 1115 out of 7369\n",
      "left_MP iteration 1116 out of 7369\n",
      "left_MP iteration 1117 out of 7369\n",
      "left_MP iteration 1118 out of 7369\n",
      "left_MP iteration 1119 out of 7369\n",
      "left_MP iteration 1120 out of 7369\n",
      "left_MP iteration 1121 out of 7369\n",
      "left_MP iteration 1122 out of 7369\n",
      "left_MP iteration 1123 out of 7369\n",
      "left_MP iteration 1124 out of 7369\n",
      "left_MP iteration 1125 out of 7369\n",
      "left_MP iteration 1126 out of 7369\n",
      "left_MP iteration 1127 out of 7369\n",
      "left_MP iteration 1128 out of 7369\n",
      "left_MP iteration 1129 out of 7369\n",
      "left_MP iteration 1130 out of 7369\n",
      "left_MP iteration 1131 out of 7369\n",
      "left_MP iteration 1132 out of 7369\n",
      "left_MP iteration 1133 out of 7369\n",
      "left_MP iteration 1134 out of 7369\n",
      "left_MP iteration 1135 out of 7369\n",
      "left_MP iteration 1136 out of 7369\n",
      "left_MP iteration 1137 out of 7369\n",
      "left_MP iteration 1138 out of 7369\n",
      "left_MP iteration 1139 out of 7369\n",
      "left_MP iteration 1140 out of 7369\n"
     ]
    },
    {
     "ename": "KeyboardInterrupt",
     "evalue": "",
     "output_type": "error",
     "traceback": [
      "\u001b[1;31m---------------------------------------------------------------------------\u001b[0m",
      "\u001b[1;31mKeyboardInterrupt\u001b[0m                         Traceback (most recent call last)",
      "\u001b[1;32m~\\AppData\\Local\\Temp/ipykernel_46292/658513687.py\u001b[0m in \u001b[0;36m<module>\u001b[1;34m\u001b[0m\n\u001b[1;32m----> 1\u001b[1;33m \u001b[0mdamp_topk\u001b[0m\u001b[1;33m.\u001b[0m\u001b[0mDAMP_k\u001b[0m\u001b[1;33m(\u001b[0m\u001b[0mTT\u001b[0m\u001b[1;33m,\u001b[0m \u001b[1;36m10\u001b[0m\u001b[1;33m)\u001b[0m\u001b[1;33m\u001b[0m\u001b[1;33m\u001b[0m\u001b[0m\n\u001b[0m",
      "\u001b[1;32mC:\\ALEX\\BGU\\TDA\\PROJECT\\TSAD_project\\DAMP_topK.py\u001b[0m in \u001b[0;36mDAMP_k\u001b[1;34m(self, ts, discords_num)\u001b[0m\n\u001b[0;32m     37\u001b[0m             \u001b[1;32mif\u001b[0m \u001b[1;33m(\u001b[0m\u001b[0mi\u001b[0m \u001b[1;33m+\u001b[0m \u001b[0msubseq_len\u001b[0m\u001b[1;33m)\u001b[0m \u001b[1;33m>\u001b[0m \u001b[0mN\u001b[0m\u001b[1;33m:\u001b[0m\u001b[1;33m\u001b[0m\u001b[1;33m\u001b[0m\u001b[0m\n\u001b[0;32m     38\u001b[0m                 \u001b[1;32mbreak\u001b[0m\u001b[1;33m\u001b[0m\u001b[1;33m\u001b[0m\u001b[0m\n\u001b[1;32m---> 39\u001b[1;33m             \u001b[0mleft_MP\u001b[0m\u001b[1;33m[\u001b[0m\u001b[0mi\u001b[0m\u001b[1;33m]\u001b[0m \u001b[1;33m=\u001b[0m \u001b[0mmin\u001b[0m\u001b[1;33m(\u001b[0m\u001b[0mmass_v4\u001b[0m\u001b[1;33m.\u001b[0m\u001b[0mdist_prof\u001b[0m\u001b[1;33m(\u001b[0m\u001b[0mts\u001b[0m\u001b[1;33m[\u001b[0m\u001b[1;33m:\u001b[0m\u001b[0mi\u001b[0m \u001b[1;33m+\u001b[0m \u001b[1;36m1\u001b[0m\u001b[1;33m]\u001b[0m\u001b[1;33m,\u001b[0m \u001b[0mts\u001b[0m\u001b[1;33m[\u001b[0m\u001b[0mi\u001b[0m\u001b[1;33m:\u001b[0m\u001b[0mi\u001b[0m \u001b[1;33m+\u001b[0m \u001b[0msubseq_len\u001b[0m\u001b[1;33m]\u001b[0m\u001b[1;33m)\u001b[0m\u001b[1;33m)\u001b[0m\u001b[1;33m\u001b[0m\u001b[1;33m\u001b[0m\u001b[0m\n\u001b[0m\u001b[0;32m     40\u001b[0m         \u001b[1;32mif\u001b[0m \u001b[0mself\u001b[0m\u001b[1;33m.\u001b[0m\u001b[0menable_output\u001b[0m\u001b[1;33m:\u001b[0m\u001b[1;33m\u001b[0m\u001b[1;33m\u001b[0m\u001b[0m\n\u001b[0;32m     41\u001b[0m             \u001b[0mprint\u001b[0m\u001b[1;33m(\u001b[0m\u001b[1;34m\"Prefix part 1 done.\"\u001b[0m\u001b[1;33m)\u001b[0m\u001b[1;33m\u001b[0m\u001b[1;33m\u001b[0m\u001b[0m\n",
      "\u001b[1;32mC:\\ALEX\\BGU\\TDA\\PROJECT\\TSAD_project\\MASS_V4.py\u001b[0m in \u001b[0;36mdist_prof\u001b[1;34m(self, T, Q)\u001b[0m\n\u001b[0;32m     49\u001b[0m             \u001b[1;32mif\u001b[0m \u001b[0mright\u001b[0m \u001b[1;33m>=\u001b[0m \u001b[0mn\u001b[0m\u001b[1;33m:\u001b[0m\u001b[1;33m\u001b[0m\u001b[1;33m\u001b[0m\u001b[0m\n\u001b[0;32m     50\u001b[0m                 \u001b[0mright\u001b[0m \u001b[1;33m=\u001b[0m \u001b[0mn\u001b[0m\u001b[1;33m\u001b[0m\u001b[1;33m\u001b[0m\u001b[0m\n\u001b[1;32m---> 51\u001b[1;33m             \u001b[0mdot_p\u001b[0m \u001b[1;33m=\u001b[0m \u001b[0mself\u001b[0m\u001b[1;33m.\u001b[0m\u001b[0mdct_dot_product\u001b[0m\u001b[1;33m(\u001b[0m\u001b[0mT\u001b[0m\u001b[1;33m[\u001b[0m\u001b[0mj\u001b[0m\u001b[1;33m:\u001b[0m\u001b[0mright\u001b[0m\u001b[1;33m]\u001b[0m\u001b[1;33m,\u001b[0m \u001b[0mQ\u001b[0m\u001b[1;33m)\u001b[0m\u001b[1;33m\u001b[0m\u001b[1;33m\u001b[0m\u001b[0m\n\u001b[0m\u001b[0;32m     52\u001b[0m             \u001b[0msigmaT\u001b[0m \u001b[1;33m=\u001b[0m \u001b[0mself\u001b[0m\u001b[1;33m.\u001b[0m\u001b[0mmovstd\u001b[0m\u001b[1;33m(\u001b[0m\u001b[0mT\u001b[0m\u001b[1;33m[\u001b[0m\u001b[0mj\u001b[0m\u001b[1;33m:\u001b[0m\u001b[0mright\u001b[0m\u001b[1;33m]\u001b[0m\u001b[1;33m,\u001b[0m \u001b[0mm\u001b[0m\u001b[1;33m)\u001b[0m  \u001b[1;31m# in Matlab they use w=1 such that normalized N and not N-1\u001b[0m\u001b[1;33m\u001b[0m\u001b[1;33m\u001b[0m\u001b[0m\n\u001b[0;32m     53\u001b[0m             \u001b[1;31m# sigmaT[np.isnan(sigmaT)] = 1.0  # consider making NaN values to 1.0, if appear any\u001b[0m\u001b[1;33m\u001b[0m\u001b[1;33m\u001b[0m\u001b[0m\n",
      "\u001b[1;32mC:\\ALEX\\BGU\\TDA\\PROJECT\\TSAD_project\\MASS_V4.py\u001b[0m in \u001b[0;36mdct_dot_product\u001b[1;34m(self, x, y)\u001b[0m\n\u001b[0;32m     77\u001b[0m         \u001b[0mx_pad\u001b[0m\u001b[1;33m,\u001b[0m \u001b[0my_pad\u001b[0m\u001b[1;33m,\u001b[0m \u001b[0msi\u001b[0m \u001b[1;33m=\u001b[0m \u001b[0mself\u001b[0m\u001b[1;33m.\u001b[0m\u001b[0mdct_padding\u001b[0m\u001b[1;33m(\u001b[0m\u001b[0mx\u001b[0m\u001b[1;33m,\u001b[0m \u001b[0my\u001b[0m\u001b[1;33m)\u001b[0m\u001b[1;33m\u001b[0m\u001b[1;33m\u001b[0m\u001b[0m\n\u001b[0;32m     78\u001b[0m         \u001b[0mN\u001b[0m \u001b[1;33m=\u001b[0m \u001b[0mlen\u001b[0m\u001b[1;33m(\u001b[0m\u001b[0mx_pad\u001b[0m\u001b[1;33m)\u001b[0m\u001b[1;33m\u001b[0m\u001b[1;33m\u001b[0m\u001b[0m\n\u001b[1;32m---> 79\u001b[1;33m         \u001b[0mxc\u001b[0m \u001b[1;33m=\u001b[0m \u001b[0mdct\u001b[0m\u001b[1;33m(\u001b[0m\u001b[0mx_pad\u001b[0m\u001b[1;33m,\u001b[0m \u001b[0mtype\u001b[0m\u001b[1;33m=\u001b[0m\u001b[1;36m2\u001b[0m\u001b[1;33m,\u001b[0m \u001b[0mnorm\u001b[0m\u001b[1;33m=\u001b[0m\u001b[1;34m\"ortho\"\u001b[0m\u001b[1;33m)\u001b[0m  \u001b[1;31m# From SciPy Note: need orthogonalize=False , but doesn't exist\u001b[0m\u001b[1;33m\u001b[0m\u001b[1;33m\u001b[0m\u001b[0m\n\u001b[0m\u001b[0;32m     80\u001b[0m         \u001b[0myc\u001b[0m \u001b[1;33m=\u001b[0m \u001b[0mdct\u001b[0m\u001b[1;33m(\u001b[0m\u001b[0my_pad\u001b[0m\u001b[1;33m,\u001b[0m \u001b[0mtype\u001b[0m\u001b[1;33m=\u001b[0m\u001b[1;36m2\u001b[0m\u001b[1;33m,\u001b[0m \u001b[0mnorm\u001b[0m\u001b[1;33m=\u001b[0m\u001b[1;34m\"ortho\"\u001b[0m\u001b[1;33m)\u001b[0m\u001b[1;33m\u001b[0m\u001b[1;33m\u001b[0m\u001b[0m\n\u001b[0;32m     81\u001b[0m         \u001b[0mdct_product\u001b[0m \u001b[1;33m=\u001b[0m \u001b[0mnp\u001b[0m\u001b[1;33m.\u001b[0m\u001b[0mmultiply\u001b[0m\u001b[1;33m(\u001b[0m\u001b[0mxc\u001b[0m\u001b[1;33m,\u001b[0m \u001b[0myc\u001b[0m\u001b[1;33m)\u001b[0m\u001b[1;33m\u001b[0m\u001b[1;33m\u001b[0m\u001b[0m\n",
      "\u001b[1;32mC:\\ProgramData\\Anaconda3_64bit\\lib\\site-packages\\scipy\\fft\\_backend.py\u001b[0m in \u001b[0;36m__ua_function__\u001b[1;34m(method, args, kwargs)\u001b[0m\n\u001b[0;32m     21\u001b[0m         \u001b[1;32mif\u001b[0m \u001b[0mfn\u001b[0m \u001b[1;32mis\u001b[0m \u001b[1;32mNone\u001b[0m\u001b[1;33m:\u001b[0m\u001b[1;33m\u001b[0m\u001b[1;33m\u001b[0m\u001b[0m\n\u001b[0;32m     22\u001b[0m             \u001b[1;32mreturn\u001b[0m \u001b[0mNotImplemented\u001b[0m\u001b[1;33m\u001b[0m\u001b[1;33m\u001b[0m\u001b[0m\n\u001b[1;32m---> 23\u001b[1;33m         \u001b[1;32mreturn\u001b[0m \u001b[0mfn\u001b[0m\u001b[1;33m(\u001b[0m\u001b[1;33m*\u001b[0m\u001b[0margs\u001b[0m\u001b[1;33m,\u001b[0m \u001b[1;33m**\u001b[0m\u001b[0mkwargs\u001b[0m\u001b[1;33m)\u001b[0m\u001b[1;33m\u001b[0m\u001b[1;33m\u001b[0m\u001b[0m\n\u001b[0m\u001b[0;32m     24\u001b[0m \u001b[1;33m\u001b[0m\u001b[0m\n\u001b[0;32m     25\u001b[0m \u001b[1;33m\u001b[0m\u001b[0m\n",
      "\u001b[1;32mC:\\ProgramData\\Anaconda3_64bit\\lib\\site-packages\\scipy\\fft\\_pocketfft\\realtransforms.py\u001b[0m in \u001b[0;36m_r2r\u001b[1;34m(forward, transform, x, type, n, axis, norm, overwrite_x, workers)\u001b[0m\n\u001b[0;32m     44\u001b[0m         \u001b[1;32mreturn\u001b[0m \u001b[0mout\u001b[0m\u001b[1;33m\u001b[0m\u001b[1;33m\u001b[0m\u001b[0m\n\u001b[0;32m     45\u001b[0m \u001b[1;33m\u001b[0m\u001b[0m\n\u001b[1;32m---> 46\u001b[1;33m     \u001b[1;32mreturn\u001b[0m \u001b[0mtransform\u001b[0m\u001b[1;33m(\u001b[0m\u001b[0mtmp\u001b[0m\u001b[1;33m,\u001b[0m \u001b[0mtype\u001b[0m\u001b[1;33m,\u001b[0m \u001b[1;33m(\u001b[0m\u001b[0maxis\u001b[0m\u001b[1;33m,\u001b[0m\u001b[1;33m)\u001b[0m\u001b[1;33m,\u001b[0m \u001b[0mnorm\u001b[0m\u001b[1;33m,\u001b[0m \u001b[0mout\u001b[0m\u001b[1;33m,\u001b[0m \u001b[0mworkers\u001b[0m\u001b[1;33m)\u001b[0m\u001b[1;33m\u001b[0m\u001b[1;33m\u001b[0m\u001b[0m\n\u001b[0m\u001b[0;32m     47\u001b[0m \u001b[1;33m\u001b[0m\u001b[0m\n\u001b[0;32m     48\u001b[0m \u001b[1;33m\u001b[0m\u001b[0m\n",
      "\u001b[1;31mKeyboardInterrupt\u001b[0m: "
     ]
    }
   ],
   "source": [
    "damp_topk.DAMP_k(TT, 10)"
   ]
  },
  {
   "cell_type": "code",
   "execution_count": null,
   "id": "0b7536c9",
   "metadata": {},
   "outputs": [],
   "source": []
  },
  {
   "cell_type": "code",
   "execution_count": null,
   "id": "bb941dde",
   "metadata": {},
   "outputs": [],
   "source": []
  },
  {
   "cell_type": "code",
   "execution_count": null,
   "id": "adb8cc6a",
   "metadata": {},
   "outputs": [],
   "source": []
  },
  {
   "cell_type": "code",
   "execution_count": null,
   "id": "215c70b8",
   "metadata": {},
   "outputs": [],
   "source": []
  },
  {
   "cell_type": "code",
   "execution_count": null,
   "id": "340c22fb",
   "metadata": {},
   "outputs": [],
   "source": []
  },
  {
   "cell_type": "code",
   "execution_count": null,
   "id": "11d0092c",
   "metadata": {},
   "outputs": [],
   "source": []
  },
  {
   "cell_type": "code",
   "execution_count": null,
   "id": "a0cfb29c",
   "metadata": {},
   "outputs": [],
   "source": []
  },
  {
   "cell_type": "code",
   "execution_count": null,
   "id": "86b4be99",
   "metadata": {},
   "outputs": [],
   "source": []
  }
 ],
 "metadata": {
  "kernelspec": {
   "display_name": "Python 3 (ipykernel)",
   "language": "python",
   "name": "python3"
  },
  "language_info": {
   "codemirror_mode": {
    "name": "ipython",
    "version": 3
   },
   "file_extension": ".py",
   "mimetype": "text/x-python",
   "name": "python",
   "nbconvert_exporter": "python",
   "pygments_lexer": "ipython3",
   "version": "3.9.7"
  }
 },
 "nbformat": 4,
 "nbformat_minor": 5
}
