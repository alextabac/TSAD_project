{
 "cells": [
  {
   "cell_type": "markdown",
   "id": "b23f1fd8",
   "metadata": {},
   "source": [
    "## Author: Alexandru Paul Tabacaru  ;  alextabac@gmail.com\n",
    "## MIT License"
   ]
  },
  {
   "cell_type": "code",
   "execution_count": 116,
   "id": "8494ea76",
   "metadata": {},
   "outputs": [],
   "source": [
    "import pandas as pd\n",
    "import numpy as np\n",
    "from math import floor\n",
    "import scipy.stats as stats\n",
    "import os\n",
    "import json\n",
    "import random\n",
    "from sklearn.model_selection import train_test_split\n",
    "from pandas_profiling import ProfileReport\n",
    "from datetime import datetime\n",
    "from collections import deque\n",
    "from MASS_V4 import MASS_V4\n",
    "# from importlib import reload"
   ]
  },
  {
   "cell_type": "markdown",
   "id": "ceb7fdd2",
   "metadata": {},
   "source": [
    "## Paths and Data Files"
   ]
  },
  {
   "cell_type": "code",
   "execution_count": 2,
   "id": "b80de29a",
   "metadata": {},
   "outputs": [
    {
     "data": {
      "text/plain": [
       "'C:\\\\ALEX\\\\BGU\\\\TDA\\\\PROJECT\\\\TSAD_project'"
      ]
     },
     "execution_count": 2,
     "metadata": {},
     "output_type": "execute_result"
    }
   ],
   "source": [
    "os.getcwd()"
   ]
  },
  {
   "cell_type": "code",
   "execution_count": 3,
   "id": "32714825",
   "metadata": {},
   "outputs": [],
   "source": [
    "data_path = \"..\\\\..\\\\sensors_data\"\n",
    "data_folder = os.path.join(os.getcwd(), data_path)\n",
    "files1 = os.listdir(data_folder)\n",
    "files2 = [os.path.join(data_folder, f) for f in files1 if f.endswith(\"_trim.tab\")]\n",
    "files = [f for f in files2 if os.path.isfile(f)]\n",
    "delimiter = \"\\t\""
   ]
  },
  {
   "cell_type": "code",
   "execution_count": 4,
   "id": "d47b1392",
   "metadata": {},
   "outputs": [
    {
     "data": {
      "text/plain": [
       "['C:\\\\ALEX\\\\BGU\\\\TDA\\\\PROJECT\\\\TSAD_project\\\\..\\\\..\\\\sensors_data\\\\fdc_F28_PROD_XEUS_trim.tab']"
      ]
     },
     "execution_count": 4,
     "metadata": {},
     "output_type": "execute_result"
    }
   ],
   "source": [
    "files"
   ]
  },
  {
   "cell_type": "markdown",
   "id": "515ecdde",
   "metadata": {},
   "source": [
    "## Equipment digits explained:\n",
    "### first digit is the XEUS NOD number:  1, 2, 3, or 4 otherwise\n",
    "### second digit is the SITE within the NOD: 0, 1, 2.\n",
    "### third digit is the entity number: 0 to 6 at most\n",
    "### fourth digit is the side of the entity:  0 or 1"
   ]
  },
  {
   "cell_type": "code",
   "execution_count": 5,
   "id": "c4e72d7f",
   "metadata": {},
   "outputs": [],
   "source": [
    "class Data_Preprocess:\n",
    "    \"\"\"\n",
    "    Raw data is aggregated over 1hr time window, and each 1hr will be represented by mean/std-dev.\n",
    "    \"\"\"\n",
    "    \n",
    "    def __init__(self):\n",
    "        self.df = None\n",
    "        self.dfs = []\n",
    "        \n",
    "    def load_data(self, filename, delimiter):\n",
    "        df = pd.read_csv(filename, delimiter=delimiter)\n",
    "        print(f\"File loaded with {len(df)} rows.\")\n",
    "        all_cols = True\n",
    "        needed_cols = ['RUN_START_DATE', 'Equip', 'Feature', 'PREP_VALUE']\n",
    "        cols = list(df.columns)\n",
    "        miss_cols = []\n",
    "        for col in needed_cols:\n",
    "            if col not in cols:\n",
    "                all_cols = False\n",
    "                miss_cols.append(col)\n",
    "        if len(miss_cols) > 0:\n",
    "            print(\"Cound not find the following columns: \" + \",\".join(miss_cols))\n",
    "        if all_cols:\n",
    "            df['RUN_START_DATE'] = pd.to_datetime(df['RUN_START_DATE'])\n",
    "            df = df.sort_values('RUN_START_DATE')\n",
    "            df.insert(0, 'time', df['RUN_START_DATE'].dt.floor('H'))\n",
    "            df['mean'] = df.groupby(['Equip', 'Feature'], as_index=False)['PREP_VALUE'].transform('mean')\n",
    "            df['std'] = df.groupby(['Equip', 'Feature'], as_index=False)['PREP_VALUE'].transform('std')\n",
    "            df['norm'] = (df['PREP_VALUE'] - df['mean']) / df['std']\n",
    "            df = df.drop(['PREP_VALUE', 'mean', 'std'], axis=1)\n",
    "            df = df.groupby(['time', 'RUN_START_WW', 'Equip', 'Feature'], as_index=False)['norm'].\\\n",
    "             agg(['mean', 'std']).reset_index().fillna(0)\n",
    "            df = df.melt(id_vars=['time', 'RUN_START_WW', 'Equip', 'Feature'], value_vars=['mean', 'std'])\n",
    "            df['series'] = df['Feature'] + \"_\" + df['variable']\n",
    "            df = df.drop(['Feature', 'variable'], axis=1)\n",
    "            self.df = df\n",
    "    \n",
    "    def prepare_series(self):\n",
    "        self.df['key'] = self.df['Equip'] + \"_\" + self.df['series']\n",
    "        uniq_keys = self.df['key'].unique()\n",
    "        dfs = []\n",
    "        for ukey in uniq_keys:\n",
    "            print(f\"Preparing key series {ukey} ...\")\n",
    "            ddf = self.df[self.df['key'] == ukey]\n",
    "            ddf = ddf.sort_values(by=['series', 'Equip', 'time'], ascending=[True, True, True])\n",
    "            ddf = ddf.reset_index(drop=True)\n",
    "            ddf_list = []\n",
    "            self.recur_split_series_no_multi_clusters(ukey, ddf, ddf_list, ave_size=20, threshold=1.8)\n",
    "            for ddfl in ddf_list:\n",
    "                ddfl = ddfl.sort_values(by=['series', 'Equip', 'time'], ascending=[True, True, True])\n",
    "                ddfl = ddfl.reset_index(drop=True)\n",
    "                m = np.mean(ddfl['value'])\n",
    "                s = np.std(ddfl['value'])\n",
    "                ddfl['norm'] = (ddfl['value'] - m) / s\n",
    "                ddfl = ddfl.drop(['value'], axis=1)\n",
    "                dfs.append(ddfl)\n",
    "        self.dfs = dfs\n",
    "    \n",
    "    def recur_split_series_no_multi_clusters(self, ukey, df, ddf_list, ave_size=10, threshold=1.5):\n",
    "        delta, indx = self.get_series_split_max_distance(df, ave_size=ave_size)\n",
    "        if delta > threshold:\n",
    "            print(f\"Found two clusters or more and need split, in dataset {ukey}, indx {indx}, delta {delta}.\")\n",
    "            self.recur_split_series_no_multi_clusters(ukey, df[indx:], ddf_list, ave_size, threshold)\n",
    "            self.recur_split_series_no_multi_clusters(ukey, df[:indx], ddf_list, ave_size, threshold)\n",
    "        ddf_list.append(df)\n",
    "        \n",
    "    def get_series_split_max_distance(self, df, ave_size=10):\n",
    "        delta = 0\n",
    "        ki = 0\n",
    "        for i in range(ave_size, len(df) - ave_size):\n",
    "            k1 = np.mean(df[(i-ave_size+1):i]['value'].values)\n",
    "            k2 = np.mean(df[i:(i+ave_size-1)]['value'].values)\n",
    "            d = abs(k1 - k2)\n",
    "            if d > delta:\n",
    "                delta = d\n",
    "                ki = i\n",
    "        return delta, ki\n",
    "    \n",
    "    "
   ]
  },
  {
   "cell_type": "code",
   "execution_count": 6,
   "id": "a220f48c",
   "metadata": {},
   "outputs": [
    {
     "name": "stdout",
     "output_type": "stream",
     "text": [
      "File loaded with 11568827 rows.\n"
     ]
    }
   ],
   "source": [
    "data_obj = Data_Preprocess()\n",
    "data_obj.load_data(files[0], delimiter)"
   ]
  },
  {
   "cell_type": "code",
   "execution_count": 7,
   "id": "d0f80bb3",
   "metadata": {},
   "outputs": [
    {
     "data": {
      "text/plain": [
       "892868"
      ]
     },
     "execution_count": 7,
     "metadata": {},
     "output_type": "execute_result"
    }
   ],
   "source": [
    "len(data_obj.df)"
   ]
  },
  {
   "cell_type": "code",
   "execution_count": 8,
   "id": "59aaadd8",
   "metadata": {
    "scrolled": true
   },
   "outputs": [
    {
     "name": "stdout",
     "output_type": "stream",
     "text": [
      "Preparing key series Equip2000_Feature2_mean ...\n",
      "Preparing key series Equip2000_Feature5_mean ...\n",
      "Preparing key series Equip2000_Feature6_mean ...\n",
      "Preparing key series Equip2000_Feature7_mean ...\n",
      "Preparing key series Equip2000_Feature8_mean ...\n",
      "Preparing key series Equip2001_Feature2_mean ...\n",
      "Preparing key series Equip2001_Feature5_mean ...\n",
      "Preparing key series Equip2001_Feature6_mean ...\n",
      "Preparing key series Equip2001_Feature7_mean ...\n",
      "Preparing key series Equip2001_Feature8_mean ...\n",
      "Preparing key series Equip2010_Feature0_mean ...\n",
      "Found two clusters or more and need split, in dataset Equip2010_Feature0_mean, indx 2909, delta 3.273769076852412.\n",
      "Found two clusters or more and need split, in dataset Equip2010_Feature0_mean, indx 2888, delta 2.4586883267019286.\n",
      "Preparing key series Equip2010_Feature1_mean ...\n",
      "Preparing key series Equip2010_Feature2_mean ...\n",
      "Preparing key series Equip2010_Feature3_mean ...\n",
      "Found two clusters or more and need split, in dataset Equip2010_Feature3_mean, indx 2891, delta 2.289771506373983.\n",
      "Preparing key series Equip2010_Feature4_mean ...\n",
      "Preparing key series Equip2010_Feature5_mean ...\n",
      "Preparing key series Equip2010_Feature6_mean ...\n",
      "Preparing key series Equip2010_Feature7_mean ...\n",
      "Preparing key series Equip2010_Feature8_mean ...\n",
      "Preparing key series Equip2010_Feature9_mean ...\n",
      "Found two clusters or more and need split, in dataset Equip2010_Feature9_mean, indx 2891, delta 2.631428520819261.\n",
      "Found two clusters or more and need split, in dataset Equip2010_Feature9_mean, indx 22, delta 2.3842534566546876.\n",
      "Preparing key series Equip2011_Feature0_mean ...\n",
      "Preparing key series Equip2011_Feature1_mean ...\n",
      "Preparing key series Equip2011_Feature2_mean ...\n",
      "Preparing key series Equip2011_Feature3_mean ...\n",
      "Found two clusters or more and need split, in dataset Equip2011_Feature3_mean, indx 1244, delta 2.799895326869117.\n",
      "Found two clusters or more and need split, in dataset Equip2011_Feature3_mean, indx 561, delta 2.250155116932293.\n",
      "Found two clusters or more and need split, in dataset Equip2011_Feature3_mean, indx 513, delta 1.9087375901371297.\n",
      "Found two clusters or more and need split, in dataset Equip2011_Feature3_mean, indx 1223, delta 2.386824897922879.\n",
      "Preparing key series Equip2011_Feature4_mean ...\n",
      "Preparing key series Equip2011_Feature5_mean ...\n",
      "Preparing key series Equip2011_Feature6_mean ...\n",
      "Preparing key series Equip2011_Feature7_mean ...\n",
      "Preparing key series Equip2011_Feature8_mean ...\n",
      "Preparing key series Equip2011_Feature9_mean ...\n",
      "Preparing key series Equip2030_Feature0_mean ...\n",
      "Preparing key series Equip2030_Feature1_mean ...\n",
      "Found two clusters or more and need split, in dataset Equip2030_Feature1_mean, indx 3209, delta 1.8959107039233587.\n",
      "Preparing key series Equip2030_Feature3_mean ...\n",
      "Preparing key series Equip2030_Feature4_mean ...\n",
      "Preparing key series Equip2030_Feature9_mean ...\n",
      "Preparing key series Equip2031_Feature0_mean ...\n",
      "Preparing key series Equip2031_Feature1_mean ...\n",
      "Preparing key series Equip2031_Feature3_mean ...\n",
      "Found two clusters or more and need split, in dataset Equip2031_Feature3_mean, indx 2237, delta 7.951519549564531.\n",
      "Found two clusters or more and need split, in dataset Equip2031_Feature3_mean, indx 20, delta 7.951519549564531.\n",
      "Preparing key series Equip2031_Feature4_mean ...\n",
      "Preparing key series Equip2031_Feature9_mean ...\n",
      "Preparing key series Equip2050_Feature0_mean ...\n",
      "Preparing key series Equip2050_Feature1_mean ...\n",
      "Found two clusters or more and need split, in dataset Equip2050_Feature1_mean, indx 3165, delta 1.9759514299652525.\n",
      "Preparing key series Equip2050_Feature2_mean ...\n",
      "Preparing key series Equip2050_Feature3_mean ...\n",
      "Found two clusters or more and need split, in dataset Equip2050_Feature3_mean, indx 22, delta 2.880438036647898.\n",
      "Found two clusters or more and need split, in dataset Equip2050_Feature3_mean, indx 396, delta 2.125644020388675.\n",
      "Found two clusters or more and need split, in dataset Equip2050_Feature3_mean, indx 340, delta 2.077370558215266.\n",
      "Found two clusters or more and need split, in dataset Equip2050_Feature3_mean, indx 108, delta 1.8248545932158007.\n",
      "Preparing key series Equip2050_Feature4_mean ...\n",
      "Preparing key series Equip2050_Feature5_mean ...\n",
      "Preparing key series Equip2050_Feature6_mean ...\n",
      "Preparing key series Equip2050_Feature7_mean ...\n",
      "Preparing key series Equip2050_Feature8_mean ...\n",
      "Preparing key series Equip2050_Feature9_mean ...\n",
      "Preparing key series Equip2051_Feature0_mean ...\n",
      "Preparing key series Equip2051_Feature1_mean ...\n",
      "Found two clusters or more and need split, in dataset Equip2051_Feature1_mean, indx 1409, delta 2.2085088848455863.\n",
      "Found two clusters or more and need split, in dataset Equip2051_Feature1_mean, indx 400, delta 1.8022463378014337.\n",
      "Preparing key series Equip2051_Feature2_mean ...\n",
      "Preparing key series Equip2051_Feature3_mean ...\n",
      "Preparing key series Equip2051_Feature4_mean ...\n",
      "Preparing key series Equip2051_Feature5_mean ...\n",
      "Preparing key series Equip2051_Feature6_mean ...\n",
      "Preparing key series Equip2051_Feature7_mean ...\n",
      "Preparing key series Equip2051_Feature8_mean ...\n",
      "Preparing key series Equip2051_Feature9_mean ...\n",
      "Preparing key series Equip2060_Feature0_mean ...\n",
      "Preparing key series Equip2060_Feature1_mean ...\n",
      "Preparing key series Equip2060_Feature2_mean ...\n",
      "Preparing key series Equip2060_Feature3_mean ...\n",
      "Preparing key series Equip2060_Feature4_mean ...\n",
      "Preparing key series Equip2060_Feature5_mean ...\n",
      "Preparing key series Equip2060_Feature6_mean ...\n",
      "Preparing key series Equip2060_Feature7_mean ...\n",
      "Preparing key series Equip2060_Feature8_mean ...\n",
      "Preparing key series Equip2060_Feature9_mean ...\n",
      "Preparing key series Equip2061_Feature0_mean ...\n",
      "Found two clusters or more and need split, in dataset Equip2061_Feature0_mean, indx 2262, delta 1.9427511402169328.\n",
      "Preparing key series Equip2061_Feature1_mean ...\n",
      "Found two clusters or more and need split, in dataset Equip2061_Feature1_mean, indx 1126, delta 2.0089172438280833.\n",
      "Preparing key series Equip2061_Feature2_mean ...\n",
      "Preparing key series Equip2061_Feature3_mean ...\n",
      "Found two clusters or more and need split, in dataset Equip2061_Feature3_mean, indx 2217, delta 5.857723787751141.\n",
      "Found two clusters or more and need split, in dataset Equip2061_Feature3_mean, indx 2194, delta 4.3186070077748795.\n",
      "Preparing key series Equip2061_Feature4_mean ...\n",
      "Preparing key series Equip2061_Feature5_mean ...\n",
      "Preparing key series Equip2061_Feature6_mean ...\n",
      "Preparing key series Equip2061_Feature7_mean ...\n",
      "Preparing key series Equip2061_Feature8_mean ...\n",
      "Preparing key series Equip2061_Feature9_mean ...\n",
      "Preparing key series Equip2000_Feature0_mean ...\n",
      "Found two clusters or more and need split, in dataset Equip2000_Feature0_mean, indx 565, delta 2.485304186805794.\n",
      "Preparing key series Equip2000_Feature1_mean ...\n",
      "Found two clusters or more and need split, in dataset Equip2000_Feature1_mean, indx 1395, delta 2.1140040992914586.\n",
      "Found two clusters or more and need split, in dataset Equip2000_Feature1_mean, indx 1327, delta 1.8101970651500405.\n",
      "Found two clusters or more and need split, in dataset Equip2000_Feature1_mean, indx 633, delta 1.9718498992313265.\n",
      "Preparing key series Equip2000_Feature3_mean ...\n",
      "Preparing key series Equip2000_Feature4_mean ...\n",
      "Preparing key series Equip2000_Feature9_mean ...\n",
      "Found two clusters or more and need split, in dataset Equip2000_Feature9_mean, indx 565, delta 2.490295367053798.\n",
      "Preparing key series Equip2001_Feature0_mean ...\n",
      "Found two clusters or more and need split, in dataset Equip2001_Feature0_mean, indx 565, delta 1.8544776040708524.\n",
      "Preparing key series Equip2001_Feature1_mean ...\n",
      "Found two clusters or more and need split, in dataset Equip2001_Feature1_mean, indx 1255, delta 2.138420562393023.\n",
      "Found two clusters or more and need split, in dataset Equip2001_Feature1_mean, indx 1366, delta 1.8306126124817783.\n",
      "Found two clusters or more and need split, in dataset Equip2001_Feature1_mean, indx 142, delta 1.8056959946275144.\n",
      "Preparing key series Equip2001_Feature3_mean ...\n",
      "Found two clusters or more and need split, in dataset Equip2001_Feature3_mean, indx 712, delta 2.107143298442398.\n",
      "Found two clusters or more and need split, in dataset Equip2001_Feature3_mean, indx 691, delta 1.907688166628702.\n",
      "Preparing key series Equip2001_Feature4_mean ...\n"
     ]
    },
    {
     "name": "stdout",
     "output_type": "stream",
     "text": [
      "Preparing key series Equip2001_Feature9_mean ...\n",
      "Preparing key series Equip2020_Feature0_mean ...\n",
      "Found two clusters or more and need split, in dataset Equip2020_Feature0_mean, indx 377, delta 4.044147563764092.\n",
      "Preparing key series Equip2020_Feature1_mean ...\n",
      "Found two clusters or more and need split, in dataset Equip2020_Feature1_mean, indx 357, delta 6.437874497983519.\n",
      "Found two clusters or more and need split, in dataset Equip2020_Feature1_mean, indx 20, delta 6.35043766542879.\n",
      "Preparing key series Equip2020_Feature2_mean ...\n",
      "Preparing key series Equip2020_Feature3_mean ...\n",
      "Found two clusters or more and need split, in dataset Equip2020_Feature3_mean, indx 357, delta 6.063637492193319.\n",
      "Found two clusters or more and need split, in dataset Equip2020_Feature3_mean, indx 37, delta 5.102636636922242.\n",
      "Preparing key series Equip2020_Feature4_mean ...\n",
      "Preparing key series Equip2020_Feature5_mean ...\n",
      "Preparing key series Equip2020_Feature6_mean ...\n",
      "Preparing key series Equip2020_Feature7_mean ...\n",
      "Preparing key series Equip2020_Feature8_mean ...\n",
      "Preparing key series Equip2020_Feature9_mean ...\n",
      "Found two clusters or more and need split, in dataset Equip2020_Feature9_mean, indx 375, delta 5.570550430693876.\n",
      "Found two clusters or more and need split, in dataset Equip2020_Feature9_mean, indx 205, delta 2.0151468911855.\n",
      "Preparing key series Equip2021_Feature0_mean ...\n",
      "Found two clusters or more and need split, in dataset Equip2021_Feature0_mean, indx 377, delta 4.299795909995148.\n",
      "Preparing key series Equip2021_Feature1_mean ...\n",
      "Found two clusters or more and need split, in dataset Equip2021_Feature1_mean, indx 376, delta 6.675779336638009.\n",
      "Preparing key series Equip2021_Feature2_mean ...\n",
      "Preparing key series Equip2021_Feature3_mean ...\n",
      "Found two clusters or more and need split, in dataset Equip2021_Feature3_mean, indx 359, delta 6.353223076647211.\n",
      "Found two clusters or more and need split, in dataset Equip2021_Feature3_mean, indx 20, delta 6.353223076647211.\n",
      "Preparing key series Equip2021_Feature4_mean ...\n",
      "Found two clusters or more and need split, in dataset Equip2021_Feature4_mean, indx 387, delta 2.9089259800719507.\n",
      "Found two clusters or more and need split, in dataset Equip2021_Feature4_mean, indx 365, delta 2.5918095695080776.\n",
      "Preparing key series Equip2021_Feature5_mean ...\n",
      "Preparing key series Equip2021_Feature6_mean ...\n",
      "Preparing key series Equip2021_Feature7_mean ...\n",
      "Found two clusters or more and need split, in dataset Equip2021_Feature7_mean, indx 1900, delta 2.074978369848317.\n",
      "Found two clusters or more and need split, in dataset Equip2021_Feature7_mean, indx 1878, delta 1.851236354413572.\n",
      "Preparing key series Equip2021_Feature8_mean ...\n",
      "Preparing key series Equip2021_Feature9_mean ...\n",
      "Found two clusters or more and need split, in dataset Equip2021_Feature9_mean, indx 375, delta 3.3948055800574926.\n",
      "Preparing key series Equip2040_Feature0_mean ...\n",
      "Found two clusters or more and need split, in dataset Equip2040_Feature0_mean, indx 2948, delta 2.059187952461744.\n",
      "Found two clusters or more and need split, in dataset Equip2040_Feature0_mean, indx 2926, delta 2.0175627895573696.\n",
      "Preparing key series Equip2040_Feature1_mean ...\n",
      "Found two clusters or more and need split, in dataset Equip2040_Feature1_mean, indx 2727, delta 2.0030396076337764.\n",
      "Found two clusters or more and need split, in dataset Equip2040_Feature1_mean, indx 963, delta 1.9306074686355665.\n",
      "Found two clusters or more and need split, in dataset Equip2040_Feature1_mean, indx 630, delta 1.920779053011399.\n",
      "Preparing key series Equip2040_Feature3_mean ...\n",
      "Found two clusters or more and need split, in dataset Equip2040_Feature3_mean, indx 2331, delta 2.3841961154925446.\n",
      "Preparing key series Equip2040_Feature4_mean ...\n",
      "Preparing key series Equip2040_Feature5_mean ...\n",
      "Found two clusters or more and need split, in dataset Equip2040_Feature5_mean, indx 44, delta 1.9395649912608492.\n",
      "Found two clusters or more and need split, in dataset Equip2040_Feature5_mean, indx 163, delta 1.8763967639079495.\n",
      "Preparing key series Equip2040_Feature6_mean ...\n",
      "Found two clusters or more and need split, in dataset Equip2040_Feature6_mean, indx 207, delta 3.4982073635351734.\n",
      "Found two clusters or more and need split, in dataset Equip2040_Feature6_mean, indx 47, delta 2.3511981749518975.\n",
      "Preparing key series Equip2040_Feature7_mean ...\n",
      "Preparing key series Equip2040_Feature8_mean ...\n",
      "Preparing key series Equip2040_Feature9_mean ...\n",
      "Found two clusters or more and need split, in dataset Equip2040_Feature9_mean, indx 2331, delta 2.305060788952829.\n",
      "Preparing key series Equip2041_Feature0_mean ...\n",
      "Preparing key series Equip2041_Feature1_mean ...\n",
      "Preparing key series Equip2041_Feature3_mean ...\n",
      "Preparing key series Equip2041_Feature4_mean ...\n",
      "Preparing key series Equip2041_Feature5_mean ...\n",
      "Preparing key series Equip2041_Feature6_mean ...\n",
      "Found two clusters or more and need split, in dataset Equip2041_Feature6_mean, indx 154, delta 3.5642681802229985.\n",
      "Found two clusters or more and need split, in dataset Equip2041_Feature6_mean, indx 47, delta 3.219563847264509.\n",
      "Preparing key series Equip2041_Feature7_mean ...\n",
      "Preparing key series Equip2041_Feature8_mean ...\n",
      "Preparing key series Equip2041_Feature9_mean ...\n",
      "Preparing key series Equip2031_Feature2_mean ...\n",
      "Preparing key series Equip2031_Feature5_mean ...\n",
      "Preparing key series Equip2031_Feature6_mean ...\n",
      "Preparing key series Equip2031_Feature7_mean ...\n",
      "Preparing key series Equip2031_Feature8_mean ...\n",
      "Preparing key series Equip2040_Feature2_mean ...\n",
      "Preparing key series Equip2041_Feature2_mean ...\n",
      "Preparing key series Equip2030_Feature2_mean ...\n",
      "Preparing key series Equip2030_Feature5_mean ...\n",
      "Preparing key series Equip2030_Feature6_mean ...\n",
      "Preparing key series Equip2030_Feature7_mean ...\n",
      "Preparing key series Equip2030_Feature8_mean ...\n",
      "Preparing key series Equip2000_Feature2_std ...\n",
      "Preparing key series Equip2000_Feature5_std ...\n",
      "Preparing key series Equip2000_Feature6_std ...\n",
      "Preparing key series Equip2000_Feature7_std ...\n",
      "Preparing key series Equip2000_Feature8_std ...\n",
      "Preparing key series Equip2001_Feature2_std ...\n",
      "Preparing key series Equip2001_Feature5_std ...\n",
      "Preparing key series Equip2001_Feature6_std ...\n",
      "Preparing key series Equip2001_Feature7_std ...\n",
      "Preparing key series Equip2001_Feature8_std ...\n",
      "Preparing key series Equip2010_Feature0_std ...\n",
      "Preparing key series Equip2010_Feature1_std ...\n",
      "Preparing key series Equip2010_Feature2_std ...\n",
      "Preparing key series Equip2010_Feature3_std ...\n",
      "Preparing key series Equip2010_Feature4_std ...\n",
      "Preparing key series Equip2010_Feature5_std ...\n",
      "Preparing key series Equip2010_Feature6_std ...\n",
      "Preparing key series Equip2010_Feature7_std ...\n",
      "Preparing key series Equip2010_Feature8_std ...\n",
      "Preparing key series Equip2010_Feature9_std ...\n",
      "Preparing key series Equip2011_Feature0_std ...\n",
      "Preparing key series Equip2011_Feature1_std ...\n",
      "Found two clusters or more and need split, in dataset Equip2011_Feature1_std, indx 3172, delta 2.537037953055413.\n",
      "Found two clusters or more and need split, in dataset Equip2011_Feature1_std, indx 3151, delta 2.5339723814442214.\n",
      "Preparing key series Equip2011_Feature2_std ...\n",
      "Preparing key series Equip2011_Feature3_std ...\n",
      "Preparing key series Equip2011_Feature4_std ...\n",
      "Preparing key series Equip2011_Feature5_std ...\n",
      "Preparing key series Equip2011_Feature6_std ...\n",
      "Preparing key series Equip2011_Feature7_std ...\n",
      "Preparing key series Equip2011_Feature8_std ...\n",
      "Preparing key series Equip2011_Feature9_std ...\n",
      "Preparing key series Equip2030_Feature0_std ...\n",
      "Preparing key series Equip2030_Feature1_std ...\n",
      "Preparing key series Equip2030_Feature3_std ...\n",
      "Found two clusters or more and need split, in dataset Equip2030_Feature3_std, indx 2066, delta 2.322238940544048.\n",
      "Found two clusters or more and need split, in dataset Equip2030_Feature3_std, indx 20, delta 2.322238940544048.\n",
      "Preparing key series Equip2030_Feature4_std ...\n",
      "Preparing key series Equip2030_Feature9_std ...\n",
      "Preparing key series Equip2031_Feature0_std ...\n",
      "Preparing key series Equip2031_Feature1_std ...\n",
      "Preparing key series Equip2031_Feature3_std ...\n",
      "Found two clusters or more and need split, in dataset Equip2031_Feature3_std, indx 2234, delta 5.089426621509747.\n",
      "Found two clusters or more and need split, in dataset Equip2031_Feature3_std, indx 20, delta 5.089426621509747.\n"
     ]
    },
    {
     "name": "stdout",
     "output_type": "stream",
     "text": [
      "Preparing key series Equip2031_Feature4_std ...\n",
      "Preparing key series Equip2031_Feature9_std ...\n",
      "Preparing key series Equip2050_Feature0_std ...\n",
      "Preparing key series Equip2050_Feature1_std ...\n",
      "Preparing key series Equip2050_Feature2_std ...\n",
      "Preparing key series Equip2050_Feature3_std ...\n",
      "Preparing key series Equip2050_Feature4_std ...\n",
      "Preparing key series Equip2050_Feature5_std ...\n",
      "Preparing key series Equip2050_Feature6_std ...\n",
      "Preparing key series Equip2050_Feature7_std ...\n",
      "Preparing key series Equip2050_Feature8_std ...\n",
      "Preparing key series Equip2050_Feature9_std ...\n",
      "Preparing key series Equip2051_Feature0_std ...\n",
      "Preparing key series Equip2051_Feature1_std ...\n",
      "Preparing key series Equip2051_Feature2_std ...\n",
      "Preparing key series Equip2051_Feature3_std ...\n",
      "Preparing key series Equip2051_Feature4_std ...\n",
      "Preparing key series Equip2051_Feature5_std ...\n",
      "Preparing key series Equip2051_Feature6_std ...\n",
      "Preparing key series Equip2051_Feature7_std ...\n",
      "Preparing key series Equip2051_Feature8_std ...\n",
      "Preparing key series Equip2051_Feature9_std ...\n",
      "Preparing key series Equip2060_Feature0_std ...\n",
      "Preparing key series Equip2060_Feature1_std ...\n",
      "Preparing key series Equip2060_Feature2_std ...\n",
      "Preparing key series Equip2060_Feature3_std ...\n",
      "Preparing key series Equip2060_Feature4_std ...\n",
      "Preparing key series Equip2060_Feature5_std ...\n",
      "Preparing key series Equip2060_Feature6_std ...\n",
      "Preparing key series Equip2060_Feature7_std ...\n",
      "Preparing key series Equip2060_Feature8_std ...\n",
      "Preparing key series Equip2060_Feature9_std ...\n",
      "Preparing key series Equip2061_Feature0_std ...\n",
      "Preparing key series Equip2061_Feature1_std ...\n",
      "Preparing key series Equip2061_Feature2_std ...\n",
      "Preparing key series Equip2061_Feature3_std ...\n",
      "Preparing key series Equip2061_Feature4_std ...\n",
      "Preparing key series Equip2061_Feature5_std ...\n",
      "Preparing key series Equip2061_Feature6_std ...\n",
      "Preparing key series Equip2061_Feature7_std ...\n",
      "Preparing key series Equip2061_Feature8_std ...\n",
      "Preparing key series Equip2061_Feature9_std ...\n",
      "Preparing key series Equip2000_Feature0_std ...\n",
      "Preparing key series Equip2000_Feature1_std ...\n",
      "Preparing key series Equip2000_Feature3_std ...\n",
      "Preparing key series Equip2000_Feature4_std ...\n",
      "Preparing key series Equip2000_Feature9_std ...\n",
      "Preparing key series Equip2001_Feature0_std ...\n",
      "Preparing key series Equip2001_Feature1_std ...\n",
      "Preparing key series Equip2001_Feature3_std ...\n",
      "Preparing key series Equip2001_Feature4_std ...\n",
      "Preparing key series Equip2001_Feature9_std ...\n",
      "Preparing key series Equip2020_Feature0_std ...\n",
      "Preparing key series Equip2020_Feature1_std ...\n",
      "Preparing key series Equip2020_Feature2_std ...\n",
      "Preparing key series Equip2020_Feature3_std ...\n",
      "Preparing key series Equip2020_Feature4_std ...\n",
      "Preparing key series Equip2020_Feature5_std ...\n",
      "Preparing key series Equip2020_Feature6_std ...\n",
      "Preparing key series Equip2020_Feature7_std ...\n",
      "Preparing key series Equip2020_Feature8_std ...\n",
      "Preparing key series Equip2020_Feature9_std ...\n",
      "Preparing key series Equip2021_Feature0_std ...\n",
      "Preparing key series Equip2021_Feature1_std ...\n",
      "Preparing key series Equip2021_Feature2_std ...\n",
      "Preparing key series Equip2021_Feature3_std ...\n",
      "Preparing key series Equip2021_Feature4_std ...\n",
      "Preparing key series Equip2021_Feature5_std ...\n",
      "Preparing key series Equip2021_Feature6_std ...\n",
      "Preparing key series Equip2021_Feature7_std ...\n",
      "Found two clusters or more and need split, in dataset Equip2021_Feature7_std, indx 1889, delta 3.0696871800230303.\n",
      "Preparing key series Equip2021_Feature8_std ...\n",
      "Preparing key series Equip2021_Feature9_std ...\n",
      "Preparing key series Equip2040_Feature0_std ...\n",
      "Preparing key series Equip2040_Feature1_std ...\n",
      "Preparing key series Equip2040_Feature3_std ...\n",
      "Preparing key series Equip2040_Feature4_std ...\n",
      "Preparing key series Equip2040_Feature5_std ...\n",
      "Preparing key series Equip2040_Feature6_std ...\n",
      "Preparing key series Equip2040_Feature7_std ...\n",
      "Preparing key series Equip2040_Feature8_std ...\n",
      "Preparing key series Equip2040_Feature9_std ...\n",
      "Preparing key series Equip2041_Feature0_std ...\n",
      "Preparing key series Equip2041_Feature1_std ...\n",
      "Preparing key series Equip2041_Feature3_std ...\n",
      "Preparing key series Equip2041_Feature4_std ...\n",
      "Preparing key series Equip2041_Feature5_std ...\n",
      "Preparing key series Equip2041_Feature6_std ...\n",
      "Preparing key series Equip2041_Feature7_std ...\n",
      "Preparing key series Equip2041_Feature8_std ...\n",
      "Preparing key series Equip2041_Feature9_std ...\n",
      "Preparing key series Equip2031_Feature2_std ...\n",
      "Preparing key series Equip2031_Feature5_std ...\n",
      "Preparing key series Equip2031_Feature6_std ...\n",
      "Preparing key series Equip2031_Feature7_std ...\n",
      "Preparing key series Equip2031_Feature8_std ...\n",
      "Preparing key series Equip2040_Feature2_std ...\n",
      "Preparing key series Equip2041_Feature2_std ...\n",
      "Preparing key series Equip2030_Feature2_std ...\n",
      "Preparing key series Equip2030_Feature5_std ...\n",
      "Preparing key series Equip2030_Feature6_std ...\n",
      "Preparing key series Equip2030_Feature7_std ...\n",
      "Preparing key series Equip2030_Feature8_std ...\n"
     ]
    }
   ],
   "source": [
    "data_obj.prepare_series()"
   ]
  },
  {
   "cell_type": "code",
   "execution_count": 9,
   "id": "9c02379e",
   "metadata": {},
   "outputs": [
    {
     "data": {
      "text/plain": [
       "420"
      ]
     },
     "execution_count": 9,
     "metadata": {},
     "output_type": "execute_result"
    }
   ],
   "source": [
    "len(data_obj.dfs)"
   ]
  },
  {
   "cell_type": "code",
   "execution_count": 10,
   "id": "56e7af3d",
   "metadata": {},
   "outputs": [
    {
     "data": {
      "text/plain": [
       "list"
      ]
     },
     "execution_count": 10,
     "metadata": {},
     "output_type": "execute_result"
    }
   ],
   "source": [
    "type(data_obj.dfs)"
   ]
  },
  {
   "cell_type": "code",
   "execution_count": 11,
   "id": "1cb81c5a",
   "metadata": {},
   "outputs": [
    {
     "name": "stdout",
     "output_type": "stream",
     "text": [
      "1071834\n"
     ]
    }
   ],
   "source": [
    "N = 0\n",
    "for df in data_obj.dfs:\n",
    "    N += len(df)\n",
    "print(N)"
   ]
  },
  {
   "cell_type": "code",
   "execution_count": 12,
   "id": "33b4f68e",
   "metadata": {},
   "outputs": [
    {
     "name": "stderr",
     "output_type": "stream",
     "text": [
      "C:\\ProgramData\\Anaconda3_64bit\\lib\\site-packages\\numpy\\core\\fromnumeric.py:3417: FutureWarning: DataFrame.mean and DataFrame.median with numeric_only=None will include datetime64 and datetime64tz columns in a future version.\n",
      "  return mean(axis=axis, dtype=dtype, out=out, **kwargs)\n",
      "C:\\ProgramData\\Anaconda3_64bit\\lib\\site-packages\\numpy\\core\\fromnumeric.py:3417: FutureWarning: Dropping of nuisance columns in DataFrame reductions (with 'numeric_only=None') is deprecated; in a future version this will raise TypeError.  Select only valid columns before calling the reduction.\n",
      "  return mean(axis=axis, dtype=dtype, out=out, **kwargs)\n"
     ]
    },
    {
     "data": {
      "text/plain": [
       "RUN_START_WW    2.022374e+05\n",
       "norm            5.982616e-17\n",
       "dtype: float64"
      ]
     },
     "execution_count": 12,
     "metadata": {},
     "output_type": "execute_result"
    }
   ],
   "source": [
    "np.mean(data_obj.dfs[5])"
   ]
  },
  {
   "cell_type": "code",
   "execution_count": 13,
   "id": "d7714889",
   "metadata": {},
   "outputs": [
    {
     "name": "stderr",
     "output_type": "stream",
     "text": [
      "C:\\ProgramData\\Anaconda3_64bit\\lib\\site-packages\\numpy\\core\\fromnumeric.py:3558: FutureWarning: Dropping of nuisance columns in DataFrame reductions (with 'numeric_only=None') is deprecated; in a future version this will raise TypeError.  Select only valid columns before calling the reduction.\n",
      "  return std(axis=axis, dtype=dtype, out=out, ddof=ddof, **kwargs)\n"
     ]
    },
    {
     "data": {
      "text/plain": [
       "time            43 days 14:42:36.826547264\n",
       "RUN_START_WW                      6.238579\n",
       "norm                                   1.0\n",
       "dtype: object"
      ]
     },
     "execution_count": 13,
     "metadata": {},
     "output_type": "execute_result"
    }
   ],
   "source": [
    "np.std(data_obj.dfs[5])"
   ]
  },
  {
   "cell_type": "code",
   "execution_count": 14,
   "id": "35512247",
   "metadata": {},
   "outputs": [
    {
     "data": {
      "text/html": [
       "<div>\n",
       "<style scoped>\n",
       "    .dataframe tbody tr th:only-of-type {\n",
       "        vertical-align: middle;\n",
       "    }\n",
       "\n",
       "    .dataframe tbody tr th {\n",
       "        vertical-align: top;\n",
       "    }\n",
       "\n",
       "    .dataframe thead th {\n",
       "        text-align: right;\n",
       "    }\n",
       "</style>\n",
       "<table border=\"1\" class=\"dataframe\">\n",
       "  <thead>\n",
       "    <tr style=\"text-align: right;\">\n",
       "      <th></th>\n",
       "      <th>time</th>\n",
       "      <th>RUN_START_WW</th>\n",
       "      <th>Equip</th>\n",
       "      <th>series</th>\n",
       "      <th>key</th>\n",
       "      <th>norm</th>\n",
       "    </tr>\n",
       "  </thead>\n",
       "  <tbody>\n",
       "    <tr>\n",
       "      <th>0</th>\n",
       "      <td>2022-06-26 23:00:00</td>\n",
       "      <td>202227</td>\n",
       "      <td>Equip2001</td>\n",
       "      <td>Feature2_mean</td>\n",
       "      <td>Equip2001_Feature2_mean</td>\n",
       "      <td>2.946667</td>\n",
       "    </tr>\n",
       "    <tr>\n",
       "      <th>1</th>\n",
       "      <td>2022-06-27 00:00:00</td>\n",
       "      <td>202227</td>\n",
       "      <td>Equip2001</td>\n",
       "      <td>Feature2_mean</td>\n",
       "      <td>Equip2001_Feature2_mean</td>\n",
       "      <td>1.225551</td>\n",
       "    </tr>\n",
       "    <tr>\n",
       "      <th>2</th>\n",
       "      <td>2022-06-27 01:00:00</td>\n",
       "      <td>202227</td>\n",
       "      <td>Equip2001</td>\n",
       "      <td>Feature2_mean</td>\n",
       "      <td>Equip2001_Feature2_mean</td>\n",
       "      <td>0.926174</td>\n",
       "    </tr>\n",
       "    <tr>\n",
       "      <th>3</th>\n",
       "      <td>2022-06-27 02:00:00</td>\n",
       "      <td>202227</td>\n",
       "      <td>Equip2001</td>\n",
       "      <td>Feature2_mean</td>\n",
       "      <td>Equip2001_Feature2_mean</td>\n",
       "      <td>-0.380895</td>\n",
       "    </tr>\n",
       "    <tr>\n",
       "      <th>4</th>\n",
       "      <td>2022-06-27 03:00:00</td>\n",
       "      <td>202227</td>\n",
       "      <td>Equip2001</td>\n",
       "      <td>Feature2_mean</td>\n",
       "      <td>Equip2001_Feature2_mean</td>\n",
       "      <td>-0.941805</td>\n",
       "    </tr>\n",
       "  </tbody>\n",
       "</table>\n",
       "</div>"
      ],
      "text/plain": [
       "                 time  RUN_START_WW      Equip         series  \\\n",
       "0 2022-06-26 23:00:00        202227  Equip2001  Feature2_mean   \n",
       "1 2022-06-27 00:00:00        202227  Equip2001  Feature2_mean   \n",
       "2 2022-06-27 01:00:00        202227  Equip2001  Feature2_mean   \n",
       "3 2022-06-27 02:00:00        202227  Equip2001  Feature2_mean   \n",
       "4 2022-06-27 03:00:00        202227  Equip2001  Feature2_mean   \n",
       "\n",
       "                       key      norm  \n",
       "0  Equip2001_Feature2_mean  2.946667  \n",
       "1  Equip2001_Feature2_mean  1.225551  \n",
       "2  Equip2001_Feature2_mean  0.926174  \n",
       "3  Equip2001_Feature2_mean -0.380895  \n",
       "4  Equip2001_Feature2_mean -0.941805  "
      ]
     },
     "execution_count": 14,
     "metadata": {},
     "output_type": "execute_result"
    }
   ],
   "source": [
    "data_obj.dfs[5].head(5)"
   ]
  },
  {
   "cell_type": "code",
   "execution_count": 15,
   "id": "ce7658f5",
   "metadata": {},
   "outputs": [
    {
     "name": "stdout",
     "output_type": "stream",
     "text": [
      "Equip2000_Feature2_mean\n",
      "Equip2000_Feature5_mean\n",
      "Equip2000_Feature6_mean\n",
      "Equip2000_Feature7_mean\n",
      "Equip2000_Feature8_mean\n",
      "Equip2001_Feature2_mean\n",
      "Equip2001_Feature5_mean\n",
      "Equip2001_Feature6_mean\n",
      "Equip2001_Feature7_mean\n",
      "Equip2001_Feature8_mean\n",
      "Equip2010_Feature0_mean\n",
      "Equip2010_Feature0_mean\n",
      "Equip2010_Feature0_mean\n",
      "Equip2010_Feature0_mean\n",
      "Equip2010_Feature0_mean\n",
      "Equip2010_Feature1_mean\n",
      "Equip2010_Feature2_mean\n",
      "Equip2010_Feature3_mean\n",
      "Equip2010_Feature3_mean\n",
      "Equip2010_Feature3_mean\n"
     ]
    }
   ],
   "source": [
    "for i in range(20):\n",
    "    print(data_obj.dfs[i].loc[0, 'key'])"
   ]
  },
  {
   "cell_type": "code",
   "execution_count": 16,
   "id": "059d188c",
   "metadata": {},
   "outputs": [
    {
     "data": {
      "text/plain": [
       "5.982616181790733e-17"
      ]
     },
     "execution_count": 16,
     "metadata": {},
     "output_type": "execute_result"
    }
   ],
   "source": [
    "data_obj.dfs[5]['norm'].mean()"
   ]
  },
  {
   "cell_type": "code",
   "execution_count": 17,
   "id": "d1fe2c2b",
   "metadata": {},
   "outputs": [
    {
     "data": {
      "text/plain": [
       "0       2.946667\n",
       "1       1.225551\n",
       "2       0.926174\n",
       "3      -0.380895\n",
       "4      -0.941805\n",
       "          ...   \n",
       "3417   -0.586700\n",
       "3418    0.526579\n",
       "3419    0.542681\n",
       "3420   -0.211703\n",
       "3421    1.507836\n",
       "Name: norm, Length: 3422, dtype: float64"
      ]
     },
     "execution_count": 17,
     "metadata": {},
     "output_type": "execute_result"
    }
   ],
   "source": [
    "data_obj.dfs[5]['norm']"
   ]
  },
  {
   "cell_type": "code",
   "execution_count": 18,
   "id": "55340db3",
   "metadata": {},
   "outputs": [],
   "source": [
    "data_obj.dfs[5]['norm'] = stats.zscore(data_obj.dfs[5]['norm'])"
   ]
  },
  {
   "cell_type": "code",
   "execution_count": 19,
   "id": "6fc3a887",
   "metadata": {},
   "outputs": [
    {
     "data": {
      "text/plain": [
       "0       2.946667\n",
       "1       1.225551\n",
       "2       0.926174\n",
       "3      -0.380895\n",
       "4      -0.941805\n",
       "          ...   \n",
       "3417   -0.586700\n",
       "3418    0.526579\n",
       "3419    0.542681\n",
       "3420   -0.211703\n",
       "3421    1.507836\n",
       "Name: norm, Length: 3422, dtype: float64"
      ]
     },
     "execution_count": 19,
     "metadata": {},
     "output_type": "execute_result"
    }
   ],
   "source": [
    "data_obj.dfs[5]['norm']"
   ]
  },
  {
   "cell_type": "code",
   "execution_count": 21,
   "id": "ac425784",
   "metadata": {},
   "outputs": [
    {
     "data": {
      "text/html": [
       "<div>\n",
       "<style scoped>\n",
       "    .dataframe tbody tr th:only-of-type {\n",
       "        vertical-align: middle;\n",
       "    }\n",
       "\n",
       "    .dataframe tbody tr th {\n",
       "        vertical-align: top;\n",
       "    }\n",
       "\n",
       "    .dataframe thead th {\n",
       "        text-align: right;\n",
       "    }\n",
       "</style>\n",
       "<table border=\"1\" class=\"dataframe\">\n",
       "  <thead>\n",
       "    <tr style=\"text-align: right;\">\n",
       "      <th></th>\n",
       "      <th>time</th>\n",
       "      <th>RUN_START_WW</th>\n",
       "      <th>Equip</th>\n",
       "      <th>series</th>\n",
       "      <th>key</th>\n",
       "      <th>norm</th>\n",
       "    </tr>\n",
       "  </thead>\n",
       "  <tbody>\n",
       "    <tr>\n",
       "      <th>0</th>\n",
       "      <td>2022-06-26 23:00:00</td>\n",
       "      <td>202227</td>\n",
       "      <td>Equip2001</td>\n",
       "      <td>Feature2_mean</td>\n",
       "      <td>Equip2001_Feature2_mean</td>\n",
       "      <td>2.946667</td>\n",
       "    </tr>\n",
       "    <tr>\n",
       "      <th>1</th>\n",
       "      <td>2022-06-27 00:00:00</td>\n",
       "      <td>202227</td>\n",
       "      <td>Equip2001</td>\n",
       "      <td>Feature2_mean</td>\n",
       "      <td>Equip2001_Feature2_mean</td>\n",
       "      <td>1.225551</td>\n",
       "    </tr>\n",
       "    <tr>\n",
       "      <th>2</th>\n",
       "      <td>2022-06-27 01:00:00</td>\n",
       "      <td>202227</td>\n",
       "      <td>Equip2001</td>\n",
       "      <td>Feature2_mean</td>\n",
       "      <td>Equip2001_Feature2_mean</td>\n",
       "      <td>0.926174</td>\n",
       "    </tr>\n",
       "    <tr>\n",
       "      <th>3</th>\n",
       "      <td>2022-06-27 02:00:00</td>\n",
       "      <td>202227</td>\n",
       "      <td>Equip2001</td>\n",
       "      <td>Feature2_mean</td>\n",
       "      <td>Equip2001_Feature2_mean</td>\n",
       "      <td>-0.380895</td>\n",
       "    </tr>\n",
       "    <tr>\n",
       "      <th>4</th>\n",
       "      <td>2022-06-27 03:00:00</td>\n",
       "      <td>202227</td>\n",
       "      <td>Equip2001</td>\n",
       "      <td>Feature2_mean</td>\n",
       "      <td>Equip2001_Feature2_mean</td>\n",
       "      <td>-0.941805</td>\n",
       "    </tr>\n",
       "    <tr>\n",
       "      <th>...</th>\n",
       "      <td>...</td>\n",
       "      <td>...</td>\n",
       "      <td>...</td>\n",
       "      <td>...</td>\n",
       "      <td>...</td>\n",
       "      <td>...</td>\n",
       "    </tr>\n",
       "    <tr>\n",
       "      <th>3417</th>\n",
       "      <td>2022-11-23 22:00:00</td>\n",
       "      <td>202248</td>\n",
       "      <td>Equip2001</td>\n",
       "      <td>Feature2_mean</td>\n",
       "      <td>Equip2001_Feature2_mean</td>\n",
       "      <td>-0.586700</td>\n",
       "    </tr>\n",
       "    <tr>\n",
       "      <th>3418</th>\n",
       "      <td>2022-11-23 23:00:00</td>\n",
       "      <td>202248</td>\n",
       "      <td>Equip2001</td>\n",
       "      <td>Feature2_mean</td>\n",
       "      <td>Equip2001_Feature2_mean</td>\n",
       "      <td>0.526579</td>\n",
       "    </tr>\n",
       "    <tr>\n",
       "      <th>3419</th>\n",
       "      <td>2022-11-24 00:00:00</td>\n",
       "      <td>202248</td>\n",
       "      <td>Equip2001</td>\n",
       "      <td>Feature2_mean</td>\n",
       "      <td>Equip2001_Feature2_mean</td>\n",
       "      <td>0.542681</td>\n",
       "    </tr>\n",
       "    <tr>\n",
       "      <th>3420</th>\n",
       "      <td>2022-11-24 01:00:00</td>\n",
       "      <td>202248</td>\n",
       "      <td>Equip2001</td>\n",
       "      <td>Feature2_mean</td>\n",
       "      <td>Equip2001_Feature2_mean</td>\n",
       "      <td>-0.211703</td>\n",
       "    </tr>\n",
       "    <tr>\n",
       "      <th>3421</th>\n",
       "      <td>2022-11-24 02:00:00</td>\n",
       "      <td>202248</td>\n",
       "      <td>Equip2001</td>\n",
       "      <td>Feature2_mean</td>\n",
       "      <td>Equip2001_Feature2_mean</td>\n",
       "      <td>1.507836</td>\n",
       "    </tr>\n",
       "  </tbody>\n",
       "</table>\n",
       "<p>3422 rows × 6 columns</p>\n",
       "</div>"
      ],
      "text/plain": [
       "                    time  RUN_START_WW      Equip         series  \\\n",
       "0    2022-06-26 23:00:00        202227  Equip2001  Feature2_mean   \n",
       "1    2022-06-27 00:00:00        202227  Equip2001  Feature2_mean   \n",
       "2    2022-06-27 01:00:00        202227  Equip2001  Feature2_mean   \n",
       "3    2022-06-27 02:00:00        202227  Equip2001  Feature2_mean   \n",
       "4    2022-06-27 03:00:00        202227  Equip2001  Feature2_mean   \n",
       "...                  ...           ...        ...            ...   \n",
       "3417 2022-11-23 22:00:00        202248  Equip2001  Feature2_mean   \n",
       "3418 2022-11-23 23:00:00        202248  Equip2001  Feature2_mean   \n",
       "3419 2022-11-24 00:00:00        202248  Equip2001  Feature2_mean   \n",
       "3420 2022-11-24 01:00:00        202248  Equip2001  Feature2_mean   \n",
       "3421 2022-11-24 02:00:00        202248  Equip2001  Feature2_mean   \n",
       "\n",
       "                          key      norm  \n",
       "0     Equip2001_Feature2_mean  2.946667  \n",
       "1     Equip2001_Feature2_mean  1.225551  \n",
       "2     Equip2001_Feature2_mean  0.926174  \n",
       "3     Equip2001_Feature2_mean -0.380895  \n",
       "4     Equip2001_Feature2_mean -0.941805  \n",
       "...                       ...       ...  \n",
       "3417  Equip2001_Feature2_mean -0.586700  \n",
       "3418  Equip2001_Feature2_mean  0.526579  \n",
       "3419  Equip2001_Feature2_mean  0.542681  \n",
       "3420  Equip2001_Feature2_mean -0.211703  \n",
       "3421  Equip2001_Feature2_mean  1.507836  \n",
       "\n",
       "[3422 rows x 6 columns]"
      ]
     },
     "execution_count": 21,
     "metadata": {},
     "output_type": "execute_result"
    }
   ],
   "source": [
    "data_obj.dfs[5]"
   ]
  },
  {
   "cell_type": "code",
   "execution_count": 28,
   "id": "f05d07e7",
   "metadata": {},
   "outputs": [],
   "source": [
    "w = 10\n",
    "Q = data_obj.dfs[5][-w:]['norm'].values\n",
    "T = data_obj.dfs[5]['norm'].values\n",
    "k = 10"
   ]
  },
  {
   "cell_type": "code",
   "execution_count": 30,
   "id": "4f792f37",
   "metadata": {},
   "outputs": [
    {
     "data": {
      "text/plain": [
       "array([ 0.10702605,  0.56809276,  0.57606835, -0.52326287, -0.52523995,\n",
       "       -0.58669976,  0.52657869,  0.54268096, -0.21170283,  1.50783637])"
      ]
     },
     "execution_count": 30,
     "metadata": {},
     "output_type": "execute_result"
    }
   ],
   "source": [
    "Q"
   ]
  },
  {
   "cell_type": "code",
   "execution_count": 71,
   "id": "f0e353a4",
   "metadata": {},
   "outputs": [
    {
     "name": "stdout",
     "output_type": "stream",
     "text": [
      "3422\n",
      "10\n"
     ]
    }
   ],
   "source": [
    "print(len(T))\n",
    "print(len(Q))"
   ]
  },
  {
   "cell_type": "code",
   "execution_count": 146,
   "id": "c1f1011a",
   "metadata": {},
   "outputs": [],
   "source": [
    "import MASS_V4\n",
    "reload(MASS_V4)\n",
    "from MASS_V4 import MASS_V4"
   ]
  },
  {
   "cell_type": "code",
   "execution_count": 147,
   "id": "0af13f22",
   "metadata": {},
   "outputs": [],
   "source": [
    "mass = MASS_V4()"
   ]
  },
  {
   "cell_type": "code",
   "execution_count": 148,
   "id": "105690d2",
   "metadata": {},
   "outputs": [
    {
     "data": {
      "text/plain": [
       "18"
      ]
     },
     "execution_count": 148,
     "metadata": {},
     "output_type": "execute_result"
    }
   ],
   "source": [
    "floor((3*12+1)/2)"
   ]
  },
  {
   "cell_type": "code",
   "execution_count": 149,
   "id": "ed58a7d2",
   "metadata": {},
   "outputs": [],
   "source": [
    "batchs = mass.get_batch_size(floor((3*12+1)/2), 10)"
   ]
  },
  {
   "cell_type": "code",
   "execution_count": 150,
   "id": "adccfe78",
   "metadata": {},
   "outputs": [
    {
     "data": {
      "text/plain": [
       "12"
      ]
     },
     "execution_count": 150,
     "metadata": {},
     "output_type": "execute_result"
    }
   ],
   "source": [
    "batchs"
   ]
  },
  {
   "cell_type": "code",
   "execution_count": 151,
   "id": "cb4cf687",
   "metadata": {},
   "outputs": [],
   "source": [
    "x_pad, y_pad, start_i = mass.dct_padding(T, Q)"
   ]
  },
  {
   "cell_type": "code",
   "execution_count": 152,
   "id": "16282d3c",
   "metadata": {},
   "outputs": [
    {
     "name": "stdout",
     "output_type": "stream",
     "text": [
      "5133\n",
      "5133\n",
      "5\n"
     ]
    }
   ],
   "source": [
    "print(len(x_pad))\n",
    "print(len(y_pad))\n",
    "print(start_i)"
   ]
  },
  {
   "cell_type": "code",
   "execution_count": 153,
   "id": "8d247ba7",
   "metadata": {},
   "outputs": [
    {
     "data": {
      "text/plain": [
       "array([ 0.        ,  0.        ,  0.10702605,  0.56809276,  0.57606835,\n",
       "       -0.52326287, -0.52523995, -0.58669976,  0.52657869,  0.54268096,\n",
       "       -0.21170283,  1.50783637,  0.        ,  0.        ,  0.        ,\n",
       "        0.        ])"
      ]
     },
     "execution_count": 153,
     "metadata": {},
     "output_type": "execute_result"
    }
   ],
   "source": [
    "y_pad[1704:1720]"
   ]
  },
  {
   "cell_type": "code",
   "execution_count": 154,
   "id": "5f506ff7",
   "metadata": {},
   "outputs": [],
   "source": [
    "dd = mass.dct_dot_product(T[100: 100+batchs], Q)"
   ]
  },
  {
   "cell_type": "code",
   "execution_count": 155,
   "id": "76ad0c1b",
   "metadata": {},
   "outputs": [
    {
     "data": {
      "text/plain": [
       "3"
      ]
     },
     "execution_count": 155,
     "metadata": {},
     "output_type": "execute_result"
    }
   ],
   "source": [
    "len(dd)"
   ]
  },
  {
   "cell_type": "code",
   "execution_count": 156,
   "id": "e1a47ca5",
   "metadata": {},
   "outputs": [
    {
     "data": {
      "text/plain": [
       "array([ -14.50513325,  936.25081846, -337.47393334])"
      ]
     },
     "execution_count": 156,
     "metadata": {},
     "output_type": "execute_result"
    }
   ],
   "source": [
    "dd"
   ]
  },
  {
   "cell_type": "code",
   "execution_count": 157,
   "id": "e5c5e572",
   "metadata": {},
   "outputs": [],
   "source": [
    "mws = mass.movstd(T[100: 100+batchs], len(Q))"
   ]
  },
  {
   "cell_type": "code",
   "execution_count": 158,
   "id": "dba5be75",
   "metadata": {},
   "outputs": [
    {
     "data": {
      "text/plain": [
       "array([1.30058684, 1.37326786, 1.23365236])"
      ]
     },
     "execution_count": 158,
     "metadata": {},
     "output_type": "execute_result"
    }
   ],
   "source": [
    "mws"
   ]
  },
  {
   "cell_type": "code",
   "execution_count": 159,
   "id": "fd61b60a",
   "metadata": {},
   "outputs": [
    {
     "name": "stderr",
     "output_type": "stream",
     "text": [
      "C:\\ALEX\\BGU\\TDA\\PROJECT\\TSAD_project\\MASS_V4.py:31: RuntimeWarning: invalid value encountered in sqrt\n",
      "  d = np.sqrt(2.0 * (m - np.divide(dot_p, sigmaT)))  # sigmaT[m:end] in Matlab\n"
     ]
    }
   ],
   "source": [
    "sim = mass.get_similarities(T, Q, 18)"
   ]
  },
  {
   "cell_type": "code",
   "execution_count": 160,
   "id": "86b64502",
   "metadata": {},
   "outputs": [
    {
     "data": {
      "text/plain": [
       "array([        nan,         nan, 36.75604397, ..., 28.92264417,\n",
       "               nan,         nan])"
      ]
     },
     "execution_count": 160,
     "metadata": {},
     "output_type": "execute_result"
    }
   ],
   "source": [
    "sim"
   ]
  },
  {
   "cell_type": "code",
   "execution_count": 161,
   "id": "23ea7334",
   "metadata": {},
   "outputs": [
    {
     "data": {
      "text/plain": [
       "3413"
      ]
     },
     "execution_count": 161,
     "metadata": {},
     "output_type": "execute_result"
    }
   ],
   "source": [
    "len(sim)"
   ]
  },
  {
   "cell_type": "code",
   "execution_count": 163,
   "id": "420a948f",
   "metadata": {},
   "outputs": [
    {
     "data": {
      "text/plain": [
       "array([33.29381729,         nan, 39.6946065 ,         nan,         nan,\n",
       "       45.99883102, 19.27272307,         nan,         nan, 21.01369576,\n",
       "       28.92264417,         nan,         nan])"
      ]
     },
     "execution_count": 163,
     "metadata": {},
     "output_type": "execute_result"
    }
   ],
   "source": [
    "sim[3400:]"
   ]
  },
  {
   "cell_type": "code",
   "execution_count": 164,
   "id": "f2c87203",
   "metadata": {},
   "outputs": [
    {
     "ename": "TypeError",
     "evalue": "'float' object is not callable",
     "output_type": "error",
     "traceback": [
      "\u001b[1;31m---------------------------------------------------------------------------\u001b[0m",
      "\u001b[1;31mTypeError\u001b[0m                                 Traceback (most recent call last)",
      "\u001b[1;32m~\\AppData\\Local\\Temp/ipykernel_48276/3354174452.py\u001b[0m in \u001b[0;36m<module>\u001b[1;34m\u001b[0m\n\u001b[1;32m----> 1\u001b[1;33m \u001b[0mnp\u001b[0m\u001b[1;33m.\u001b[0m\u001b[0mnan\u001b[0m\u001b[1;33m(\u001b[0m\u001b[0msim\u001b[0m\u001b[1;33m)\u001b[0m\u001b[1;33m\u001b[0m\u001b[1;33m\u001b[0m\u001b[0m\n\u001b[0m",
      "\u001b[1;31mTypeError\u001b[0m: 'float' object is not callable"
     ]
    }
   ],
   "source": [
    "np.nan(sim)"
   ]
  },
  {
   "cell_type": "code",
   "execution_count": 165,
   "id": "6ff01515",
   "metadata": {},
   "outputs": [
    {
     "data": {
      "text/plain": [
       "1729"
      ]
     },
     "execution_count": 165,
     "metadata": {},
     "output_type": "execute_result"
    }
   ],
   "source": [
    "sum(~np.isnan(sim))"
   ]
  },
  {
   "cell_type": "code",
   "execution_count": 166,
   "id": "f724034d",
   "metadata": {},
   "outputs": [
    {
     "data": {
      "text/plain": [
       "0"
      ]
     },
     "execution_count": 166,
     "metadata": {},
     "output_type": "execute_result"
    }
   ],
   "source": [
    "np.argmax(sim)"
   ]
  },
  {
   "cell_type": "code",
   "execution_count": 167,
   "id": "38589c60",
   "metadata": {},
   "outputs": [
    {
     "data": {
      "text/plain": [
       "nan"
      ]
     },
     "execution_count": 167,
     "metadata": {},
     "output_type": "execute_result"
    }
   ],
   "source": [
    "sim[0]"
   ]
  },
  {
   "cell_type": "code",
   "execution_count": null,
   "id": "e77adcc4",
   "metadata": {},
   "outputs": [],
   "source": []
  },
  {
   "cell_type": "code",
   "execution_count": null,
   "id": "b9630320",
   "metadata": {},
   "outputs": [],
   "source": []
  },
  {
   "cell_type": "code",
   "execution_count": null,
   "id": "a5fc278b",
   "metadata": {},
   "outputs": [],
   "source": []
  },
  {
   "cell_type": "code",
   "execution_count": null,
   "id": "c363b3a7",
   "metadata": {},
   "outputs": [],
   "source": []
  },
  {
   "cell_type": "code",
   "execution_count": null,
   "id": "e7b20365",
   "metadata": {},
   "outputs": [],
   "source": []
  },
  {
   "cell_type": "code",
   "execution_count": null,
   "id": "50c47bb6",
   "metadata": {},
   "outputs": [],
   "source": []
  },
  {
   "cell_type": "code",
   "execution_count": null,
   "id": "adff8422",
   "metadata": {},
   "outputs": [],
   "source": []
  },
  {
   "cell_type": "code",
   "execution_count": null,
   "id": "ab8fc2cc",
   "metadata": {},
   "outputs": [],
   "source": []
  },
  {
   "cell_type": "code",
   "execution_count": null,
   "id": "135f79ac",
   "metadata": {},
   "outputs": [],
   "source": []
  }
 ],
 "metadata": {
  "kernelspec": {
   "display_name": "Python 3 (ipykernel)",
   "language": "python",
   "name": "python3"
  },
  "language_info": {
   "codemirror_mode": {
    "name": "ipython",
    "version": 3
   },
   "file_extension": ".py",
   "mimetype": "text/x-python",
   "name": "python",
   "nbconvert_exporter": "python",
   "pygments_lexer": "ipython3",
   "version": "3.9.7"
  }
 },
 "nbformat": 4,
 "nbformat_minor": 5
}
