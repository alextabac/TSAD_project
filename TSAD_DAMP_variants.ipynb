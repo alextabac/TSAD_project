{
 "cells": [
  {
   "cell_type": "markdown",
   "id": "3cd64d23",
   "metadata": {},
   "source": [
    "## Author: Alexandru Paul Tabacaru  ;  alextabac@gmail.com\n",
    "## MIT License"
   ]
  },
  {
   "cell_type": "code",
   "execution_count": 161,
   "id": "8494ea76",
   "metadata": {},
   "outputs": [],
   "source": [
    "import pandas as pd\n",
    "import numpy as np\n",
    "from math import floor\n",
    "import scipy.stats as stats\n",
    "import os\n",
    "import json\n",
    "import random\n",
    "from sklearn.model_selection import train_test_split\n",
    "from pandas_profiling import ProfileReport\n",
    "from datetime import datetime\n",
    "from collections import deque\n",
    "from MASS_V4 import MASS_V4\n",
    "from DAMP_V2 import DAMP_V2\n",
    "from datetime import datetime\n",
    "import matplotlib.pyplot as plt\n",
    "from importlib import reload\n",
    "from data_prep import Data_Preprocess as dprep"
   ]
  },
  {
   "cell_type": "markdown",
   "id": "ceb7fdd2",
   "metadata": {},
   "source": [
    "## Paths and Data Files"
   ]
  },
  {
   "cell_type": "code",
   "execution_count": 3,
   "id": "b80de29a",
   "metadata": {},
   "outputs": [
    {
     "data": {
      "text/plain": [
       "'C:\\\\ALEX\\\\BGU\\\\TDA\\\\PROJECT\\\\TSAD_project'"
      ]
     },
     "execution_count": 3,
     "metadata": {},
     "output_type": "execute_result"
    }
   ],
   "source": [
    "os.getcwd()"
   ]
  },
  {
   "cell_type": "code",
   "execution_count": 4,
   "id": "32714825",
   "metadata": {},
   "outputs": [],
   "source": [
    "data_path = \"..\\\\..\\\\sensors_data\"\n",
    "data_folder = os.path.join(os.getcwd(), data_path)\n",
    "files1 = os.listdir(data_folder)\n",
    "files2 = [os.path.join(data_folder, f) for f in files1 if f.endswith(\"_trim.tab\")]\n",
    "files = [f for f in files2 if os.path.isfile(f)]\n",
    "delimiter = \"\\t\""
   ]
  },
  {
   "cell_type": "markdown",
   "id": "515ecdde",
   "metadata": {},
   "source": [
    "## Equipment digits explained:\n",
    "### first digit is the server NOD number:  1, 2, 3, or 4 otherwise\n",
    "### second digit is the SITE within the NOD: 0, 1, 2.\n",
    "### third digit is the entity number: 0 to 6 at most\n",
    "### fourth digit is the side of the entity:  0 or 1"
   ]
  },
  {
   "cell_type": "code",
   "execution_count": 250,
   "id": "520af5b1",
   "metadata": {},
   "outputs": [],
   "source": [
    "import data_prep\n",
    "reload(data_prep)\n",
    "from data_prep import Data_Preprocess as dprep"
   ]
  },
  {
   "cell_type": "code",
   "execution_count": 252,
   "id": "a220f48c",
   "metadata": {},
   "outputs": [
    {
     "name": "stdout",
     "output_type": "stream",
     "text": [
      "File loaded with 11568827 rows.\n"
     ]
    }
   ],
   "source": [
    "data_obj = dprep(aggregate_type='min', aggregate_amount=15, feature_num=2)\n",
    "data_obj.load_data(files[0], delimiter)"
   ]
  },
  {
   "cell_type": "code",
   "execution_count": 253,
   "id": "d0f80bb3",
   "metadata": {},
   "outputs": [
    {
     "data": {
      "text/plain": [
       "3140370"
      ]
     },
     "execution_count": 253,
     "metadata": {},
     "output_type": "execute_result"
    }
   ],
   "source": [
    "len(data_obj.df)"
   ]
  },
  {
   "cell_type": "code",
   "execution_count": 254,
   "id": "59aaadd8",
   "metadata": {
    "scrolled": true
   },
   "outputs": [
    {
     "name": "stdout",
     "output_type": "stream",
     "text": [
      "Preparing key series Equip2000_Feature2_mean ...\n",
      "Preparing key series Equip2001_Feature2_mean ...\n",
      "Preparing key series Equip2010_Feature2_mean ...\n",
      "Preparing key series Equip2011_Feature2_mean ...\n",
      "Preparing key series Equip2050_Feature2_mean ...\n",
      "Preparing key series Equip2051_Feature2_mean ...\n",
      "Preparing key series Equip2060_Feature2_mean ...\n",
      "Preparing key series Equip2061_Feature2_mean ...\n",
      "Preparing key series Equip2020_Feature2_mean ...\n",
      "Preparing key series Equip2021_Feature2_mean ...\n",
      "Preparing key series Equip2031_Feature2_mean ...\n",
      "Preparing key series Equip2040_Feature2_mean ...\n",
      "Preparing key series Equip2041_Feature2_mean ...\n",
      "Preparing key series Equip2030_Feature2_mean ...\n",
      "Preparing key series Equip2000_Feature2_std ...\n",
      "Preparing key series Equip2001_Feature2_std ...\n",
      "Preparing key series Equip2010_Feature2_std ...\n",
      "Found two clusters or more and need split, in dataset Equip2010_Feature2_std, indx 8107, delta 1.8514249414863468.\n",
      "Preparing key series Equip2011_Feature2_std ...\n",
      "Preparing key series Equip2050_Feature2_std ...\n",
      "Preparing key series Equip2051_Feature2_std ...\n",
      "Preparing key series Equip2060_Feature2_std ...\n",
      "Preparing key series Equip2061_Feature2_std ...\n",
      "Preparing key series Equip2020_Feature2_std ...\n",
      "Preparing key series Equip2021_Feature2_std ...\n",
      "Preparing key series Equip2031_Feature2_std ...\n",
      "Found two clusters or more and need split, in dataset Equip2031_Feature2_std, indx 148, delta 3.0951733712412484.\n",
      "Found two clusters or more and need split, in dataset Equip2031_Feature2_std, indx 49, delta 2.3114148797546816.\n",
      "Preparing key series Equip2040_Feature2_std ...\n",
      "Preparing key series Equip2041_Feature2_std ...\n",
      "Preparing key series Equip2030_Feature2_std ...\n",
      "Data preparation run time 0:00:54.883684\n"
     ]
    }
   ],
   "source": [
    "data_obj.prepare_series()"
   ]
  },
  {
   "cell_type": "code",
   "execution_count": 255,
   "id": "9c02379e",
   "metadata": {},
   "outputs": [
    {
     "data": {
      "text/plain": [
       "34"
      ]
     },
     "execution_count": 255,
     "metadata": {},
     "output_type": "execute_result"
    }
   ],
   "source": [
    "len(data_obj.dfs)"
   ]
  },
  {
   "cell_type": "code",
   "execution_count": 256,
   "id": "56e7af3d",
   "metadata": {},
   "outputs": [
    {
     "data": {
      "text/plain": [
       "list"
      ]
     },
     "execution_count": 256,
     "metadata": {},
     "output_type": "execute_result"
    }
   ],
   "source": [
    "type(data_obj.dfs)"
   ]
  },
  {
   "cell_type": "code",
   "execution_count": 257,
   "id": "1cb81c5a",
   "metadata": {},
   "outputs": [
    {
     "name": "stdout",
     "output_type": "stream",
     "text": [
      "367699\n"
     ]
    }
   ],
   "source": [
    "N = 0\n",
    "for df in data_obj.dfs:\n",
    "    N += len(df)\n",
    "print(N)"
   ]
  },
  {
   "cell_type": "code",
   "execution_count": 258,
   "id": "33b4f68e",
   "metadata": {},
   "outputs": [
    {
     "data": {
      "text/plain": [
       "-7.350572582590664e-16"
      ]
     },
     "execution_count": 258,
     "metadata": {},
     "output_type": "execute_result"
    }
   ],
   "source": [
    "np.mean(data_obj.dfs[5]['value'])"
   ]
  },
  {
   "cell_type": "code",
   "execution_count": 259,
   "id": "d7714889",
   "metadata": {},
   "outputs": [
    {
     "data": {
      "text/plain": [
       "1.0000000000000002"
      ]
     },
     "execution_count": 259,
     "metadata": {},
     "output_type": "execute_result"
    }
   ],
   "source": [
    "np.std(data_obj.dfs[5]['value'])"
   ]
  },
  {
   "cell_type": "code",
   "execution_count": 260,
   "id": "7124ab51",
   "metadata": {},
   "outputs": [
    {
     "data": {
      "text/plain": [
       "34"
      ]
     },
     "execution_count": 260,
     "metadata": {},
     "output_type": "execute_result"
    }
   ],
   "source": [
    "len(data_obj.dfs)"
   ]
  },
  {
   "cell_type": "code",
   "execution_count": 263,
   "id": "35512247",
   "metadata": {},
   "outputs": [
    {
     "data": {
      "text/html": [
       "<div>\n",
       "<style scoped>\n",
       "    .dataframe tbody tr th:only-of-type {\n",
       "        vertical-align: middle;\n",
       "    }\n",
       "\n",
       "    .dataframe tbody tr th {\n",
       "        vertical-align: top;\n",
       "    }\n",
       "\n",
       "    .dataframe thead th {\n",
       "        text-align: right;\n",
       "    }\n",
       "</style>\n",
       "<table border=\"1\" class=\"dataframe\">\n",
       "  <thead>\n",
       "    <tr style=\"text-align: right;\">\n",
       "      <th></th>\n",
       "      <th>time</th>\n",
       "      <th>RUN_START_WW</th>\n",
       "      <th>Equip</th>\n",
       "      <th>series</th>\n",
       "      <th>key</th>\n",
       "      <th>value</th>\n",
       "    </tr>\n",
       "  </thead>\n",
       "  <tbody>\n",
       "    <tr>\n",
       "      <th>0</th>\n",
       "      <td>2022-06-27 01:45:00</td>\n",
       "      <td>202227</td>\n",
       "      <td>Equip2031</td>\n",
       "      <td>Feature2_mean</td>\n",
       "      <td>Equip2031_Feature2_mean</td>\n",
       "      <td>0.620855</td>\n",
       "    </tr>\n",
       "    <tr>\n",
       "      <th>1</th>\n",
       "      <td>2022-06-27 07:00:00</td>\n",
       "      <td>202227</td>\n",
       "      <td>Equip2031</td>\n",
       "      <td>Feature2_mean</td>\n",
       "      <td>Equip2031_Feature2_mean</td>\n",
       "      <td>0.467176</td>\n",
       "    </tr>\n",
       "    <tr>\n",
       "      <th>2</th>\n",
       "      <td>2022-06-27 13:30:00</td>\n",
       "      <td>202227</td>\n",
       "      <td>Equip2031</td>\n",
       "      <td>Feature2_mean</td>\n",
       "      <td>Equip2031_Feature2_mean</td>\n",
       "      <td>0.159094</td>\n",
       "    </tr>\n",
       "    <tr>\n",
       "      <th>3</th>\n",
       "      <td>2022-06-27 14:00:00</td>\n",
       "      <td>202227</td>\n",
       "      <td>Equip2031</td>\n",
       "      <td>Feature2_mean</td>\n",
       "      <td>Equip2031_Feature2_mean</td>\n",
       "      <td>-0.148988</td>\n",
       "    </tr>\n",
       "    <tr>\n",
       "      <th>4</th>\n",
       "      <td>2022-06-27 17:30:00</td>\n",
       "      <td>202227</td>\n",
       "      <td>Equip2031</td>\n",
       "      <td>Feature2_mean</td>\n",
       "      <td>Equip2031_Feature2_mean</td>\n",
       "      <td>4.671594</td>\n",
       "    </tr>\n",
       "    <tr>\n",
       "      <th>...</th>\n",
       "      <td>...</td>\n",
       "      <td>...</td>\n",
       "      <td>...</td>\n",
       "      <td>...</td>\n",
       "      <td>...</td>\n",
       "      <td>...</td>\n",
       "    </tr>\n",
       "    <tr>\n",
       "      <th>11671</th>\n",
       "      <td>2022-11-24 01:15:00</td>\n",
       "      <td>202248</td>\n",
       "      <td>Equip2031</td>\n",
       "      <td>Feature2_mean</td>\n",
       "      <td>Equip2031_Feature2_mean</td>\n",
       "      <td>-0.714712</td>\n",
       "    </tr>\n",
       "    <tr>\n",
       "      <th>11672</th>\n",
       "      <td>2022-11-24 01:45:00</td>\n",
       "      <td>202248</td>\n",
       "      <td>Equip2031</td>\n",
       "      <td>Feature2_mean</td>\n",
       "      <td>Equip2031_Feature2_mean</td>\n",
       "      <td>0.327343</td>\n",
       "    </tr>\n",
       "    <tr>\n",
       "      <th>11673</th>\n",
       "      <td>2022-11-24 02:00:00</td>\n",
       "      <td>202248</td>\n",
       "      <td>Equip2031</td>\n",
       "      <td>Feature2_mean</td>\n",
       "      <td>Equip2031_Feature2_mean</td>\n",
       "      <td>0.953970</td>\n",
       "    </tr>\n",
       "    <tr>\n",
       "      <th>11674</th>\n",
       "      <td>2022-11-24 02:15:00</td>\n",
       "      <td>202248</td>\n",
       "      <td>Equip2031</td>\n",
       "      <td>Feature2_mean</td>\n",
       "      <td>Equip2031_Feature2_mean</td>\n",
       "      <td>-0.825175</td>\n",
       "    </tr>\n",
       "    <tr>\n",
       "      <th>11675</th>\n",
       "      <td>2022-11-24 02:30:00</td>\n",
       "      <td>202248</td>\n",
       "      <td>Equip2031</td>\n",
       "      <td>Feature2_mean</td>\n",
       "      <td>Equip2031_Feature2_mean</td>\n",
       "      <td>-0.804539</td>\n",
       "    </tr>\n",
       "  </tbody>\n",
       "</table>\n",
       "<p>11676 rows × 6 columns</p>\n",
       "</div>"
      ],
      "text/plain": [
       "                     time  RUN_START_WW      Equip         series  \\\n",
       "0     2022-06-27 01:45:00        202227  Equip2031  Feature2_mean   \n",
       "1     2022-06-27 07:00:00        202227  Equip2031  Feature2_mean   \n",
       "2     2022-06-27 13:30:00        202227  Equip2031  Feature2_mean   \n",
       "3     2022-06-27 14:00:00        202227  Equip2031  Feature2_mean   \n",
       "4     2022-06-27 17:30:00        202227  Equip2031  Feature2_mean   \n",
       "...                   ...           ...        ...            ...   \n",
       "11671 2022-11-24 01:15:00        202248  Equip2031  Feature2_mean   \n",
       "11672 2022-11-24 01:45:00        202248  Equip2031  Feature2_mean   \n",
       "11673 2022-11-24 02:00:00        202248  Equip2031  Feature2_mean   \n",
       "11674 2022-11-24 02:15:00        202248  Equip2031  Feature2_mean   \n",
       "11675 2022-11-24 02:30:00        202248  Equip2031  Feature2_mean   \n",
       "\n",
       "                           key     value  \n",
       "0      Equip2031_Feature2_mean  0.620855  \n",
       "1      Equip2031_Feature2_mean  0.467176  \n",
       "2      Equip2031_Feature2_mean  0.159094  \n",
       "3      Equip2031_Feature2_mean -0.148988  \n",
       "4      Equip2031_Feature2_mean  4.671594  \n",
       "...                        ...       ...  \n",
       "11671  Equip2031_Feature2_mean -0.714712  \n",
       "11672  Equip2031_Feature2_mean  0.327343  \n",
       "11673  Equip2031_Feature2_mean  0.953970  \n",
       "11674  Equip2031_Feature2_mean -0.825175  \n",
       "11675  Equip2031_Feature2_mean -0.804539  \n",
       "\n",
       "[11676 rows x 6 columns]"
      ]
     },
     "execution_count": 263,
     "metadata": {},
     "output_type": "execute_result"
    }
   ],
   "source": [
    "data_obj.dfs[10]"
   ]
  },
  {
   "cell_type": "code",
   "execution_count": 264,
   "id": "ce7658f5",
   "metadata": {},
   "outputs": [
    {
     "name": "stdout",
     "output_type": "stream",
     "text": [
      "Equip2000_Feature2_mean\n",
      "Equip2001_Feature2_mean\n",
      "Equip2010_Feature2_mean\n",
      "Equip2011_Feature2_mean\n",
      "Equip2050_Feature2_mean\n",
      "Equip2051_Feature2_mean\n",
      "Equip2060_Feature2_mean\n",
      "Equip2061_Feature2_mean\n",
      "Equip2020_Feature2_mean\n",
      "Equip2021_Feature2_mean\n",
      "Equip2031_Feature2_mean\n",
      "Equip2040_Feature2_mean\n",
      "Equip2041_Feature2_mean\n",
      "Equip2030_Feature2_mean\n",
      "Equip2000_Feature2_std\n",
      "Equip2001_Feature2_std\n",
      "Equip2010_Feature2_std\n",
      "Equip2010_Feature2_std\n",
      "Equip2010_Feature2_std\n",
      "Equip2011_Feature2_std\n",
      "Equip2050_Feature2_std\n",
      "Equip2051_Feature2_std\n",
      "Equip2060_Feature2_std\n",
      "Equip2061_Feature2_std\n",
      "Equip2020_Feature2_std\n",
      "Equip2021_Feature2_std\n",
      "Equip2031_Feature2_std\n",
      "Equip2031_Feature2_std\n",
      "Equip2031_Feature2_std\n",
      "Equip2031_Feature2_std\n",
      "Equip2031_Feature2_std\n",
      "Equip2040_Feature2_std\n",
      "Equip2041_Feature2_std\n",
      "Equip2030_Feature2_std\n"
     ]
    }
   ],
   "source": [
    "for i in range(len(data_obj.dfs)):\n",
    "    print(data_obj.dfs[i].loc[0, 'key'])"
   ]
  },
  {
   "cell_type": "code",
   "execution_count": 265,
   "id": "6fc3a887",
   "metadata": {},
   "outputs": [
    {
     "data": {
      "text/plain": [
       "0        1.596570\n",
       "1        1.715241\n",
       "2        1.372563\n",
       "3        0.360406\n",
       "4        2.558051\n",
       "           ...   \n",
       "12904   -0.978973\n",
       "12905   -1.080436\n",
       "12906   -1.120397\n",
       "12907   -1.324339\n",
       "12908   -2.736174\n",
       "Name: value, Length: 12909, dtype: float64"
      ]
     },
     "execution_count": 265,
     "metadata": {},
     "output_type": "execute_result"
    }
   ],
   "source": [
    "data_obj.dfs[5]['value']"
   ]
  },
  {
   "cell_type": "code",
   "execution_count": 239,
   "id": "6014299a",
   "metadata": {
    "scrolled": true
   },
   "outputs": [
    {
     "name": "stdout",
     "output_type": "stream",
     "text": [
      "index 24 - key Equip2060_Feature9_mean - len 10267\n",
      "index 29 - key Equip2061_Feature9_mean - len 10267\n",
      "index 34 - key Equip2030_Feature9_mean - len 12748\n",
      "index 39 - key Equip2031_Feature9_mean - len 12748\n",
      "index 49 - key Equip2010_Feature9_mean - len 14790\n",
      "index 54 - key Equip2011_Feature9_mean - len 14790\n",
      "index 74 - key Equip2050_Feature9_mean - len 14514\n",
      "index 79 - key Equip2051_Feature9_mean - len 14514\n",
      "index 84 - key Equip2000_Feature9_mean - len 15748\n",
      "index 89 - key Equip2001_Feature9_mean - len 15748\n",
      "index 94 - key Equip2020_Feature9_mean - len 14944\n",
      "index 99 - key Equip2021_Feature9_mean - len 14944\n",
      "index 116 - key Equip2040_Feature9_mean - len 14319\n",
      "index 121 - key Equip2041_Feature9_mean - len 9999\n",
      "index 122 - key Equip2041_Feature9_mean - len 4320\n",
      "index 123 - key Equip2041_Feature9_mean - len 14319\n",
      "index 174 - key Equip2060_Feature9_std - len 10267\n",
      "index 179 - key Equip2061_Feature9_std - len 10267\n",
      "index 184 - key Equip2030_Feature9_std - len 12748\n",
      "index 189 - key Equip2031_Feature9_std - len 12748\n",
      "index 199 - key Equip2010_Feature9_std - len 14790\n",
      "index 204 - key Equip2011_Feature9_std - len 14790\n",
      "index 224 - key Equip2050_Feature9_std - len 14514\n",
      "index 229 - key Equip2051_Feature9_std - len 14514\n",
      "index 234 - key Equip2000_Feature9_std - len 15748\n",
      "index 239 - key Equip2001_Feature9_std - len 15748\n",
      "index 244 - key Equip2020_Feature9_std - len 14944\n",
      "index 249 - key Equip2021_Feature9_std - len 14944\n",
      "index 264 - key Equip2040_Feature9_std - len 14319\n",
      "index 269 - key Equip2041_Feature9_std - len 14319\n"
     ]
    }
   ],
   "source": [
    "circflow_mean_idx = []\n",
    "for i in range(len(data_obj.dfs)):\n",
    "    if 'Feature9' in data_obj.dfs[i].loc[0, 'key'] and len(data_obj.dfs[i]) > 1000:\n",
    "        circflow_mean_idx.append(i)\n",
    "        print(f\"index {i} - key {data_obj.dfs[i].loc[0, 'key']} - len {len(data_obj.dfs[i])}\")"
   ]
  },
  {
   "cell_type": "code",
   "execution_count": 240,
   "id": "658c5eb6",
   "metadata": {
    "scrolled": true
   },
   "outputs": [
    {
     "name": "stdout",
     "output_type": "stream",
     "text": [
      "index 23 - key Equip2060_Feature4_mean - len 10267\n",
      "index 28 - key Equip2061_Feature4_mean - len 10267\n",
      "index 33 - key Equip2030_Feature4_mean - len 12748\n",
      "index 38 - key Equip2031_Feature4_mean - len 12748\n",
      "index 48 - key Equip2010_Feature4_mean - len 14790\n",
      "index 53 - key Equip2011_Feature4_mean - len 14790\n",
      "index 73 - key Equip2050_Feature4_mean - len 14514\n",
      "index 78 - key Equip2051_Feature4_mean - len 14514\n",
      "index 83 - key Equip2000_Feature4_mean - len 15748\n",
      "index 88 - key Equip2001_Feature4_mean - len 15748\n",
      "index 93 - key Equip2020_Feature4_mean - len 14944\n",
      "index 98 - key Equip2021_Feature4_mean - len 14944\n",
      "index 115 - key Equip2040_Feature4_mean - len 14319\n",
      "index 120 - key Equip2041_Feature4_mean - len 14319\n",
      "index 173 - key Equip2060_Feature4_std - len 10267\n",
      "index 178 - key Equip2061_Feature4_std - len 10267\n",
      "index 183 - key Equip2030_Feature4_std - len 12748\n",
      "index 188 - key Equip2031_Feature4_std - len 12748\n",
      "index 198 - key Equip2010_Feature4_std - len 14790\n",
      "index 203 - key Equip2011_Feature4_std - len 14790\n",
      "index 223 - key Equip2050_Feature4_std - len 14514\n",
      "index 228 - key Equip2051_Feature4_std - len 14514\n",
      "index 233 - key Equip2000_Feature4_std - len 15748\n",
      "index 238 - key Equip2001_Feature4_std - len 15748\n",
      "index 243 - key Equip2020_Feature4_std - len 14944\n",
      "index 248 - key Equip2021_Feature4_std - len 14944\n",
      "index 263 - key Equip2040_Feature4_std - len 14319\n",
      "index 268 - key Equip2041_Feature4_std - len 14319\n"
     ]
    }
   ],
   "source": [
    "circflow_std_idx = []\n",
    "for i in range(len(data_obj.dfs)):\n",
    "    if 'Feature4' in data_obj.dfs[i].loc[0, 'key'] and len(data_obj.dfs[i]) > 1000:\n",
    "        circflow_std_idx.append(i)\n",
    "        print(f\"index {i} - key {data_obj.dfs[i].loc[0, 'key']} - len {len(data_obj.dfs[i])}\")"
   ]
  },
  {
   "cell_type": "code",
   "execution_count": 241,
   "id": "c9e22d33",
   "metadata": {
    "scrolled": true
   },
   "outputs": [
    {
     "name": "stdout",
     "output_type": "stream",
     "text": [
      "index 20 - key Equip2060_Feature0_mean - len 10267\n",
      "index 25 - key Equip2061_Feature0_mean - len 10267\n",
      "index 30 - key Equip2030_Feature0_mean - len 12748\n",
      "index 35 - key Equip2031_Feature0_mean - len 12748\n",
      "index 45 - key Equip2010_Feature0_mean - len 14790\n",
      "index 50 - key Equip2011_Feature0_mean - len 14790\n",
      "index 70 - key Equip2050_Feature0_mean - len 14514\n",
      "index 75 - key Equip2051_Feature0_mean - len 14514\n",
      "index 80 - key Equip2000_Feature0_mean - len 15748\n",
      "index 85 - key Equip2001_Feature0_mean - len 15748\n",
      "index 90 - key Equip2020_Feature0_mean - len 14944\n",
      "index 95 - key Equip2021_Feature0_mean - len 14944\n",
      "index 110 - key Equip2040_Feature0_mean - len 14319\n",
      "index 117 - key Equip2041_Feature0_mean - len 14319\n",
      "index 170 - key Equip2060_Feature0_std - len 10267\n",
      "index 175 - key Equip2061_Feature0_std - len 10267\n",
      "index 180 - key Equip2030_Feature0_std - len 12748\n",
      "index 185 - key Equip2031_Feature0_std - len 12748\n",
      "index 195 - key Equip2010_Feature0_std - len 14790\n",
      "index 200 - key Equip2011_Feature0_std - len 14790\n",
      "index 220 - key Equip2050_Feature0_std - len 14514\n",
      "index 225 - key Equip2051_Feature0_std - len 14514\n",
      "index 230 - key Equip2000_Feature0_std - len 15748\n",
      "index 235 - key Equip2001_Feature0_std - len 15748\n",
      "index 240 - key Equip2020_Feature0_std - len 14944\n",
      "index 245 - key Equip2021_Feature0_std - len 14944\n",
      "index 260 - key Equip2040_Feature0_std - len 14319\n",
      "index 265 - key Equip2041_Feature0_std - len 14319\n"
     ]
    }
   ],
   "source": [
    "ppress_idx = []\n",
    "for i in range(len(data_obj.dfs)):\n",
    "    if 'Feature0' in data_obj.dfs[i].loc[0, 'key'] and len(data_obj.dfs[i]) > 1000:\n",
    "        ppress_idx.append(i)\n",
    "        print(f\"index {i} - key {data_obj.dfs[i].loc[0, 'key']} - len {len(data_obj.dfs[i])}\")"
   ]
  },
  {
   "cell_type": "code",
   "execution_count": 266,
   "id": "b652356b",
   "metadata": {},
   "outputs": [
    {
     "name": "stdout",
     "output_type": "stream",
     "text": [
      "index 0 - key Equip2000_Feature2_mean - len 13249\n",
      "index 1 - key Equip2001_Feature2_mean - len 13199\n",
      "index 2 - key Equip2010_Feature2_mean - len 12425\n",
      "index 3 - key Equip2011_Feature2_mean - len 12411\n",
      "index 4 - key Equip2050_Feature2_mean - len 12985\n",
      "index 5 - key Equip2051_Feature2_mean - len 12909\n",
      "index 6 - key Equip2060_Feature2_mean - len 8709\n",
      "index 7 - key Equip2061_Feature2_mean - len 8696\n",
      "index 8 - key Equip2020_Feature2_mean - len 12680\n",
      "index 9 - key Equip2021_Feature2_mean - len 12667\n",
      "index 10 - key Equip2031_Feature2_mean - len 11676\n",
      "index 11 - key Equip2040_Feature2_mean - len 11372\n",
      "index 12 - key Equip2041_Feature2_mean - len 11392\n",
      "index 13 - key Equip2030_Feature2_mean - len 11665\n",
      "index 14 - key Equip2000_Feature2_std - len 13249\n",
      "index 15 - key Equip2001_Feature2_std - len 13199\n",
      "index 16 - key Equip2010_Feature2_std - len 4318\n",
      "index 17 - key Equip2010_Feature2_std - len 8107\n",
      "index 18 - key Equip2010_Feature2_std - len 12425\n",
      "index 19 - key Equip2011_Feature2_std - len 12411\n",
      "index 20 - key Equip2050_Feature2_std - len 12985\n",
      "index 21 - key Equip2051_Feature2_std - len 12909\n",
      "index 22 - key Equip2060_Feature2_std - len 8709\n",
      "index 23 - key Equip2061_Feature2_std - len 8696\n",
      "index 24 - key Equip2020_Feature2_std - len 12680\n",
      "index 25 - key Equip2021_Feature2_std - len 12667\n",
      "index 26 - key Equip2031_Feature2_std - len 11479\n",
      "index 28 - key Equip2031_Feature2_std - len 11528\n",
      "index 30 - key Equip2031_Feature2_std - len 11676\n",
      "index 31 - key Equip2040_Feature2_std - len 11372\n",
      "index 32 - key Equip2041_Feature2_std - len 11392\n",
      "index 33 - key Equip2030_Feature2_std - len 11665\n"
     ]
    }
   ],
   "source": [
    "ramp_idx = []\n",
    "for i in range(len(data_obj.dfs)):\n",
    "    if 'Feature2' in data_obj.dfs[i].loc[0, 'key'] and len(data_obj.dfs[i]) > 1000:\n",
    "        ramp_idx.append(i)\n",
    "        print(f\"index {i} - key {data_obj.dfs[i].loc[0, 'key']} - len {len(data_obj.dfs[i])}\")"
   ]
  },
  {
   "cell_type": "code",
   "execution_count": 267,
   "id": "46acbe54",
   "metadata": {},
   "outputs": [],
   "source": [
    "ramp_dfs  = [data_obj.dfs[i] for i in ramp_idx]"
   ]
  },
  {
   "cell_type": "code",
   "execution_count": 248,
   "id": "9ba26890",
   "metadata": {},
   "outputs": [],
   "source": [
    "ppress_dfs = [data_obj.dfs[i] for i in ppress_idx]\n",
    "circflow_std_dfs = [data_obj.dfs[i] for i in circflow_std_idx]\n",
    "circflow_mean_dfs = [data_obj.dfs[i] for i in circflow_mean_idx]\n",
    "ramp_dfs  = [data_obj.dfs[i] for i in ramp_idx]"
   ]
  },
  {
   "cell_type": "code",
   "execution_count": 268,
   "id": "7599384a",
   "metadata": {},
   "outputs": [],
   "source": [
    "ramp_dfs[10].to_excel('..//..//sample_data_file_ramp_max.xlsx', engine='xlsxwriter')"
   ]
  },
  {
   "cell_type": "code",
   "execution_count": 270,
   "id": "e0ca8d3a",
   "metadata": {},
   "outputs": [],
   "source": [
    "test_dfs = ramp_dfs"
   ]
  },
  {
   "cell_type": "code",
   "execution_count": 272,
   "id": "f05d07e7",
   "metadata": {},
   "outputs": [],
   "source": [
    "w = 20\n",
    "Q = test_dfs[0][-w:]['value'].values\n",
    "T = test_dfs[0]['value'].values\n",
    "k = 30"
   ]
  },
  {
   "cell_type": "code",
   "execution_count": 45,
   "id": "4f792f37",
   "metadata": {},
   "outputs": [
    {
     "data": {
      "text/plain": [
       "array([-1.78963936, -1.14104214, -0.16814631, -0.42037856, -0.94543345,\n",
       "       -0.70246688, -0.5233305 , -0.03533831, -0.13946684, -0.50788771])"
      ]
     },
     "execution_count": 45,
     "metadata": {},
     "output_type": "execute_result"
    }
   ],
   "source": [
    "Q"
   ]
  },
  {
   "cell_type": "code",
   "execution_count": 273,
   "id": "f470405a",
   "metadata": {},
   "outputs": [
    {
     "name": "stdout",
     "output_type": "stream",
     "text": [
      "13249\n",
      "20\n"
     ]
    }
   ],
   "source": [
    "print(len(T))\n",
    "print(len(Q))"
   ]
  },
  {
   "cell_type": "code",
   "execution_count": 274,
   "id": "c1f1011a",
   "metadata": {},
   "outputs": [],
   "source": [
    "import MASS_V4\n",
    "reload(MASS_V4)\n",
    "from MASS_V4 import MASS_V4"
   ]
  },
  {
   "cell_type": "code",
   "execution_count": 275,
   "id": "128e7b88",
   "metadata": {},
   "outputs": [],
   "source": [
    "mass = MASS_V4(len(Q))"
   ]
  },
  {
   "cell_type": "code",
   "execution_count": 276,
   "id": "195f7550",
   "metadata": {},
   "outputs": [
    {
     "data": {
      "text/plain": [
       "30"
      ]
     },
     "execution_count": 276,
     "metadata": {},
     "output_type": "execute_result"
    }
   ],
   "source": [
    "floor((3*w+1)/2)"
   ]
  },
  {
   "cell_type": "code",
   "execution_count": 277,
   "id": "4027cb3d",
   "metadata": {},
   "outputs": [],
   "source": [
    "batchs = mass.get_batch_size(floor((3*w+1)/2), 10)"
   ]
  },
  {
   "cell_type": "code",
   "execution_count": 278,
   "id": "29991564",
   "metadata": {},
   "outputs": [
    {
     "data": {
      "text/plain": [
       "20"
      ]
     },
     "execution_count": 278,
     "metadata": {},
     "output_type": "execute_result"
    }
   ],
   "source": [
    "batchs"
   ]
  },
  {
   "cell_type": "code",
   "execution_count": 279,
   "id": "cb4cf687",
   "metadata": {},
   "outputs": [],
   "source": [
    "x_pad, y_pad, start_i = mass.dct_padding(T, Q)"
   ]
  },
  {
   "cell_type": "code",
   "execution_count": 280,
   "id": "16282d3c",
   "metadata": {},
   "outputs": [
    {
     "name": "stdout",
     "output_type": "stream",
     "text": [
      "19874\n",
      "19874\n",
      "10\n"
     ]
    }
   ],
   "source": [
    "print(len(x_pad))\n",
    "print(len(y_pad))\n",
    "print(start_i)"
   ]
  },
  {
   "cell_type": "code",
   "execution_count": 281,
   "id": "8d247ba7",
   "metadata": {},
   "outputs": [
    {
     "data": {
      "text/plain": [
       "array([0., 0., 0., 0., 0., 0., 0., 0., 0., 0., 0., 0., 0., 0., 0., 0.])"
      ]
     },
     "execution_count": 281,
     "metadata": {},
     "output_type": "execute_result"
    }
   ],
   "source": [
    "y_pad[1704:1720]"
   ]
  },
  {
   "cell_type": "code",
   "execution_count": 282,
   "id": "b4870215",
   "metadata": {},
   "outputs": [],
   "source": [
    "dd = mass.dct_dot_product(T[100: 100+batchs], Q)"
   ]
  },
  {
   "cell_type": "code",
   "execution_count": 283,
   "id": "e2d90553",
   "metadata": {},
   "outputs": [
    {
     "data": {
      "text/plain": [
       "1"
      ]
     },
     "execution_count": 283,
     "metadata": {},
     "output_type": "execute_result"
    }
   ],
   "source": [
    "len(dd)"
   ]
  },
  {
   "cell_type": "code",
   "execution_count": 284,
   "id": "78b903a5",
   "metadata": {},
   "outputs": [
    {
     "data": {
      "text/plain": [
       "array([3.43395207])"
      ]
     },
     "execution_count": 284,
     "metadata": {},
     "output_type": "execute_result"
    }
   ],
   "source": [
    "dd"
   ]
  },
  {
   "cell_type": "code",
   "execution_count": 285,
   "id": "56e37974",
   "metadata": {},
   "outputs": [],
   "source": [
    "mws = mass.movstd(T[100: 100+batchs], len(Q))"
   ]
  },
  {
   "cell_type": "code",
   "execution_count": 286,
   "id": "a7ae170a",
   "metadata": {},
   "outputs": [
    {
     "data": {
      "text/plain": [
       "array([0.85664947])"
      ]
     },
     "execution_count": 286,
     "metadata": {},
     "output_type": "execute_result"
    }
   ],
   "source": [
    "mws"
   ]
  },
  {
   "cell_type": "code",
   "execution_count": 287,
   "id": "1bfac956",
   "metadata": {},
   "outputs": [],
   "source": [
    "sim = mass.dist_prof(T, Q)"
   ]
  },
  {
   "cell_type": "code",
   "execution_count": 288,
   "id": "8f1a8f77",
   "metadata": {},
   "outputs": [
    {
     "data": {
      "text/plain": [
       "array([5.30480521e+00, 6.37445654e+00, 5.87105514e+00, ...,\n",
       "       6.71570180e+00, 5.57970759e+00, 1.19209290e-07])"
      ]
     },
     "execution_count": 288,
     "metadata": {},
     "output_type": "execute_result"
    }
   ],
   "source": [
    "sim"
   ]
  },
  {
   "cell_type": "code",
   "execution_count": 289,
   "id": "4e130121",
   "metadata": {},
   "outputs": [
    {
     "data": {
      "text/plain": [
       "13230"
      ]
     },
     "execution_count": 289,
     "metadata": {},
     "output_type": "execute_result"
    }
   ],
   "source": [
    "len(sim)"
   ]
  },
  {
   "cell_type": "code",
   "execution_count": 290,
   "id": "21b88312",
   "metadata": {},
   "outputs": [
    {
     "data": {
      "text/plain": [
       "array([5.37235703, 6.71021055, 6.60695221, 6.75227038, 6.0720676 ,\n",
       "       6.86732007, 5.71435328, 5.28573614, 6.24288595, 6.62376356,\n",
       "       6.77980993, 4.77168346, 6.48902115, 7.13053405, 6.60715071,\n",
       "       5.17008476, 5.68362139, 6.88070133, 6.07934659, 6.57592114])"
      ]
     },
     "execution_count": 290,
     "metadata": {},
     "output_type": "execute_result"
    }
   ],
   "source": [
    "sim[10:30]"
   ]
  },
  {
   "cell_type": "code",
   "execution_count": 291,
   "id": "df982bd0",
   "metadata": {},
   "outputs": [
    {
     "data": {
      "text/plain": [
       "0"
      ]
     },
     "execution_count": 291,
     "metadata": {},
     "output_type": "execute_result"
    }
   ],
   "source": [
    "sum(np.isnan(sim))"
   ]
  },
  {
   "cell_type": "code",
   "execution_count": 292,
   "id": "9628d221",
   "metadata": {},
   "outputs": [
    {
     "data": {
      "text/plain": [
       "2343"
      ]
     },
     "execution_count": 292,
     "metadata": {},
     "output_type": "execute_result"
    }
   ],
   "source": [
    "np.argmax(sim)"
   ]
  },
  {
   "cell_type": "code",
   "execution_count": 293,
   "id": "f2ec728e",
   "metadata": {},
   "outputs": [
    {
     "data": {
      "text/plain": [
       "8.311029091228258"
      ]
     },
     "execution_count": 293,
     "metadata": {},
     "output_type": "execute_result"
    }
   ],
   "source": [
    "sim[2343]"
   ]
  },
  {
   "cell_type": "code",
   "execution_count": 297,
   "id": "f91068e5",
   "metadata": {},
   "outputs": [
    {
     "data": {
      "image/png": "[encoded data removed]",
      "text/plain": [
       "<Figure size 1008x576 with 1 Axes>"
      ]
     },
     "metadata": {
      "needs_background": "light"
     },
     "output_type": "display_data"
    }
   ],
   "source": [
    "plt.figure(figsize=(14, 8))\n",
    "plt.plot(np.arange(2200, 2400), sim[2200:2400], 'o')\n",
    "plt.plot(np.arange(2200, 2400), sim[2200:2400], 'b')\n",
    "plt.show()"
   ]
  },
  {
   "cell_type": "code",
   "execution_count": 298,
   "id": "ced9ced1",
   "metadata": {},
   "outputs": [],
   "source": [
    "TT = test_dfs[0]['value']"
   ]
  },
  {
   "cell_type": "code",
   "execution_count": 308,
   "id": "59c199c6",
   "metadata": {},
   "outputs": [],
   "source": [
    "import DAMP_V2\n",
    "reload(DAMP_V2)\n",
    "from DAMP_V2 import DAMP_V2"
   ]
  },
  {
   "cell_type": "code",
   "execution_count": 300,
   "id": "36e862c4",
   "metadata": {},
   "outputs": [],
   "source": [
    "damp = DAMP_V2({\"lookahead\": 1000, \"enable_output\": True})"
   ]
  },
  {
   "cell_type": "code",
   "execution_count": 302,
   "id": "c9cd3290",
   "metadata": {},
   "outputs": [
    {
     "name": "stdout",
     "output_type": "stream",
     "text": [
      "-----------------------------------------------\n",
      "Thank you for using DAMP.\n",
      "This is version 2.0 of DAMP, please email Eamonn Keogh (eamonn@cs.ucr.edu) or Yue Lu (ylu175@ucr.edu) to make sure you have the latest version.\n",
      "This time series is of length 13249, and the subsequence length is 20\n",
      "The lookahead modified from 1024 to the next power of 2: 1024.\n",
      "Hints:\n",
      "Usually, the subsequence length you should use is between about 50 to 90% of a typical period.\n",
      "A good initial value of lookahead is about 2^nearest_power_of_two(16 times S).\n",
      "The range of lookahead should be 0 to length(T)-location_to_start_processing.\n",
      "If speed is important, you can tune lookahead to get greater speed-up in your domain.\n",
      "A simple search, doubling and halving the current value,\n",
      " should let you quickly converge on a good value.\n",
      "------------------------------------------\n",
      "\n",
      "\n",
      "Results:\n",
      "DAMP_V2 run time 0:12:56.037851\n",
      "Pruning Rate: 0.6956366874443455\n",
      "Predicted discord score/position: 4.037910347804943 / [2969]\n"
     ]
    }
   ],
   "source": [
    "scor, pos, left_MP = damp.DAMP_2_0(TT, 20, 2000)"
   ]
  },
  {
   "cell_type": "code",
   "execution_count": 303,
   "id": "2f5fda3f",
   "metadata": {},
   "outputs": [
    {
     "name": "stdout",
     "output_type": "stream",
     "text": [
      "-----------------------------------------------\n",
      "Thank you for using DAMP.\n",
      "This is version 2.0 of DAMP, please email Eamonn Keogh (eamonn@cs.ucr.edu) or Yue Lu (ylu175@ucr.edu) to make sure you have the latest version.\n",
      "This time series is of length 13249, and the subsequence length is 20\n",
      "The lookahead modified from 1024 to the next power of 2: 1024.\n",
      "Hints:\n",
      "Usually, the subsequence length you should use is between about 50 to 90% of a typical period.\n",
      "A good initial value of lookahead is about 2^nearest_power_of_two(16 times S).\n",
      "The range of lookahead should be 0 to length(T)-location_to_start_processing.\n",
      "If speed is important, you can tune lookahead to get greater speed-up in your domain.\n",
      "A simple search, doubling and halving the current value,\n",
      " should let you quickly converge on a good value.\n",
      "------------------------------------------\n",
      "\n",
      "\n",
      "Results:\n",
      "DAMP_V2 run time 0:16:41.871480\n",
      "Pruning Rate: 0.4501547987616099\n",
      "Predicted discord score/position: 3.7305603582478533 / [11557]\n"
     ]
    }
   ],
   "source": [
    "scor, pos, left_MP = damp.DAMP_2_0(TT, 20, 10000)"
   ]
  },
  {
   "cell_type": "code",
   "execution_count": 306,
   "id": "edd6f0d2",
   "metadata": {},
   "outputs": [
    {
     "data": {
      "image/png": "[encoded data removed]",
      "text/plain": [
       "<Figure size 1008x576 with 1 Axes>"
      ]
     },
     "metadata": {
      "needs_background": "light"
     },
     "output_type": "display_data"
    }
   ],
   "source": [
    "plt.figure(figsize=(14, 8))\n",
    "plt.plot(np.arange(11000, 11200), TT[11000:11200])\n",
    "plt.show()"
   ]
  },
  {
   "cell_type": "code",
   "execution_count": 309,
   "id": "d2ab4a1a",
   "metadata": {},
   "outputs": [
    {
     "name": "stdout",
     "output_type": "stream",
     "text": [
      "-----------------------------------------------\n",
      "Thank you for using DAMP.\n",
      "This is version 2.0 of DAMP, please email Eamonn Keogh (eamonn@cs.ucr.edu) or Yue Lu (ylu175@ucr.edu) to make sure you have the latest version.\n",
      "This time series is of length 13249, and the subsequence length is 20\n",
      "The lookahead modified from 1000 to the next power of 2: 1024.\n",
      "Hints:\n",
      "Usually, the subsequence length you should use is between about 50 to 90% of a typical period.\n",
      "A good initial value of lookahead is about 2^nearest_power_of_two(16 times S).\n",
      "The range of lookahead should be 0 to length(T)-location_to_start_processing.\n",
      "If speed is important, you can tune lookahead to get greater speed-up in your domain.\n",
      "A simple search, doubling and halving the current value,\n",
      " should let you quickly converge on a good value.\n",
      "------------------------------------------\n",
      "\n",
      "\n",
      "WARNING: \n",
      "Location to start processing cannot be greater than length(T)-S+1\n",
      "Location to start processing has been set to 13230.\n",
      "------------------------------------------\n",
      "\n",
      "\n"
     ]
    },
    {
     "ename": "ZeroDivisionError",
     "evalue": "division by zero",
     "output_type": "error",
     "traceback": [
      "\u001b[1;31m---------------------------------------------------------------------------\u001b[0m",
      "\u001b[1;31mZeroDivisionError\u001b[0m                         Traceback (most recent call last)",
      "\u001b[1;32m~\\AppData\\Local\\Temp/ipykernel_46292/2174254138.py\u001b[0m in \u001b[0;36m<module>\u001b[1;34m\u001b[0m\n\u001b[0;32m      1\u001b[0m \u001b[0mdamp3\u001b[0m \u001b[1;33m=\u001b[0m \u001b[0mDAMP_V2\u001b[0m\u001b[1;33m(\u001b[0m\u001b[1;33m{\u001b[0m\u001b[1;34m\"lookahead\"\u001b[0m\u001b[1;33m:\u001b[0m \u001b[1;36m1000\u001b[0m\u001b[1;33m,\u001b[0m \u001b[1;34m\"enable_output\"\u001b[0m\u001b[1;33m:\u001b[0m \u001b[1;32mTrue\u001b[0m\u001b[1;33m}\u001b[0m\u001b[1;33m)\u001b[0m\u001b[1;33m\u001b[0m\u001b[1;33m\u001b[0m\u001b[0m\n\u001b[1;32m----> 2\u001b[1;33m \u001b[0mscor3\u001b[0m\u001b[1;33m,\u001b[0m \u001b[0mpos3\u001b[0m\u001b[1;33m,\u001b[0m \u001b[0mleft_MP3\u001b[0m \u001b[1;33m=\u001b[0m \u001b[0mdamp3\u001b[0m\u001b[1;33m.\u001b[0m\u001b[0mDAMP_2_0\u001b[0m\u001b[1;33m(\u001b[0m\u001b[0mTT\u001b[0m\u001b[1;33m,\u001b[0m \u001b[1;36m20\u001b[0m\u001b[1;33m,\u001b[0m \u001b[1;36m14000\u001b[0m\u001b[1;33m)\u001b[0m\u001b[1;33m\u001b[0m\u001b[1;33m\u001b[0m\u001b[0m\n\u001b[0m",
      "\u001b[1;32mC:\\ALEX\\BGU\\TDA\\PROJECT\\TSAD_project\\DAMP_V2.py\u001b[0m in \u001b[0;36mDAMP_2_0\u001b[1;34m(self, T, subseq_len, start_loc)\u001b[0m\n\u001b[0;32m    100\u001b[0m         \u001b[1;31m# Get pruning rate\u001b[0m\u001b[1;33m\u001b[0m\u001b[1;33m\u001b[0m\u001b[0m\n\u001b[0;32m    101\u001b[0m         \u001b[0mPV\u001b[0m \u001b[1;33m=\u001b[0m \u001b[0mbool_vec\u001b[0m\u001b[1;33m[\u001b[0m\u001b[0mstart_loc\u001b[0m\u001b[1;33m:\u001b[0m \u001b[0mN\u001b[0m \u001b[1;33m-\u001b[0m \u001b[0msubseq_len\u001b[0m \u001b[1;33m+\u001b[0m \u001b[1;36m1\u001b[0m\u001b[1;33m]\u001b[0m\u001b[1;33m\u001b[0m\u001b[1;33m\u001b[0m\u001b[0m\n\u001b[1;32m--> 102\u001b[1;33m         \u001b[0mPR\u001b[0m \u001b[1;33m=\u001b[0m \u001b[1;33m(\u001b[0m\u001b[0mlen\u001b[0m\u001b[1;33m(\u001b[0m\u001b[0mPV\u001b[0m\u001b[1;33m)\u001b[0m\u001b[1;33m-\u001b[0m\u001b[0msum\u001b[0m\u001b[1;33m(\u001b[0m\u001b[0mPV\u001b[0m\u001b[1;33m)\u001b[0m\u001b[1;33m)\u001b[0m\u001b[1;33m/\u001b[0m\u001b[1;33m(\u001b[0m\u001b[0mlen\u001b[0m\u001b[1;33m(\u001b[0m\u001b[0mPV\u001b[0m\u001b[1;33m)\u001b[0m\u001b[1;33m)\u001b[0m\u001b[1;33m\u001b[0m\u001b[1;33m\u001b[0m\u001b[0m\n\u001b[0m\u001b[0;32m    103\u001b[0m         \u001b[1;31m# Get top discord\u001b[0m\u001b[1;33m\u001b[0m\u001b[1;33m\u001b[0m\u001b[0m\n\u001b[0;32m    104\u001b[0m         \u001b[0mdiscord_score\u001b[0m \u001b[1;33m=\u001b[0m \u001b[0mmax\u001b[0m\u001b[1;33m(\u001b[0m\u001b[0mleft_MP\u001b[0m\u001b[1;33m)\u001b[0m \u001b[1;33m-\u001b[0m \u001b[1;36m0.0000001\u001b[0m\u001b[1;33m\u001b[0m\u001b[1;33m\u001b[0m\u001b[0m\n",
      "\u001b[1;31mZeroDivisionError\u001b[0m: division by zero"
     ]
    }
   ],
   "source": [
    "damp3 = DAMP_V2({\"lookahead\": 1000, \"enable_output\": True})\n",
    "scor3, pos3, left_MP3 = damp3.DAMP_2_0(TT, 20, 14000)"
   ]
  },
  {
   "cell_type": "code",
   "execution_count": 109,
   "id": "d347869c",
   "metadata": {},
   "outputs": [
    {
     "data": {
      "text/plain": [
       "2888"
      ]
     },
     "execution_count": 109,
     "metadata": {},
     "output_type": "execute_result"
    }
   ],
   "source": [
    "len(left_MP)"
   ]
  },
  {
   "cell_type": "code",
   "execution_count": 110,
   "id": "7ed01f00",
   "metadata": {},
   "outputs": [
    {
     "data": {
      "text/plain": [
       "4.825567862541175"
      ]
     },
     "execution_count": 110,
     "metadata": {},
     "output_type": "execute_result"
    }
   ],
   "source": [
    "max(left_MP)"
   ]
  },
  {
   "cell_type": "code",
   "execution_count": 111,
   "id": "3864717d",
   "metadata": {},
   "outputs": [
    {
     "name": "stdout",
     "output_type": "stream",
     "text": [
      "[161]\n"
     ]
    }
   ],
   "source": [
    "max_mp = np.where(left_MP == max(left_MP))\n",
    "print(max_mp[0])"
   ]
  },
  {
   "cell_type": "code",
   "execution_count": 112,
   "id": "50768b66",
   "metadata": {},
   "outputs": [
    {
     "data": {
      "text/plain": [
       "4.825567862541175"
      ]
     },
     "execution_count": 112,
     "metadata": {},
     "output_type": "execute_result"
    }
   ],
   "source": [
    "left_MP[161]"
   ]
  },
  {
   "cell_type": "code",
   "execution_count": 114,
   "id": "9d2f52ad",
   "metadata": {},
   "outputs": [
    {
     "data": {
      "image/png": "[encoded data removed]",
      "text/plain": [
       "<Figure size 1008x576 with 1 Axes>"
      ]
     },
     "metadata": {
      "needs_background": "light"
     },
     "output_type": "display_data"
    }
   ],
   "source": [
    "plt.figure(figsize=(14, 8))\n",
    "plt.plot(np.arange(0, 300), left_MP[:300])\n",
    "plt.show()"
   ]
  },
  {
   "cell_type": "code",
   "execution_count": 115,
   "id": "509c721d",
   "metadata": {},
   "outputs": [
    {
     "name": "stdout",
     "output_type": "stream",
     "text": [
      "(array([ 161,  162,  163,  164,  165,  166,  764, 1117, 1118, 2518],\n",
      "      dtype=int64),)\n"
     ]
    }
   ],
   "source": [
    "maxa = np.where(left_MP > 4.6)\n",
    "print(maxa)"
   ]
  },
  {
   "cell_type": "code",
   "execution_count": 118,
   "id": "6a28dcc6",
   "metadata": {},
   "outputs": [
    {
     "data": {
      "image/png": "[encoded data removed]",
      "text/plain": [
       "<Figure size 1008x576 with 1 Axes>"
      ]
     },
     "metadata": {
      "needs_background": "light"
     },
     "output_type": "display_data"
    }
   ],
   "source": [
    "plt.figure(figsize=(14, 8))\n",
    "plt.plot(np.arange(1000, 1200), left_MP[1000:1200])\n",
    "plt.show()"
   ]
  },
  {
   "cell_type": "code",
   "execution_count": 119,
   "id": "3b4e3df0",
   "metadata": {},
   "outputs": [
    {
     "data": {
      "image/png": "[encoded data removed]",
      "text/plain": [
       "<Figure size 1008x576 with 1 Axes>"
      ]
     },
     "metadata": {
      "needs_background": "light"
     },
     "output_type": "display_data"
    }
   ],
   "source": [
    "plt.figure(figsize=(14, 8))\n",
    "plt.plot(np.arange(1000, 1200), TT[1000:1200])\n",
    "plt.show()"
   ]
  },
  {
   "cell_type": "code",
   "execution_count": null,
   "id": "9a74a5b5",
   "metadata": {},
   "outputs": [],
   "source": []
  },
  {
   "cell_type": "code",
   "execution_count": null,
   "id": "276f4898",
   "metadata": {},
   "outputs": [],
   "source": []
  },
  {
   "cell_type": "code",
   "execution_count": 157,
   "id": "5b2796a2",
   "metadata": {},
   "outputs": [],
   "source": [
    "rng = pd.date_range('1/1/2023 00:00:00', periods=122, freq='1s')"
   ]
  },
  {
   "cell_type": "code",
   "execution_count": 158,
   "id": "d26692d2",
   "metadata": {},
   "outputs": [
    {
     "data": {
      "text/plain": [
       "DatetimeIndex(['2023-01-01 00:00:00', '2023-01-01 00:00:01',\n",
       "               '2023-01-01 00:00:02', '2023-01-01 00:00:03',\n",
       "               '2023-01-01 00:00:04', '2023-01-01 00:00:05',\n",
       "               '2023-01-01 00:00:06', '2023-01-01 00:00:07',\n",
       "               '2023-01-01 00:00:08', '2023-01-01 00:00:09',\n",
       "               ...\n",
       "               '2023-01-01 00:01:52', '2023-01-01 00:01:53',\n",
       "               '2023-01-01 00:01:54', '2023-01-01 00:01:55',\n",
       "               '2023-01-01 00:01:56', '2023-01-01 00:01:57',\n",
       "               '2023-01-01 00:01:58', '2023-01-01 00:01:59',\n",
       "               '2023-01-01 00:02:00', '2023-01-01 00:02:01'],\n",
       "              dtype='datetime64[ns]', length=122, freq='S')"
      ]
     },
     "execution_count": 158,
     "metadata": {},
     "output_type": "execute_result"
    }
   ],
   "source": [
    "rng"
   ]
  },
  {
   "cell_type": "code",
   "execution_count": 159,
   "id": "f6715e83",
   "metadata": {},
   "outputs": [
    {
     "data": {
      "text/plain": [
       "DatetimeIndex(['2023-01-01 00:00:00', '2023-01-01 00:00:00',\n",
       "               '2023-01-01 00:00:00', '2023-01-01 00:00:00',\n",
       "               '2023-01-01 00:00:00', '2023-01-01 00:00:00',\n",
       "               '2023-01-01 00:00:00', '2023-01-01 00:00:00',\n",
       "               '2023-01-01 00:00:00', '2023-01-01 00:00:00',\n",
       "               ...\n",
       "               '2023-01-01 00:01:00', '2023-01-01 00:01:00',\n",
       "               '2023-01-01 00:01:00', '2023-01-01 00:01:00',\n",
       "               '2023-01-01 00:01:00', '2023-01-01 00:01:00',\n",
       "               '2023-01-01 00:01:00', '2023-01-01 00:01:00',\n",
       "               '2023-01-01 00:02:00', '2023-01-01 00:02:00'],\n",
       "              dtype='datetime64[ns]', length=122, freq=None)"
      ]
     },
     "execution_count": 159,
     "metadata": {},
     "output_type": "execute_result"
    }
   ],
   "source": [
    "rng.floor('1min')"
   ]
  },
  {
   "cell_type": "code",
   "execution_count": null,
   "id": "8b0a524b",
   "metadata": {},
   "outputs": [],
   "source": []
  },
  {
   "cell_type": "code",
   "execution_count": null,
   "id": "745c46fb",
   "metadata": {},
   "outputs": [],
   "source": []
  },
  {
   "cell_type": "code",
   "execution_count": null,
   "id": "e3bde1bd",
   "metadata": {},
   "outputs": [],
   "source": []
  },
  {
   "cell_type": "code",
   "execution_count": null,
   "id": "61a5e2d2",
   "metadata": {},
   "outputs": [],
   "source": []
  },
  {
   "cell_type": "code",
   "execution_count": null,
   "id": "349d8ccd",
   "metadata": {},
   "outputs": [],
   "source": []
  },
  {
   "cell_type": "code",
   "execution_count": null,
   "id": "20e2a55d",
   "metadata": {},
   "outputs": [],
   "source": []
  }
 ],
 "metadata": {
  "kernelspec": {
   "display_name": "Python 3 (ipykernel)",
   "language": "python",
   "name": "python3"
  },
  "language_info": {
   "codemirror_mode": {
    "name": "ipython",
    "version": 3
   },
   "file_extension": ".py",
   "mimetype": "text/x-python",
   "name": "python",
   "nbconvert_exporter": "python",
   "pygments_lexer": "ipython3",
   "version": "3.9.7"
  }
 },
 "nbformat": 4,
 "nbformat_minor": 5
}
