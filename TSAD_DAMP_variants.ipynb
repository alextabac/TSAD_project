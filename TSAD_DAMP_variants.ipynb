{
 "cells": [
  {
   "cell_type": "markdown",
   "id": "5c25d849",
   "metadata": {},
   "source": [
    "## Author: Alexandru Paul Tabacaru  ;  alextabac@gmail.com\n",
    "## MIT License"
   ]
  },
  {
   "cell_type": "code",
   "execution_count": 161,
   "id": "8494ea76",
   "metadata": {},
   "outputs": [],
   "source": [
    "import pandas as pd\n",
    "import numpy as np\n",
    "from math import floor\n",
    "import scipy.stats as stats\n",
    "import os\n",
    "import json\n",
    "import random\n",
    "from sklearn.model_selection import train_test_split\n",
    "from pandas_profiling import ProfileReport\n",
    "from datetime import datetime\n",
    "from collections import deque\n",
    "from MASS_V4 import MASS_V4\n",
    "from DAMP_V2 import DAMP_V2\n",
    "from datetime import datetime\n",
    "import matplotlib.pyplot as plt\n",
    "from importlib import reload\n",
    "from data_prep import Data_Preprocess as dprep"
   ]
  },
  {
   "cell_type": "markdown",
   "id": "ceb7fdd2",
   "metadata": {},
   "source": [
    "## Paths and Data Files"
   ]
  },
  {
   "cell_type": "code",
   "execution_count": 3,
   "id": "b80de29a",
   "metadata": {},
   "outputs": [
    {
     "data": {
      "text/plain": [
       "'C:\\\\ALEX\\\\BGU\\\\TDA\\\\PROJECT\\\\TSAD_project'"
      ]
     },
     "execution_count": 3,
     "metadata": {},
     "output_type": "execute_result"
    }
   ],
   "source": [
    "os.getcwd()"
   ]
  },
  {
   "cell_type": "code",
   "execution_count": 4,
   "id": "32714825",
   "metadata": {},
   "outputs": [],
   "source": [
    "data_path = \"..\\\\..\\\\sensors_data\"\n",
    "data_folder = os.path.join(os.getcwd(), data_path)\n",
    "files1 = os.listdir(data_folder)\n",
    "files2 = [os.path.join(data_folder, f) for f in files1 if f.endswith(\"_trim.tab\")]\n",
    "files = [f for f in files2 if os.path.isfile(f)]\n",
    "delimiter = \"\\t\""
   ]
  },
  {
   "cell_type": "markdown",
   "id": "515ecdde",
   "metadata": {},
   "source": [
    "## Equipment digits explained:\n",
    "### first digit is the server NOD number:  1, 2, 3, or 4 otherwise\n",
    "### second digit is the SITE within the NOD: 0, 1, 2.\n",
    "### third digit is the entity number: 0 to 6 at most\n",
    "### fourth digit is the side of the entity:  0 or 1"
   ]
  },
  {
   "cell_type": "code",
   "execution_count": 162,
   "id": "c4f57699",
   "metadata": {},
   "outputs": [],
   "source": [
    "import data_prep\n",
    "reload(data_prep)\n",
    "from data_prep import Data_Preprocess as dprep"
   ]
  },
  {
   "cell_type": "code",
   "execution_count": null,
   "id": "a220f48c",
   "metadata": {},
   "outputs": [],
   "source": [
    "data_obj = dprep()\n",
    "data_obj.load_data(files[0], delimiter)"
   ]
  },
  {
   "cell_type": "code",
   "execution_count": 8,
   "id": "d0f80bb3",
   "metadata": {},
   "outputs": [
    {
     "data": {
      "text/plain": [
       "892868"
      ]
     },
     "execution_count": 8,
     "metadata": {},
     "output_type": "execute_result"
    }
   ],
   "source": [
    "len(data_obj.df)"
   ]
  },
  {
   "cell_type": "code",
   "execution_count": 9,
   "id": "59aaadd8",
   "metadata": {
    "scrolled": true
   },
   "outputs": [
    {
     "name": "stdout",
     "output_type": "stream",
     "text": [
      "Preparing key series Equip2000_Feature2_mean ...\n",
      "Preparing key series Equip2000_Feature5_mean ...\n",
      "Preparing key series Equip2000_Feature6_mean ...\n",
      "Preparing key series Equip2000_Feature7_mean ...\n",
      "Preparing key series Equip2000_Feature8_mean ...\n",
      "Preparing key series Equip2001_Feature2_mean ...\n",
      "Preparing key series Equip2001_Feature5_mean ...\n",
      "Preparing key series Equip2001_Feature6_mean ...\n",
      "Preparing key series Equip2001_Feature7_mean ...\n",
      "Preparing key series Equip2001_Feature8_mean ...\n",
      "Preparing key series Equip2010_Feature0_mean ...\n",
      "Found two clusters or more and need split, in dataset Equip2010_Feature0_mean, indx 2909, delta 3.273769076852412.\n",
      "Found two clusters or more and need split, in dataset Equip2010_Feature0_mean, indx 2888, delta 2.4586883267019286.\n",
      "Preparing key series Equip2010_Feature1_mean ...\n",
      "Preparing key series Equip2010_Feature2_mean ...\n",
      "Preparing key series Equip2010_Feature3_mean ...\n",
      "Found two clusters or more and need split, in dataset Equip2010_Feature3_mean, indx 2891, delta 2.289771506373983.\n",
      "Preparing key series Equip2010_Feature4_mean ...\n",
      "Preparing key series Equip2010_Feature5_mean ...\n",
      "Preparing key series Equip2010_Feature6_mean ...\n",
      "Preparing key series Equip2010_Feature7_mean ...\n",
      "Preparing key series Equip2010_Feature8_mean ...\n",
      "Preparing key series Equip2010_Feature9_mean ...\n",
      "Found two clusters or more and need split, in dataset Equip2010_Feature9_mean, indx 2891, delta 2.631428520819261.\n",
      "Found two clusters or more and need split, in dataset Equip2010_Feature9_mean, indx 22, delta 2.3842534566546876.\n",
      "Preparing key series Equip2011_Feature0_mean ...\n",
      "Preparing key series Equip2011_Feature1_mean ...\n",
      "Preparing key series Equip2011_Feature2_mean ...\n",
      "Preparing key series Equip2011_Feature3_mean ...\n",
      "Found two clusters or more and need split, in dataset Equip2011_Feature3_mean, indx 1244, delta 2.799895326869117.\n",
      "Found two clusters or more and need split, in dataset Equip2011_Feature3_mean, indx 561, delta 2.250155116932293.\n",
      "Found two clusters or more and need split, in dataset Equip2011_Feature3_mean, indx 513, delta 1.9087375901371297.\n",
      "Found two clusters or more and need split, in dataset Equip2011_Feature3_mean, indx 1223, delta 2.386824897922879.\n",
      "Preparing key series Equip2011_Feature4_mean ...\n",
      "Preparing key series Equip2011_Feature5_mean ...\n",
      "Preparing key series Equip2011_Feature6_mean ...\n",
      "Preparing key series Equip2011_Feature7_mean ...\n",
      "Preparing key series Equip2011_Feature8_mean ...\n",
      "Preparing key series Equip2011_Feature9_mean ...\n",
      "Preparing key series Equip2030_Feature0_mean ...\n",
      "Preparing key series Equip2030_Feature1_mean ...\n",
      "Found two clusters or more and need split, in dataset Equip2030_Feature1_mean, indx 3209, delta 1.8959107039233587.\n",
      "Preparing key series Equip2030_Feature3_mean ...\n",
      "Preparing key series Equip2030_Feature4_mean ...\n",
      "Preparing key series Equip2030_Feature9_mean ...\n",
      "Preparing key series Equip2031_Feature0_mean ...\n",
      "Preparing key series Equip2031_Feature1_mean ...\n",
      "Preparing key series Equip2031_Feature3_mean ...\n",
      "Found two clusters or more and need split, in dataset Equip2031_Feature3_mean, indx 2237, delta 7.951519549564531.\n",
      "Found two clusters or more and need split, in dataset Equip2031_Feature3_mean, indx 20, delta 7.951519549564531.\n",
      "Preparing key series Equip2031_Feature4_mean ...\n",
      "Preparing key series Equip2031_Feature9_mean ...\n",
      "Preparing key series Equip2050_Feature0_mean ...\n",
      "Preparing key series Equip2050_Feature1_mean ...\n",
      "Found two clusters or more and need split, in dataset Equip2050_Feature1_mean, indx 3165, delta 1.9759514299652525.\n",
      "Preparing key series Equip2050_Feature2_mean ...\n",
      "Preparing key series Equip2050_Feature3_mean ...\n",
      "Found two clusters or more and need split, in dataset Equip2050_Feature3_mean, indx 22, delta 2.880438036647898.\n",
      "Found two clusters or more and need split, in dataset Equip2050_Feature3_mean, indx 396, delta 2.125644020388675.\n",
      "Found two clusters or more and need split, in dataset Equip2050_Feature3_mean, indx 340, delta 2.077370558215266.\n",
      "Found two clusters or more and need split, in dataset Equip2050_Feature3_mean, indx 108, delta 1.8248545932158007.\n",
      "Preparing key series Equip2050_Feature4_mean ...\n",
      "Preparing key series Equip2050_Feature5_mean ...\n",
      "Preparing key series Equip2050_Feature6_mean ...\n",
      "Preparing key series Equip2050_Feature7_mean ...\n",
      "Preparing key series Equip2050_Feature8_mean ...\n",
      "Preparing key series Equip2050_Feature9_mean ...\n",
      "Preparing key series Equip2051_Feature0_mean ...\n",
      "Preparing key series Equip2051_Feature1_mean ...\n",
      "Found two clusters or more and need split, in dataset Equip2051_Feature1_mean, indx 1409, delta 2.2085088848455863.\n",
      "Found two clusters or more and need split, in dataset Equip2051_Feature1_mean, indx 400, delta 1.8022463378014337.\n",
      "Preparing key series Equip2051_Feature2_mean ...\n",
      "Preparing key series Equip2051_Feature3_mean ...\n",
      "Preparing key series Equip2051_Feature4_mean ...\n",
      "Preparing key series Equip2051_Feature5_mean ...\n",
      "Preparing key series Equip2051_Feature6_mean ...\n",
      "Preparing key series Equip2051_Feature7_mean ...\n",
      "Preparing key series Equip2051_Feature8_mean ...\n",
      "Preparing key series Equip2051_Feature9_mean ...\n",
      "Preparing key series Equip2060_Feature0_mean ...\n",
      "Preparing key series Equip2060_Feature1_mean ...\n",
      "Preparing key series Equip2060_Feature2_mean ...\n",
      "Preparing key series Equip2060_Feature3_mean ...\n",
      "Preparing key series Equip2060_Feature4_mean ...\n",
      "Preparing key series Equip2060_Feature5_mean ...\n",
      "Preparing key series Equip2060_Feature6_mean ...\n",
      "Preparing key series Equip2060_Feature7_mean ...\n",
      "Preparing key series Equip2060_Feature8_mean ...\n",
      "Preparing key series Equip2060_Feature9_mean ...\n",
      "Preparing key series Equip2061_Feature0_mean ...\n",
      "Found two clusters or more and need split, in dataset Equip2061_Feature0_mean, indx 2262, delta 1.9427511402169328.\n",
      "Preparing key series Equip2061_Feature1_mean ...\n",
      "Found two clusters or more and need split, in dataset Equip2061_Feature1_mean, indx 1126, delta 2.0089172438280833.\n",
      "Preparing key series Equip2061_Feature2_mean ...\n",
      "Preparing key series Equip2061_Feature3_mean ...\n",
      "Found two clusters or more and need split, in dataset Equip2061_Feature3_mean, indx 2217, delta 5.857723787751141.\n",
      "Found two clusters or more and need split, in dataset Equip2061_Feature3_mean, indx 2194, delta 4.3186070077748795.\n",
      "Preparing key series Equip2061_Feature4_mean ...\n",
      "Preparing key series Equip2061_Feature5_mean ...\n",
      "Preparing key series Equip2061_Feature6_mean ...\n",
      "Preparing key series Equip2061_Feature7_mean ...\n",
      "Preparing key series Equip2061_Feature8_mean ...\n",
      "Preparing key series Equip2061_Feature9_mean ...\n",
      "Preparing key series Equip2000_Feature0_mean ...\n",
      "Found two clusters or more and need split, in dataset Equip2000_Feature0_mean, indx 565, delta 2.485304186805794.\n",
      "Preparing key series Equip2000_Feature1_mean ...\n",
      "Found two clusters or more and need split, in dataset Equip2000_Feature1_mean, indx 1395, delta 2.1140040992914586.\n",
      "Found two clusters or more and need split, in dataset Equip2000_Feature1_mean, indx 1327, delta 1.8101970651500405.\n",
      "Found two clusters or more and need split, in dataset Equip2000_Feature1_mean, indx 633, delta 1.9718498992313265.\n",
      "Preparing key series Equip2000_Feature3_mean ...\n",
      "Preparing key series Equip2000_Feature4_mean ...\n",
      "Preparing key series Equip2000_Feature9_mean ...\n",
      "Found two clusters or more and need split, in dataset Equip2000_Feature9_mean, indx 565, delta 2.490295367053798.\n",
      "Preparing key series Equip2001_Feature0_mean ...\n",
      "Found two clusters or more and need split, in dataset Equip2001_Feature0_mean, indx 565, delta 1.8544776040708524.\n",
      "Preparing key series Equip2001_Feature1_mean ...\n",
      "Found two clusters or more and need split, in dataset Equip2001_Feature1_mean, indx 1255, delta 2.138420562393023.\n",
      "Found two clusters or more and need split, in dataset Equip2001_Feature1_mean, indx 1366, delta 1.8306126124817783.\n",
      "Found two clusters or more and need split, in dataset Equip2001_Feature1_mean, indx 142, delta 1.8056959946275144.\n",
      "Preparing key series Equip2001_Feature3_mean ...\n",
      "Found two clusters or more and need split, in dataset Equip2001_Feature3_mean, indx 712, delta 2.107143298442398.\n",
      "Found two clusters or more and need split, in dataset Equip2001_Feature3_mean, indx 691, delta 1.907688166628702.\n",
      "Preparing key series Equip2001_Feature4_mean ...\n"
     ]
    },
    {
     "name": "stdout",
     "output_type": "stream",
     "text": [
      "Preparing key series Equip2001_Feature9_mean ...\n",
      "Preparing key series Equip2020_Feature0_mean ...\n",
      "Found two clusters or more and need split, in dataset Equip2020_Feature0_mean, indx 377, delta 4.044147563764092.\n",
      "Preparing key series Equip2020_Feature1_mean ...\n",
      "Found two clusters or more and need split, in dataset Equip2020_Feature1_mean, indx 357, delta 6.437874497983519.\n",
      "Found two clusters or more and need split, in dataset Equip2020_Feature1_mean, indx 20, delta 6.35043766542879.\n",
      "Preparing key series Equip2020_Feature2_mean ...\n",
      "Preparing key series Equip2020_Feature3_mean ...\n",
      "Found two clusters or more and need split, in dataset Equip2020_Feature3_mean, indx 357, delta 6.063637492193319.\n",
      "Found two clusters or more and need split, in dataset Equip2020_Feature3_mean, indx 37, delta 5.102636636922242.\n",
      "Preparing key series Equip2020_Feature4_mean ...\n",
      "Preparing key series Equip2020_Feature5_mean ...\n",
      "Preparing key series Equip2020_Feature6_mean ...\n",
      "Preparing key series Equip2020_Feature7_mean ...\n",
      "Preparing key series Equip2020_Feature8_mean ...\n",
      "Preparing key series Equip2020_Feature9_mean ...\n",
      "Found two clusters or more and need split, in dataset Equip2020_Feature9_mean, indx 375, delta 5.570550430693876.\n",
      "Found two clusters or more and need split, in dataset Equip2020_Feature9_mean, indx 205, delta 2.0151468911855.\n",
      "Preparing key series Equip2021_Feature0_mean ...\n",
      "Found two clusters or more and need split, in dataset Equip2021_Feature0_mean, indx 377, delta 4.299795909995148.\n",
      "Preparing key series Equip2021_Feature1_mean ...\n",
      "Found two clusters or more and need split, in dataset Equip2021_Feature1_mean, indx 376, delta 6.675779336638009.\n",
      "Preparing key series Equip2021_Feature2_mean ...\n",
      "Preparing key series Equip2021_Feature3_mean ...\n",
      "Found two clusters or more and need split, in dataset Equip2021_Feature3_mean, indx 359, delta 6.353223076647211.\n",
      "Found two clusters or more and need split, in dataset Equip2021_Feature3_mean, indx 20, delta 6.353223076647211.\n",
      "Preparing key series Equip2021_Feature4_mean ...\n",
      "Found two clusters or more and need split, in dataset Equip2021_Feature4_mean, indx 387, delta 2.9089259800719507.\n",
      "Found two clusters or more and need split, in dataset Equip2021_Feature4_mean, indx 365, delta 2.5918095695080776.\n",
      "Preparing key series Equip2021_Feature5_mean ...\n",
      "Preparing key series Equip2021_Feature6_mean ...\n",
      "Preparing key series Equip2021_Feature7_mean ...\n",
      "Found two clusters or more and need split, in dataset Equip2021_Feature7_mean, indx 1900, delta 2.074978369848317.\n",
      "Found two clusters or more and need split, in dataset Equip2021_Feature7_mean, indx 1878, delta 1.851236354413572.\n",
      "Preparing key series Equip2021_Feature8_mean ...\n",
      "Preparing key series Equip2021_Feature9_mean ...\n",
      "Found two clusters or more and need split, in dataset Equip2021_Feature9_mean, indx 375, delta 3.3948055800574926.\n",
      "Preparing key series Equip2040_Feature0_mean ...\n",
      "Found two clusters or more and need split, in dataset Equip2040_Feature0_mean, indx 2948, delta 2.059187952461744.\n",
      "Found two clusters or more and need split, in dataset Equip2040_Feature0_mean, indx 2926, delta 2.0175627895573696.\n",
      "Preparing key series Equip2040_Feature1_mean ...\n",
      "Found two clusters or more and need split, in dataset Equip2040_Feature1_mean, indx 2727, delta 2.0030396076337764.\n",
      "Found two clusters or more and need split, in dataset Equip2040_Feature1_mean, indx 963, delta 1.9306074686355665.\n",
      "Found two clusters or more and need split, in dataset Equip2040_Feature1_mean, indx 630, delta 1.920779053011399.\n",
      "Preparing key series Equip2040_Feature3_mean ...\n",
      "Found two clusters or more and need split, in dataset Equip2040_Feature3_mean, indx 2331, delta 2.3841961154925446.\n",
      "Preparing key series Equip2040_Feature4_mean ...\n",
      "Preparing key series Equip2040_Feature5_mean ...\n",
      "Found two clusters or more and need split, in dataset Equip2040_Feature5_mean, indx 44, delta 1.9395649912608492.\n",
      "Found two clusters or more and need split, in dataset Equip2040_Feature5_mean, indx 163, delta 1.8763967639079495.\n",
      "Preparing key series Equip2040_Feature6_mean ...\n",
      "Found two clusters or more and need split, in dataset Equip2040_Feature6_mean, indx 207, delta 3.4982073635351734.\n",
      "Found two clusters or more and need split, in dataset Equip2040_Feature6_mean, indx 47, delta 2.3511981749518975.\n",
      "Preparing key series Equip2040_Feature7_mean ...\n",
      "Preparing key series Equip2040_Feature8_mean ...\n",
      "Preparing key series Equip2040_Feature9_mean ...\n",
      "Found two clusters or more and need split, in dataset Equip2040_Feature9_mean, indx 2331, delta 2.305060788952829.\n",
      "Preparing key series Equip2041_Feature0_mean ...\n",
      "Preparing key series Equip2041_Feature1_mean ...\n",
      "Preparing key series Equip2041_Feature3_mean ...\n",
      "Preparing key series Equip2041_Feature4_mean ...\n",
      "Preparing key series Equip2041_Feature5_mean ...\n",
      "Preparing key series Equip2041_Feature6_mean ...\n",
      "Found two clusters or more and need split, in dataset Equip2041_Feature6_mean, indx 154, delta 3.5642681802229985.\n",
      "Found two clusters or more and need split, in dataset Equip2041_Feature6_mean, indx 47, delta 3.219563847264509.\n",
      "Preparing key series Equip2041_Feature7_mean ...\n",
      "Preparing key series Equip2041_Feature8_mean ...\n",
      "Preparing key series Equip2041_Feature9_mean ...\n",
      "Preparing key series Equip2031_Feature2_mean ...\n",
      "Preparing key series Equip2031_Feature5_mean ...\n",
      "Preparing key series Equip2031_Feature6_mean ...\n",
      "Preparing key series Equip2031_Feature7_mean ...\n",
      "Preparing key series Equip2031_Feature8_mean ...\n",
      "Preparing key series Equip2040_Feature2_mean ...\n",
      "Preparing key series Equip2041_Feature2_mean ...\n",
      "Preparing key series Equip2030_Feature2_mean ...\n",
      "Preparing key series Equip2030_Feature5_mean ...\n",
      "Preparing key series Equip2030_Feature6_mean ...\n",
      "Preparing key series Equip2030_Feature7_mean ...\n",
      "Preparing key series Equip2030_Feature8_mean ...\n",
      "Preparing key series Equip2000_Feature2_std ...\n",
      "Preparing key series Equip2000_Feature5_std ...\n",
      "Preparing key series Equip2000_Feature6_std ...\n",
      "Preparing key series Equip2000_Feature7_std ...\n",
      "Preparing key series Equip2000_Feature8_std ...\n",
      "Preparing key series Equip2001_Feature2_std ...\n",
      "Preparing key series Equip2001_Feature5_std ...\n",
      "Preparing key series Equip2001_Feature6_std ...\n",
      "Preparing key series Equip2001_Feature7_std ...\n",
      "Preparing key series Equip2001_Feature8_std ...\n",
      "Preparing key series Equip2010_Feature0_std ...\n",
      "Preparing key series Equip2010_Feature1_std ...\n",
      "Preparing key series Equip2010_Feature2_std ...\n",
      "Preparing key series Equip2010_Feature3_std ...\n",
      "Preparing key series Equip2010_Feature4_std ...\n",
      "Preparing key series Equip2010_Feature5_std ...\n",
      "Preparing key series Equip2010_Feature6_std ...\n",
      "Preparing key series Equip2010_Feature7_std ...\n",
      "Preparing key series Equip2010_Feature8_std ...\n",
      "Preparing key series Equip2010_Feature9_std ...\n",
      "Preparing key series Equip2011_Feature0_std ...\n",
      "Preparing key series Equip2011_Feature1_std ...\n",
      "Found two clusters or more and need split, in dataset Equip2011_Feature1_std, indx 3172, delta 2.537037953055413.\n",
      "Found two clusters or more and need split, in dataset Equip2011_Feature1_std, indx 3151, delta 2.5339723814442214.\n",
      "Preparing key series Equip2011_Feature2_std ...\n",
      "Preparing key series Equip2011_Feature3_std ...\n",
      "Preparing key series Equip2011_Feature4_std ...\n",
      "Preparing key series Equip2011_Feature5_std ...\n",
      "Preparing key series Equip2011_Feature6_std ...\n",
      "Preparing key series Equip2011_Feature7_std ...\n",
      "Preparing key series Equip2011_Feature8_std ...\n",
      "Preparing key series Equip2011_Feature9_std ...\n",
      "Preparing key series Equip2030_Feature0_std ...\n",
      "Preparing key series Equip2030_Feature1_std ...\n",
      "Preparing key series Equip2030_Feature3_std ...\n",
      "Found two clusters or more and need split, in dataset Equip2030_Feature3_std, indx 2066, delta 2.322238940544048.\n",
      "Found two clusters or more and need split, in dataset Equip2030_Feature3_std, indx 20, delta 2.322238940544048.\n",
      "Preparing key series Equip2030_Feature4_std ...\n",
      "Preparing key series Equip2030_Feature9_std ...\n",
      "Preparing key series Equip2031_Feature0_std ...\n",
      "Preparing key series Equip2031_Feature1_std ...\n",
      "Preparing key series Equip2031_Feature3_std ...\n",
      "Found two clusters or more and need split, in dataset Equip2031_Feature3_std, indx 2234, delta 5.089426621509747.\n",
      "Found two clusters or more and need split, in dataset Equip2031_Feature3_std, indx 20, delta 5.089426621509747.\n"
     ]
    },
    {
     "name": "stdout",
     "output_type": "stream",
     "text": [
      "Preparing key series Equip2031_Feature4_std ...\n",
      "Preparing key series Equip2031_Feature9_std ...\n",
      "Preparing key series Equip2050_Feature0_std ...\n",
      "Preparing key series Equip2050_Feature1_std ...\n",
      "Preparing key series Equip2050_Feature2_std ...\n",
      "Preparing key series Equip2050_Feature3_std ...\n",
      "Preparing key series Equip2050_Feature4_std ...\n",
      "Preparing key series Equip2050_Feature5_std ...\n",
      "Preparing key series Equip2050_Feature6_std ...\n",
      "Preparing key series Equip2050_Feature7_std ...\n",
      "Preparing key series Equip2050_Feature8_std ...\n",
      "Preparing key series Equip2050_Feature9_std ...\n",
      "Preparing key series Equip2051_Feature0_std ...\n",
      "Preparing key series Equip2051_Feature1_std ...\n",
      "Preparing key series Equip2051_Feature2_std ...\n",
      "Preparing key series Equip2051_Feature3_std ...\n",
      "Preparing key series Equip2051_Feature4_std ...\n",
      "Preparing key series Equip2051_Feature5_std ...\n",
      "Preparing key series Equip2051_Feature6_std ...\n",
      "Preparing key series Equip2051_Feature7_std ...\n",
      "Preparing key series Equip2051_Feature8_std ...\n",
      "Preparing key series Equip2051_Feature9_std ...\n",
      "Preparing key series Equip2060_Feature0_std ...\n",
      "Preparing key series Equip2060_Feature1_std ...\n",
      "Preparing key series Equip2060_Feature2_std ...\n",
      "Preparing key series Equip2060_Feature3_std ...\n",
      "Preparing key series Equip2060_Feature4_std ...\n",
      "Preparing key series Equip2060_Feature5_std ...\n",
      "Preparing key series Equip2060_Feature6_std ...\n",
      "Preparing key series Equip2060_Feature7_std ...\n",
      "Preparing key series Equip2060_Feature8_std ...\n",
      "Preparing key series Equip2060_Feature9_std ...\n",
      "Preparing key series Equip2061_Feature0_std ...\n",
      "Preparing key series Equip2061_Feature1_std ...\n",
      "Preparing key series Equip2061_Feature2_std ...\n",
      "Preparing key series Equip2061_Feature3_std ...\n",
      "Preparing key series Equip2061_Feature4_std ...\n",
      "Preparing key series Equip2061_Feature5_std ...\n",
      "Preparing key series Equip2061_Feature6_std ...\n",
      "Preparing key series Equip2061_Feature7_std ...\n",
      "Preparing key series Equip2061_Feature8_std ...\n",
      "Preparing key series Equip2061_Feature9_std ...\n",
      "Preparing key series Equip2000_Feature0_std ...\n",
      "Preparing key series Equip2000_Feature1_std ...\n",
      "Preparing key series Equip2000_Feature3_std ...\n",
      "Preparing key series Equip2000_Feature4_std ...\n",
      "Preparing key series Equip2000_Feature9_std ...\n",
      "Preparing key series Equip2001_Feature0_std ...\n",
      "Preparing key series Equip2001_Feature1_std ...\n",
      "Preparing key series Equip2001_Feature3_std ...\n",
      "Preparing key series Equip2001_Feature4_std ...\n",
      "Preparing key series Equip2001_Feature9_std ...\n",
      "Preparing key series Equip2020_Feature0_std ...\n",
      "Preparing key series Equip2020_Feature1_std ...\n",
      "Preparing key series Equip2020_Feature2_std ...\n",
      "Preparing key series Equip2020_Feature3_std ...\n",
      "Preparing key series Equip2020_Feature4_std ...\n",
      "Preparing key series Equip2020_Feature5_std ...\n",
      "Preparing key series Equip2020_Feature6_std ...\n",
      "Preparing key series Equip2020_Feature7_std ...\n",
      "Preparing key series Equip2020_Feature8_std ...\n",
      "Preparing key series Equip2020_Feature9_std ...\n",
      "Preparing key series Equip2021_Feature0_std ...\n",
      "Preparing key series Equip2021_Feature1_std ...\n",
      "Preparing key series Equip2021_Feature2_std ...\n",
      "Preparing key series Equip2021_Feature3_std ...\n",
      "Preparing key series Equip2021_Feature4_std ...\n",
      "Preparing key series Equip2021_Feature5_std ...\n",
      "Preparing key series Equip2021_Feature6_std ...\n",
      "Preparing key series Equip2021_Feature7_std ...\n",
      "Found two clusters or more and need split, in dataset Equip2021_Feature7_std, indx 1889, delta 3.0696871800230303.\n",
      "Preparing key series Equip2021_Feature8_std ...\n",
      "Preparing key series Equip2021_Feature9_std ...\n",
      "Preparing key series Equip2040_Feature0_std ...\n",
      "Preparing key series Equip2040_Feature1_std ...\n",
      "Preparing key series Equip2040_Feature3_std ...\n",
      "Preparing key series Equip2040_Feature4_std ...\n",
      "Preparing key series Equip2040_Feature5_std ...\n",
      "Preparing key series Equip2040_Feature6_std ...\n",
      "Preparing key series Equip2040_Feature7_std ...\n",
      "Preparing key series Equip2040_Feature8_std ...\n",
      "Preparing key series Equip2040_Feature9_std ...\n",
      "Preparing key series Equip2041_Feature0_std ...\n",
      "Preparing key series Equip2041_Feature1_std ...\n",
      "Preparing key series Equip2041_Feature3_std ...\n",
      "Preparing key series Equip2041_Feature4_std ...\n",
      "Preparing key series Equip2041_Feature5_std ...\n",
      "Preparing key series Equip2041_Feature6_std ...\n",
      "Preparing key series Equip2041_Feature7_std ...\n",
      "Preparing key series Equip2041_Feature8_std ...\n",
      "Preparing key series Equip2041_Feature9_std ...\n",
      "Preparing key series Equip2031_Feature2_std ...\n",
      "Preparing key series Equip2031_Feature5_std ...\n",
      "Preparing key series Equip2031_Feature6_std ...\n",
      "Preparing key series Equip2031_Feature7_std ...\n",
      "Preparing key series Equip2031_Feature8_std ...\n",
      "Preparing key series Equip2040_Feature2_std ...\n",
      "Preparing key series Equip2041_Feature2_std ...\n",
      "Preparing key series Equip2030_Feature2_std ...\n",
      "Preparing key series Equip2030_Feature5_std ...\n",
      "Preparing key series Equip2030_Feature6_std ...\n",
      "Preparing key series Equip2030_Feature7_std ...\n",
      "Preparing key series Equip2030_Feature8_std ...\n"
     ]
    }
   ],
   "source": [
    "data_obj.prepare_series()"
   ]
  },
  {
   "cell_type": "code",
   "execution_count": 10,
   "id": "9c02379e",
   "metadata": {},
   "outputs": [
    {
     "data": {
      "text/plain": [
       "420"
      ]
     },
     "execution_count": 10,
     "metadata": {},
     "output_type": "execute_result"
    }
   ],
   "source": [
    "len(data_obj.dfs)"
   ]
  },
  {
   "cell_type": "code",
   "execution_count": 11,
   "id": "56e7af3d",
   "metadata": {},
   "outputs": [
    {
     "data": {
      "text/plain": [
       "list"
      ]
     },
     "execution_count": 11,
     "metadata": {},
     "output_type": "execute_result"
    }
   ],
   "source": [
    "type(data_obj.dfs)"
   ]
  },
  {
   "cell_type": "code",
   "execution_count": 12,
   "id": "1cb81c5a",
   "metadata": {},
   "outputs": [
    {
     "name": "stdout",
     "output_type": "stream",
     "text": [
      "1071834\n"
     ]
    }
   ],
   "source": [
    "N = 0\n",
    "for df in data_obj.dfs:\n",
    "    N += len(df)\n",
    "print(N)"
   ]
  },
  {
   "cell_type": "code",
   "execution_count": 13,
   "id": "33b4f68e",
   "metadata": {},
   "outputs": [
    {
     "name": "stderr",
     "output_type": "stream",
     "text": [
      "C:\\ProgramData\\Anaconda3_64bit\\lib\\site-packages\\numpy\\core\\fromnumeric.py:3417: FutureWarning: DataFrame.mean and DataFrame.median with numeric_only=None will include datetime64 and datetime64tz columns in a future version.\n",
      "  return mean(axis=axis, dtype=dtype, out=out, **kwargs)\n",
      "C:\\ProgramData\\Anaconda3_64bit\\lib\\site-packages\\numpy\\core\\fromnumeric.py:3417: FutureWarning: Dropping of nuisance columns in DataFrame reductions (with 'numeric_only=None') is deprecated; in a future version this will raise TypeError.  Select only valid columns before calling the reduction.\n",
      "  return mean(axis=axis, dtype=dtype, out=out, **kwargs)\n"
     ]
    },
    {
     "data": {
      "text/plain": [
       "RUN_START_WW    2.022374e+05\n",
       "norm            5.982616e-17\n",
       "dtype: float64"
      ]
     },
     "execution_count": 13,
     "metadata": {},
     "output_type": "execute_result"
    }
   ],
   "source": [
    "np.mean(data_obj.dfs[5])"
   ]
  },
  {
   "cell_type": "code",
   "execution_count": 14,
   "id": "d7714889",
   "metadata": {},
   "outputs": [
    {
     "name": "stderr",
     "output_type": "stream",
     "text": [
      "C:\\ProgramData\\Anaconda3_64bit\\lib\\site-packages\\numpy\\core\\fromnumeric.py:3558: FutureWarning: Dropping of nuisance columns in DataFrame reductions (with 'numeric_only=None') is deprecated; in a future version this will raise TypeError.  Select only valid columns before calling the reduction.\n",
      "  return std(axis=axis, dtype=dtype, out=out, ddof=ddof, **kwargs)\n"
     ]
    },
    {
     "data": {
      "text/plain": [
       "time            43 days 14:42:36.826547264\n",
       "RUN_START_WW                      6.238579\n",
       "norm                                   1.0\n",
       "dtype: object"
      ]
     },
     "execution_count": 14,
     "metadata": {},
     "output_type": "execute_result"
    }
   ],
   "source": [
    "np.std(data_obj.dfs[5])"
   ]
  },
  {
   "cell_type": "code",
   "execution_count": 15,
   "id": "35512247",
   "metadata": {},
   "outputs": [
    {
     "data": {
      "text/html": [
       "<div>\n",
       "<style scoped>\n",
       "    .dataframe tbody tr th:only-of-type {\n",
       "        vertical-align: middle;\n",
       "    }\n",
       "\n",
       "    .dataframe tbody tr th {\n",
       "        vertical-align: top;\n",
       "    }\n",
       "\n",
       "    .dataframe thead th {\n",
       "        text-align: right;\n",
       "    }\n",
       "</style>\n",
       "<table border=\"1\" class=\"dataframe\">\n",
       "  <thead>\n",
       "    <tr style=\"text-align: right;\">\n",
       "      <th></th>\n",
       "      <th>time</th>\n",
       "      <th>RUN_START_WW</th>\n",
       "      <th>Equip</th>\n",
       "      <th>series</th>\n",
       "      <th>key</th>\n",
       "      <th>norm</th>\n",
       "    </tr>\n",
       "  </thead>\n",
       "  <tbody>\n",
       "    <tr>\n",
       "      <th>0</th>\n",
       "      <td>2022-06-26 23:00:00</td>\n",
       "      <td>202227</td>\n",
       "      <td>Equip2001</td>\n",
       "      <td>Feature2_mean</td>\n",
       "      <td>Equip2001_Feature2_mean</td>\n",
       "      <td>2.946667</td>\n",
       "    </tr>\n",
       "    <tr>\n",
       "      <th>1</th>\n",
       "      <td>2022-06-27 00:00:00</td>\n",
       "      <td>202227</td>\n",
       "      <td>Equip2001</td>\n",
       "      <td>Feature2_mean</td>\n",
       "      <td>Equip2001_Feature2_mean</td>\n",
       "      <td>1.225551</td>\n",
       "    </tr>\n",
       "    <tr>\n",
       "      <th>2</th>\n",
       "      <td>2022-06-27 01:00:00</td>\n",
       "      <td>202227</td>\n",
       "      <td>Equip2001</td>\n",
       "      <td>Feature2_mean</td>\n",
       "      <td>Equip2001_Feature2_mean</td>\n",
       "      <td>0.926174</td>\n",
       "    </tr>\n",
       "    <tr>\n",
       "      <th>3</th>\n",
       "      <td>2022-06-27 02:00:00</td>\n",
       "      <td>202227</td>\n",
       "      <td>Equip2001</td>\n",
       "      <td>Feature2_mean</td>\n",
       "      <td>Equip2001_Feature2_mean</td>\n",
       "      <td>-0.380895</td>\n",
       "    </tr>\n",
       "    <tr>\n",
       "      <th>4</th>\n",
       "      <td>2022-06-27 03:00:00</td>\n",
       "      <td>202227</td>\n",
       "      <td>Equip2001</td>\n",
       "      <td>Feature2_mean</td>\n",
       "      <td>Equip2001_Feature2_mean</td>\n",
       "      <td>-0.941805</td>\n",
       "    </tr>\n",
       "  </tbody>\n",
       "</table>\n",
       "</div>"
      ],
      "text/plain": [
       "                 time  RUN_START_WW      Equip         series  \\\n",
       "0 2022-06-26 23:00:00        202227  Equip2001  Feature2_mean   \n",
       "1 2022-06-27 00:00:00        202227  Equip2001  Feature2_mean   \n",
       "2 2022-06-27 01:00:00        202227  Equip2001  Feature2_mean   \n",
       "3 2022-06-27 02:00:00        202227  Equip2001  Feature2_mean   \n",
       "4 2022-06-27 03:00:00        202227  Equip2001  Feature2_mean   \n",
       "\n",
       "                       key      norm  \n",
       "0  Equip2001_Feature2_mean  2.946667  \n",
       "1  Equip2001_Feature2_mean  1.225551  \n",
       "2  Equip2001_Feature2_mean  0.926174  \n",
       "3  Equip2001_Feature2_mean -0.380895  \n",
       "4  Equip2001_Feature2_mean -0.941805  "
      ]
     },
     "execution_count": 15,
     "metadata": {},
     "output_type": "execute_result"
    }
   ],
   "source": [
    "data_obj.dfs[5].head(5)"
   ]
  },
  {
   "cell_type": "code",
   "execution_count": 16,
   "id": "ce7658f5",
   "metadata": {},
   "outputs": [
    {
     "name": "stdout",
     "output_type": "stream",
     "text": [
      "Equip2000_Feature2_mean\n",
      "Equip2000_Feature5_mean\n",
      "Equip2000_Feature6_mean\n",
      "Equip2000_Feature7_mean\n",
      "Equip2000_Feature8_mean\n",
      "Equip2001_Feature2_mean\n",
      "Equip2001_Feature5_mean\n",
      "Equip2001_Feature6_mean\n",
      "Equip2001_Feature7_mean\n",
      "Equip2001_Feature8_mean\n",
      "Equip2010_Feature0_mean\n",
      "Equip2010_Feature0_mean\n",
      "Equip2010_Feature0_mean\n",
      "Equip2010_Feature0_mean\n",
      "Equip2010_Feature0_mean\n",
      "Equip2010_Feature1_mean\n",
      "Equip2010_Feature2_mean\n",
      "Equip2010_Feature3_mean\n",
      "Equip2010_Feature3_mean\n",
      "Equip2010_Feature3_mean\n"
     ]
    }
   ],
   "source": [
    "for i in range(20):\n",
    "    print(data_obj.dfs[i].loc[0, 'key'])"
   ]
  },
  {
   "cell_type": "code",
   "execution_count": 17,
   "id": "059d188c",
   "metadata": {},
   "outputs": [
    {
     "data": {
      "text/plain": [
       "5.982616181790733e-17"
      ]
     },
     "execution_count": 17,
     "metadata": {},
     "output_type": "execute_result"
    }
   ],
   "source": [
    "data_obj.dfs[5]['norm'].mean()"
   ]
  },
  {
   "cell_type": "code",
   "execution_count": 18,
   "id": "d1fe2c2b",
   "metadata": {},
   "outputs": [
    {
     "data": {
      "text/plain": [
       "0       2.946667\n",
       "1       1.225551\n",
       "2       0.926174\n",
       "3      -0.380895\n",
       "4      -0.941805\n",
       "          ...   \n",
       "3417   -0.586700\n",
       "3418    0.526579\n",
       "3419    0.542681\n",
       "3420   -0.211703\n",
       "3421    1.507836\n",
       "Name: norm, Length: 3422, dtype: float64"
      ]
     },
     "execution_count": 18,
     "metadata": {},
     "output_type": "execute_result"
    }
   ],
   "source": [
    "data_obj.dfs[5]['norm']"
   ]
  },
  {
   "cell_type": "code",
   "execution_count": 19,
   "id": "55340db3",
   "metadata": {},
   "outputs": [],
   "source": [
    "data_obj.dfs[5]['norm'] = stats.zscore(data_obj.dfs[5]['norm'])"
   ]
  },
  {
   "cell_type": "code",
   "execution_count": 20,
   "id": "6fc3a887",
   "metadata": {},
   "outputs": [
    {
     "data": {
      "text/plain": [
       "0       2.946667\n",
       "1       1.225551\n",
       "2       0.926174\n",
       "3      -0.380895\n",
       "4      -0.941805\n",
       "          ...   \n",
       "3417   -0.586700\n",
       "3418    0.526579\n",
       "3419    0.542681\n",
       "3420   -0.211703\n",
       "3421    1.507836\n",
       "Name: norm, Length: 3422, dtype: float64"
      ]
     },
     "execution_count": 20,
     "metadata": {},
     "output_type": "execute_result"
    }
   ],
   "source": [
    "data_obj.dfs[5]['norm']"
   ]
  },
  {
   "cell_type": "code",
   "execution_count": 21,
   "id": "ac425784",
   "metadata": {},
   "outputs": [
    {
     "data": {
      "text/html": [
       "<div>\n",
       "<style scoped>\n",
       "    .dataframe tbody tr th:only-of-type {\n",
       "        vertical-align: middle;\n",
       "    }\n",
       "\n",
       "    .dataframe tbody tr th {\n",
       "        vertical-align: top;\n",
       "    }\n",
       "\n",
       "    .dataframe thead th {\n",
       "        text-align: right;\n",
       "    }\n",
       "</style>\n",
       "<table border=\"1\" class=\"dataframe\">\n",
       "  <thead>\n",
       "    <tr style=\"text-align: right;\">\n",
       "      <th></th>\n",
       "      <th>time</th>\n",
       "      <th>RUN_START_WW</th>\n",
       "      <th>Equip</th>\n",
       "      <th>series</th>\n",
       "      <th>key</th>\n",
       "      <th>norm</th>\n",
       "    </tr>\n",
       "  </thead>\n",
       "  <tbody>\n",
       "    <tr>\n",
       "      <th>0</th>\n",
       "      <td>2022-06-26 23:00:00</td>\n",
       "      <td>202227</td>\n",
       "      <td>Equip2001</td>\n",
       "      <td>Feature2_mean</td>\n",
       "      <td>Equip2001_Feature2_mean</td>\n",
       "      <td>2.946667</td>\n",
       "    </tr>\n",
       "    <tr>\n",
       "      <th>1</th>\n",
       "      <td>2022-06-27 00:00:00</td>\n",
       "      <td>202227</td>\n",
       "      <td>Equip2001</td>\n",
       "      <td>Feature2_mean</td>\n",
       "      <td>Equip2001_Feature2_mean</td>\n",
       "      <td>1.225551</td>\n",
       "    </tr>\n",
       "    <tr>\n",
       "      <th>2</th>\n",
       "      <td>2022-06-27 01:00:00</td>\n",
       "      <td>202227</td>\n",
       "      <td>Equip2001</td>\n",
       "      <td>Feature2_mean</td>\n",
       "      <td>Equip2001_Feature2_mean</td>\n",
       "      <td>0.926174</td>\n",
       "    </tr>\n",
       "    <tr>\n",
       "      <th>3</th>\n",
       "      <td>2022-06-27 02:00:00</td>\n",
       "      <td>202227</td>\n",
       "      <td>Equip2001</td>\n",
       "      <td>Feature2_mean</td>\n",
       "      <td>Equip2001_Feature2_mean</td>\n",
       "      <td>-0.380895</td>\n",
       "    </tr>\n",
       "    <tr>\n",
       "      <th>4</th>\n",
       "      <td>2022-06-27 03:00:00</td>\n",
       "      <td>202227</td>\n",
       "      <td>Equip2001</td>\n",
       "      <td>Feature2_mean</td>\n",
       "      <td>Equip2001_Feature2_mean</td>\n",
       "      <td>-0.941805</td>\n",
       "    </tr>\n",
       "    <tr>\n",
       "      <th>...</th>\n",
       "      <td>...</td>\n",
       "      <td>...</td>\n",
       "      <td>...</td>\n",
       "      <td>...</td>\n",
       "      <td>...</td>\n",
       "      <td>...</td>\n",
       "    </tr>\n",
       "    <tr>\n",
       "      <th>3417</th>\n",
       "      <td>2022-11-23 22:00:00</td>\n",
       "      <td>202248</td>\n",
       "      <td>Equip2001</td>\n",
       "      <td>Feature2_mean</td>\n",
       "      <td>Equip2001_Feature2_mean</td>\n",
       "      <td>-0.586700</td>\n",
       "    </tr>\n",
       "    <tr>\n",
       "      <th>3418</th>\n",
       "      <td>2022-11-23 23:00:00</td>\n",
       "      <td>202248</td>\n",
       "      <td>Equip2001</td>\n",
       "      <td>Feature2_mean</td>\n",
       "      <td>Equip2001_Feature2_mean</td>\n",
       "      <td>0.526579</td>\n",
       "    </tr>\n",
       "    <tr>\n",
       "      <th>3419</th>\n",
       "      <td>2022-11-24 00:00:00</td>\n",
       "      <td>202248</td>\n",
       "      <td>Equip2001</td>\n",
       "      <td>Feature2_mean</td>\n",
       "      <td>Equip2001_Feature2_mean</td>\n",
       "      <td>0.542681</td>\n",
       "    </tr>\n",
       "    <tr>\n",
       "      <th>3420</th>\n",
       "      <td>2022-11-24 01:00:00</td>\n",
       "      <td>202248</td>\n",
       "      <td>Equip2001</td>\n",
       "      <td>Feature2_mean</td>\n",
       "      <td>Equip2001_Feature2_mean</td>\n",
       "      <td>-0.211703</td>\n",
       "    </tr>\n",
       "    <tr>\n",
       "      <th>3421</th>\n",
       "      <td>2022-11-24 02:00:00</td>\n",
       "      <td>202248</td>\n",
       "      <td>Equip2001</td>\n",
       "      <td>Feature2_mean</td>\n",
       "      <td>Equip2001_Feature2_mean</td>\n",
       "      <td>1.507836</td>\n",
       "    </tr>\n",
       "  </tbody>\n",
       "</table>\n",
       "<p>3422 rows × 6 columns</p>\n",
       "</div>"
      ],
      "text/plain": [
       "                    time  RUN_START_WW      Equip         series  \\\n",
       "0    2022-06-26 23:00:00        202227  Equip2001  Feature2_mean   \n",
       "1    2022-06-27 00:00:00        202227  Equip2001  Feature2_mean   \n",
       "2    2022-06-27 01:00:00        202227  Equip2001  Feature2_mean   \n",
       "3    2022-06-27 02:00:00        202227  Equip2001  Feature2_mean   \n",
       "4    2022-06-27 03:00:00        202227  Equip2001  Feature2_mean   \n",
       "...                  ...           ...        ...            ...   \n",
       "3417 2022-11-23 22:00:00        202248  Equip2001  Feature2_mean   \n",
       "3418 2022-11-23 23:00:00        202248  Equip2001  Feature2_mean   \n",
       "3419 2022-11-24 00:00:00        202248  Equip2001  Feature2_mean   \n",
       "3420 2022-11-24 01:00:00        202248  Equip2001  Feature2_mean   \n",
       "3421 2022-11-24 02:00:00        202248  Equip2001  Feature2_mean   \n",
       "\n",
       "                          key      norm  \n",
       "0     Equip2001_Feature2_mean  2.946667  \n",
       "1     Equip2001_Feature2_mean  1.225551  \n",
       "2     Equip2001_Feature2_mean  0.926174  \n",
       "3     Equip2001_Feature2_mean -0.380895  \n",
       "4     Equip2001_Feature2_mean -0.941805  \n",
       "...                       ...       ...  \n",
       "3417  Equip2001_Feature2_mean -0.586700  \n",
       "3418  Equip2001_Feature2_mean  0.526579  \n",
       "3419  Equip2001_Feature2_mean  0.542681  \n",
       "3420  Equip2001_Feature2_mean -0.211703  \n",
       "3421  Equip2001_Feature2_mean  1.507836  \n",
       "\n",
       "[3422 rows x 6 columns]"
      ]
     },
     "execution_count": 21,
     "metadata": {},
     "output_type": "execute_result"
    }
   ],
   "source": [
    "data_obj.dfs[5]"
   ]
  },
  {
   "cell_type": "code",
   "execution_count": 39,
   "id": "ad55a9e9",
   "metadata": {
    "scrolled": true
   },
   "outputs": [
    {
     "name": "stdout",
     "output_type": "stream",
     "text": [
      "index 28 - key Equip2010_Feature9_mean - len 2891\n",
      "index 29 - key Equip2010_Feature9_mean - len 3349\n",
      "index 47 - key Equip2011_Feature9_mean - len 3349\n",
      "index 54 - key Equip2030_Feature9_mean - len 3395\n",
      "index 63 - key Equip2031_Feature9_mean - len 3395\n",
      "index 83 - key Equip2050_Feature9_mean - len 3428\n",
      "index 97 - key Equip2051_Feature9_mean - len 3428\n",
      "index 107 - key Equip2060_Feature9_mean - len 2333\n",
      "index 125 - key Equip2061_Feature9_mean - len 2333\n",
      "index 138 - key Equip2000_Feature9_mean - len 2930\n",
      "index 140 - key Equip2000_Feature9_mean - len 3495\n",
      "index 157 - key Equip2001_Feature9_mean - len 3495\n",
      "index 177 - key Equip2020_Feature9_mean - len 3006\n",
      "index 181 - key Equip2020_Feature9_mean - len 3381\n",
      "index 207 - key Equip2021_Feature9_mean - len 3006\n",
      "index 209 - key Equip2021_Feature9_mean - len 3381\n",
      "index 239 - key Equip2040_Feature9_mean - len 2331\n",
      "index 240 - key Equip2040_Feature9_mean - len 3036\n",
      "index 253 - key Equip2041_Feature9_mean - len 3036\n",
      "index 285 - key Equip2010_Feature9_std - len 3349\n",
      "index 299 - key Equip2011_Feature9_std - len 3349\n",
      "index 308 - key Equip2030_Feature9_std - len 3395\n",
      "index 317 - key Equip2031_Feature9_std - len 3395\n",
      "index 327 - key Equip2050_Feature9_std - len 3428\n",
      "index 337 - key Equip2051_Feature9_std - len 3428\n",
      "index 347 - key Equip2060_Feature9_std - len 2333\n",
      "index 357 - key Equip2061_Feature9_std - len 2333\n",
      "index 362 - key Equip2000_Feature9_std - len 3495\n",
      "index 367 - key Equip2001_Feature9_std - len 3495\n",
      "index 377 - key Equip2020_Feature9_std - len 3381\n",
      "index 389 - key Equip2021_Feature9_std - len 3381\n",
      "index 398 - key Equip2040_Feature9_std - len 3036\n",
      "index 407 - key Equip2041_Feature9_std - len 3036\n"
     ]
    }
   ],
   "source": [
    "circflow_mean_idx = []\n",
    "for i in range(len(data_obj.dfs)):\n",
    "    if 'Feature9' in data_obj.dfs[i].loc[0, 'key'] and len(data_obj.dfs[i]) > 1000:\n",
    "        circflow_mean_idx.append(i)\n",
    "        print(f\"index {i} - key {data_obj.dfs[i].loc[0, 'key']} - len {len(data_obj.dfs[i])}\")"
   ]
  },
  {
   "cell_type": "code",
   "execution_count": 40,
   "id": "5e1e1c02",
   "metadata": {
    "scrolled": true
   },
   "outputs": [
    {
     "name": "stdout",
     "output_type": "stream",
     "text": [
      "index 20 - key Equip2010_Feature4_mean - len 3349\n",
      "index 42 - key Equip2011_Feature4_mean - len 3349\n",
      "index 53 - key Equip2030_Feature4_mean - len 3395\n",
      "index 62 - key Equip2031_Feature4_mean - len 3395\n",
      "index 78 - key Equip2050_Feature4_mean - len 3428\n",
      "index 92 - key Equip2051_Feature4_mean - len 3428\n",
      "index 102 - key Equip2060_Feature4_mean - len 2333\n",
      "index 120 - key Equip2061_Feature4_mean - len 2333\n",
      "index 137 - key Equip2000_Feature4_mean - len 3495\n",
      "index 156 - key Equip2001_Feature4_mean - len 3495\n",
      "index 172 - key Equip2020_Feature4_mean - len 3381\n",
      "index 194 - key Equip2021_Feature4_mean - len 2994\n",
      "index 198 - key Equip2021_Feature4_mean - len 3381\n",
      "index 225 - key Equip2040_Feature4_mean - len 3036\n",
      "index 244 - key Equip2041_Feature4_mean - len 3036\n",
      "index 280 - key Equip2010_Feature4_std - len 3349\n",
      "index 294 - key Equip2011_Feature4_std - len 3349\n",
      "index 307 - key Equip2030_Feature4_std - len 3395\n",
      "index 316 - key Equip2031_Feature4_std - len 3395\n",
      "index 322 - key Equip2050_Feature4_std - len 3428\n",
      "index 332 - key Equip2051_Feature4_std - len 3428\n",
      "index 342 - key Equip2060_Feature4_std - len 2333\n",
      "index 352 - key Equip2061_Feature4_std - len 2333\n",
      "index 361 - key Equip2000_Feature4_std - len 3495\n",
      "index 366 - key Equip2001_Feature4_std - len 3495\n",
      "index 372 - key Equip2020_Feature4_std - len 3381\n",
      "index 382 - key Equip2021_Feature4_std - len 3381\n",
      "index 393 - key Equip2040_Feature4_std - len 3036\n",
      "index 402 - key Equip2041_Feature4_std - len 3036\n"
     ]
    }
   ],
   "source": [
    "circflow_std_idx = []\n",
    "for i in range(len(data_obj.dfs)):\n",
    "    if 'Feature4' in data_obj.dfs[i].loc[0, 'key'] and len(data_obj.dfs[i]) > 1000:\n",
    "        circflow_std_idx.append(i)\n",
    "        print(f\"index {i} - key {data_obj.dfs[i].loc[0, 'key']} - len {len(data_obj.dfs[i])}\")"
   ]
  },
  {
   "cell_type": "code",
   "execution_count": 41,
   "id": "d9cfae88",
   "metadata": {
    "scrolled": true
   },
   "outputs": [
    {
     "name": "stdout",
     "output_type": "stream",
     "text": [
      "index 12 - key Equip2010_Feature0_mean - len 2888\n",
      "index 13 - key Equip2010_Feature0_mean - len 2909\n",
      "index 14 - key Equip2010_Feature0_mean - len 3349\n",
      "index 30 - key Equip2011_Feature0_mean - len 3349\n",
      "index 48 - key Equip2030_Feature0_mean - len 3395\n",
      "index 55 - key Equip2031_Feature0_mean - len 3395\n",
      "index 64 - key Equip2050_Feature0_mean - len 3428\n",
      "index 84 - key Equip2051_Feature0_mean - len 3428\n",
      "index 98 - key Equip2060_Feature0_mean - len 2333\n",
      "index 109 - key Equip2061_Feature0_mean - len 2262\n",
      "index 110 - key Equip2061_Feature0_mean - len 2333\n",
      "index 126 - key Equip2000_Feature0_mean - len 2930\n",
      "index 128 - key Equip2000_Feature0_mean - len 3495\n",
      "index 141 - key Equip2001_Feature0_mean - len 2930\n",
      "index 143 - key Equip2001_Feature0_mean - len 3495\n",
      "index 158 - key Equip2020_Feature0_mean - len 3004\n",
      "index 160 - key Equip2020_Feature0_mean - len 3381\n",
      "index 182 - key Equip2021_Feature0_mean - len 3004\n",
      "index 184 - key Equip2021_Feature0_mean - len 3381\n",
      "index 212 - key Equip2040_Feature0_mean - len 2926\n",
      "index 213 - key Equip2040_Feature0_mean - len 2948\n",
      "index 214 - key Equip2040_Feature0_mean - len 3036\n",
      "index 241 - key Equip2041_Feature0_mean - len 3036\n",
      "index 276 - key Equip2010_Feature0_std - len 3349\n",
      "index 286 - key Equip2011_Feature0_std - len 3349\n",
      "index 300 - key Equip2030_Feature0_std - len 3395\n",
      "index 309 - key Equip2031_Feature0_std - len 3395\n",
      "index 318 - key Equip2050_Feature0_std - len 3428\n",
      "index 328 - key Equip2051_Feature0_std - len 3428\n",
      "index 338 - key Equip2060_Feature0_std - len 2333\n",
      "index 348 - key Equip2061_Feature0_std - len 2333\n",
      "index 358 - key Equip2000_Feature0_std - len 3495\n",
      "index 363 - key Equip2001_Feature0_std - len 3495\n",
      "index 368 - key Equip2020_Feature0_std - len 3381\n",
      "index 378 - key Equip2021_Feature0_std - len 3381\n",
      "index 390 - key Equip2040_Feature0_std - len 3036\n",
      "index 399 - key Equip2041_Feature0_std - len 3036\n"
     ]
    }
   ],
   "source": [
    "ppress_idx = []\n",
    "for i in range(len(data_obj.dfs)):\n",
    "    if 'Feature0' in data_obj.dfs[i].loc[0, 'key'] and len(data_obj.dfs[i]) > 1000:\n",
    "        ppress_idx.append(i)\n",
    "        print(f\"index {i} - key {data_obj.dfs[i].loc[0, 'key']} - len {len(data_obj.dfs[i])}\")"
   ]
  },
  {
   "cell_type": "code",
   "execution_count": 43,
   "id": "33804595",
   "metadata": {},
   "outputs": [],
   "source": [
    "ppress_dfs = [data_obj.dfs[i] for i in ppress_idx]\n",
    "circflow_std_dfs = [data_obj.dfs[i] for i in circflow_std_idx]\n",
    "circflow_mean_dfs = [data_obj.dfs[i] for i in circflow_mean_idx]"
   ]
  },
  {
   "cell_type": "code",
   "execution_count": 44,
   "id": "f05d07e7",
   "metadata": {},
   "outputs": [],
   "source": [
    "w = 10\n",
    "Q = ppress_dfs[0][-w:]['norm'].values\n",
    "T = ppress_dfs[0]['norm'].values\n",
    "k = 20"
   ]
  },
  {
   "cell_type": "code",
   "execution_count": 45,
   "id": "4f792f37",
   "metadata": {},
   "outputs": [
    {
     "data": {
      "text/plain": [
       "array([-1.78963936, -1.14104214, -0.16814631, -0.42037856, -0.94543345,\n",
       "       -0.70246688, -0.5233305 , -0.03533831, -0.13946684, -0.50788771])"
      ]
     },
     "execution_count": 45,
     "metadata": {},
     "output_type": "execute_result"
    }
   ],
   "source": [
    "Q"
   ]
  },
  {
   "cell_type": "code",
   "execution_count": 46,
   "id": "4d5a0500",
   "metadata": {},
   "outputs": [
    {
     "name": "stdout",
     "output_type": "stream",
     "text": [
      "2888\n",
      "10\n"
     ]
    }
   ],
   "source": [
    "print(len(T))\n",
    "print(len(Q))"
   ]
  },
  {
   "cell_type": "code",
   "execution_count": 47,
   "id": "c1f1011a",
   "metadata": {},
   "outputs": [],
   "source": [
    "import MASS_V4\n",
    "reload(MASS_V4)\n",
    "from MASS_V4 import MASS_V4"
   ]
  },
  {
   "cell_type": "code",
   "execution_count": 48,
   "id": "f7591cce",
   "metadata": {},
   "outputs": [],
   "source": [
    "mass = MASS_V4(len(Q))"
   ]
  },
  {
   "cell_type": "code",
   "execution_count": 49,
   "id": "ff520030",
   "metadata": {},
   "outputs": [
    {
     "data": {
      "text/plain": [
       "15"
      ]
     },
     "execution_count": 49,
     "metadata": {},
     "output_type": "execute_result"
    }
   ],
   "source": [
    "floor((3*w+1)/2)"
   ]
  },
  {
   "cell_type": "code",
   "execution_count": 50,
   "id": "5bb5d1ad",
   "metadata": {},
   "outputs": [],
   "source": [
    "batchs = mass.get_batch_size(floor((3*w+1)/2), 10)"
   ]
  },
  {
   "cell_type": "code",
   "execution_count": 51,
   "id": "8887654c",
   "metadata": {},
   "outputs": [
    {
     "data": {
      "text/plain": [
       "10"
      ]
     },
     "execution_count": 51,
     "metadata": {},
     "output_type": "execute_result"
    }
   ],
   "source": [
    "batchs"
   ]
  },
  {
   "cell_type": "code",
   "execution_count": 52,
   "id": "cb4cf687",
   "metadata": {},
   "outputs": [],
   "source": [
    "x_pad, y_pad, start_i = mass.dct_padding(T, Q)"
   ]
  },
  {
   "cell_type": "code",
   "execution_count": 53,
   "id": "16282d3c",
   "metadata": {},
   "outputs": [
    {
     "name": "stdout",
     "output_type": "stream",
     "text": [
      "4332\n",
      "4332\n",
      "5\n"
     ]
    }
   ],
   "source": [
    "print(len(x_pad))\n",
    "print(len(y_pad))\n",
    "print(start_i)"
   ]
  },
  {
   "cell_type": "code",
   "execution_count": 54,
   "id": "8d247ba7",
   "metadata": {},
   "outputs": [
    {
     "data": {
      "text/plain": [
       "array([0., 0., 0., 0., 0., 0., 0., 0., 0., 0., 0., 0., 0., 0., 0., 0.])"
      ]
     },
     "execution_count": 54,
     "metadata": {},
     "output_type": "execute_result"
    }
   ],
   "source": [
    "y_pad[1704:1720]"
   ]
  },
  {
   "cell_type": "code",
   "execution_count": 55,
   "id": "3f645c96",
   "metadata": {},
   "outputs": [],
   "source": [
    "dd = mass.dct_dot_product(T[100: 100+batchs], Q)"
   ]
  },
  {
   "cell_type": "code",
   "execution_count": 56,
   "id": "3b65ee87",
   "metadata": {},
   "outputs": [
    {
     "data": {
      "text/plain": [
       "1"
      ]
     },
     "execution_count": 56,
     "metadata": {},
     "output_type": "execute_result"
    }
   ],
   "source": [
    "len(dd)"
   ]
  },
  {
   "cell_type": "code",
   "execution_count": 57,
   "id": "9beb47d8",
   "metadata": {},
   "outputs": [
    {
     "data": {
      "text/plain": [
       "array([-1.35793113])"
      ]
     },
     "execution_count": 57,
     "metadata": {},
     "output_type": "execute_result"
    }
   ],
   "source": [
    "dd"
   ]
  },
  {
   "cell_type": "code",
   "execution_count": 58,
   "id": "21bbf37f",
   "metadata": {},
   "outputs": [],
   "source": [
    "mws = mass.movstd(T[100: 100+batchs], len(Q))"
   ]
  },
  {
   "cell_type": "code",
   "execution_count": 59,
   "id": "f90e50b5",
   "metadata": {},
   "outputs": [
    {
     "data": {
      "text/plain": [
       "array([0.96901417])"
      ]
     },
     "execution_count": 59,
     "metadata": {},
     "output_type": "execute_result"
    }
   ],
   "source": [
    "mws"
   ]
  },
  {
   "cell_type": "code",
   "execution_count": 60,
   "id": "ad9d47f2",
   "metadata": {},
   "outputs": [],
   "source": [
    "sim = mass.dist_prof(T, Q)"
   ]
  },
  {
   "cell_type": "code",
   "execution_count": 61,
   "id": "78213bd2",
   "metadata": {},
   "outputs": [
    {
     "data": {
      "text/plain": [
       "array([1.83296304e+00, 2.62963468e+00, 5.04445363e+00, ...,\n",
       "       5.00076133e+00, 3.56394804e+00, 5.96046448e-08])"
      ]
     },
     "execution_count": 61,
     "metadata": {},
     "output_type": "execute_result"
    }
   ],
   "source": [
    "sim"
   ]
  },
  {
   "cell_type": "code",
   "execution_count": 62,
   "id": "bf16600a",
   "metadata": {},
   "outputs": [
    {
     "data": {
      "text/plain": [
       "2879"
      ]
     },
     "execution_count": 62,
     "metadata": {},
     "output_type": "execute_result"
    }
   ],
   "source": [
    "len(sim)"
   ]
  },
  {
   "cell_type": "code",
   "execution_count": 66,
   "id": "711636c9",
   "metadata": {},
   "outputs": [
    {
     "data": {
      "text/plain": [
       "array([4.43549686, 5.26471654, 5.74229263, 4.87476061, 3.88679982,\n",
       "       4.81632954, 4.92098807, 5.12055852, 5.57503249, 5.38718854,\n",
       "       4.07797386, 4.82589996, 4.41561274, 4.54249716, 4.16637051,\n",
       "       3.36875274, 3.42754112, 3.82722608, 3.97866148, 5.12415315])"
      ]
     },
     "execution_count": 66,
     "metadata": {},
     "output_type": "execute_result"
    }
   ],
   "source": [
    "sim[10:30]"
   ]
  },
  {
   "cell_type": "code",
   "execution_count": 65,
   "id": "b9148e4e",
   "metadata": {},
   "outputs": [
    {
     "data": {
      "text/plain": [
       "0"
      ]
     },
     "execution_count": 65,
     "metadata": {},
     "output_type": "execute_result"
    }
   ],
   "source": [
    "sum(np.isnan(sim))"
   ]
  },
  {
   "cell_type": "code",
   "execution_count": 67,
   "id": "0cfaafb1",
   "metadata": {},
   "outputs": [
    {
     "data": {
      "text/plain": [
       "1247"
      ]
     },
     "execution_count": 67,
     "metadata": {},
     "output_type": "execute_result"
    }
   ],
   "source": [
    "np.argmax(sim)"
   ]
  },
  {
   "cell_type": "code",
   "execution_count": 68,
   "id": "43b1d171",
   "metadata": {},
   "outputs": [
    {
     "data": {
      "text/plain": [
       "6.088994321032517"
      ]
     },
     "execution_count": 68,
     "metadata": {},
     "output_type": "execute_result"
    }
   ],
   "source": [
    "sim[1247]"
   ]
  },
  {
   "cell_type": "code",
   "execution_count": 70,
   "id": "da0b65a2",
   "metadata": {},
   "outputs": [
    {
     "data": {
      "image/png": "[encoded data removed]",
      "text/plain": [
       "<Figure size 1008x576 with 1 Axes>"
      ]
     },
     "metadata": {
      "needs_background": "light"
     },
     "output_type": "display_data"
    }
   ],
   "source": [
    "plt.figure(figsize=(14, 8))\n",
    "plt.plot(np.arange(1000, 1300), sim[1000:1300])\n",
    "plt.show()"
   ]
  },
  {
   "cell_type": "code",
   "execution_count": 71,
   "id": "8297e441",
   "metadata": {},
   "outputs": [],
   "source": [
    "TT = ppress_dfs[0]['norm']"
   ]
  },
  {
   "cell_type": "code",
   "execution_count": 104,
   "id": "d7c343d8",
   "metadata": {},
   "outputs": [],
   "source": [
    "import DAMP_V2\n",
    "reload(DAMP_V2)\n",
    "from DAMP_V2 import DAMP_V2"
   ]
  },
  {
   "cell_type": "code",
   "execution_count": 105,
   "id": "e3e57e42",
   "metadata": {},
   "outputs": [],
   "source": [
    "damp = DAMP_V2({\"lookahead\": 100, \"enable_output\": True})"
   ]
  },
  {
   "cell_type": "code",
   "execution_count": 106,
   "id": "daabba2f",
   "metadata": {},
   "outputs": [
    {
     "name": "stdout",
     "output_type": "stream",
     "text": [
      "-----------------------------------------------\n",
      "Thank you for using DAMP.\n",
      "This is version 2.0 of DAMP, please email Eamonn Keogh (eamonn@cs.ucr.edu) or Yue Lu (ylu175@ucr.edu) to make sure you have the latest version.\n",
      "This time series is of length 2888, and the subsequence length is 20\n",
      "The lookahead modified from 100 to the next power of 2: 128.\n",
      "Hints:\n",
      "Usually, the subsequence length you should use is between about 50 to 90% of a typical period.\n",
      "A good initial value of lookahead is about 2^nearest_power_of_two(16 times S).\n",
      "The range of lookahead should be 0 to length(T)-location_to_start_processing.\n",
      "If speed is important, you can tune lookahead to get greater speed-up in your domain.\n",
      "A simple search, doubling and halving the current value,\n",
      " should let you quickly converge on a good value.\n",
      "------------------------------------------\n",
      "\n",
      "\n",
      "Results:\n",
      "DAMP_V2 run time 0:00:34.483878\n",
      "Pruning Rate: 0.7338389310220296\n",
      "Predicted discord score/position: 4.825567762541175 / [161]\n"
     ]
    }
   ],
   "source": [
    "scor, pos, left_MP = damp.DAMP_2_0(TT, 20, 100)"
   ]
  },
  {
   "cell_type": "code",
   "execution_count": 108,
   "id": "1f4512c6",
   "metadata": {},
   "outputs": [
    {
     "data": {
      "image/png": "[encoded data removed]",
      "text/plain": [
       "<Figure size 1008x576 with 1 Axes>"
      ]
     },
     "metadata": {
      "needs_background": "light"
     },
     "output_type": "display_data"
    }
   ],
   "source": [
    "plt.figure(figsize=(14, 8))\n",
    "plt.plot(np.arange(0, 220), TT[:220])\n",
    "plt.show()"
   ]
  },
  {
   "cell_type": "code",
   "execution_count": 109,
   "id": "7f8e27f1",
   "metadata": {},
   "outputs": [
    {
     "data": {
      "text/plain": [
       "2888"
      ]
     },
     "execution_count": 109,
     "metadata": {},
     "output_type": "execute_result"
    }
   ],
   "source": [
    "len(left_MP)"
   ]
  },
  {
   "cell_type": "code",
   "execution_count": 110,
   "id": "33b935f5",
   "metadata": {},
   "outputs": [
    {
     "data": {
      "text/plain": [
       "4.825567862541175"
      ]
     },
     "execution_count": 110,
     "metadata": {},
     "output_type": "execute_result"
    }
   ],
   "source": [
    "max(left_MP)"
   ]
  },
  {
   "cell_type": "code",
   "execution_count": 111,
   "id": "3ab78f44",
   "metadata": {},
   "outputs": [
    {
     "name": "stdout",
     "output_type": "stream",
     "text": [
      "[161]\n"
     ]
    }
   ],
   "source": [
    "max_mp = np.where(left_MP == max(left_MP))\n",
    "print(max_mp[0])"
   ]
  },
  {
   "cell_type": "code",
   "execution_count": 112,
   "id": "4d81874f",
   "metadata": {},
   "outputs": [
    {
     "data": {
      "text/plain": [
       "4.825567862541175"
      ]
     },
     "execution_count": 112,
     "metadata": {},
     "output_type": "execute_result"
    }
   ],
   "source": [
    "left_MP[161]"
   ]
  },
  {
   "cell_type": "code",
   "execution_count": 114,
   "id": "a8502277",
   "metadata": {},
   "outputs": [
    {
     "data": {
      "image/png": "[encoded data removed]",
      "text/plain": [
       "<Figure size 1008x576 with 1 Axes>"
      ]
     },
     "metadata": {
      "needs_background": "light"
     },
     "output_type": "display_data"
    }
   ],
   "source": [
    "plt.figure(figsize=(14, 8))\n",
    "plt.plot(np.arange(0, 300), left_MP[:300])\n",
    "plt.show()"
   ]
  },
  {
   "cell_type": "code",
   "execution_count": 115,
   "id": "e15aa8d3",
   "metadata": {},
   "outputs": [
    {
     "name": "stdout",
     "output_type": "stream",
     "text": [
      "(array([ 161,  162,  163,  164,  165,  166,  764, 1117, 1118, 2518],\n",
      "      dtype=int64),)\n"
     ]
    }
   ],
   "source": [
    "maxa = np.where(left_MP > 4.6)\n",
    "print(maxa)"
   ]
  },
  {
   "cell_type": "code",
   "execution_count": 118,
   "id": "d6a473a9",
   "metadata": {},
   "outputs": [
    {
     "data": {
      "image/png": "[encoded data removed]",
      "text/plain": [
       "<Figure size 1008x576 with 1 Axes>"
      ]
     },
     "metadata": {
      "needs_background": "light"
     },
     "output_type": "display_data"
    }
   ],
   "source": [
    "plt.figure(figsize=(14, 8))\n",
    "plt.plot(np.arange(1000, 1200), left_MP[1000:1200])\n",
    "plt.show()"
   ]
  },
  {
   "cell_type": "code",
   "execution_count": 119,
   "id": "c9c003ab",
   "metadata": {},
   "outputs": [
    {
     "data": {
      "image/png": "[encoded data removed]",
      "text/plain": [
       "<Figure size 1008x576 with 1 Axes>"
      ]
     },
     "metadata": {
      "needs_background": "light"
     },
     "output_type": "display_data"
    }
   ],
   "source": [
    "plt.figure(figsize=(14, 8))\n",
    "plt.plot(np.arange(1000, 1200), TT[1000:1200])\n",
    "plt.show()"
   ]
  },
  {
   "cell_type": "code",
   "execution_count": null,
   "id": "48966946",
   "metadata": {},
   "outputs": [],
   "source": []
  },
  {
   "cell_type": "code",
   "execution_count": null,
   "id": "1c33c25c",
   "metadata": {},
   "outputs": [],
   "source": []
  },
  {
   "cell_type": "code",
   "execution_count": 157,
   "id": "2db5582c",
   "metadata": {},
   "outputs": [],
   "source": [
    "rng = pd.date_range('1/1/2023 00:00:00', periods=122, freq='1s')"
   ]
  },
  {
   "cell_type": "code",
   "execution_count": 158,
   "id": "6728d9e7",
   "metadata": {},
   "outputs": [
    {
     "data": {
      "text/plain": [
       "DatetimeIndex(['2023-01-01 00:00:00', '2023-01-01 00:00:01',\n",
       "               '2023-01-01 00:00:02', '2023-01-01 00:00:03',\n",
       "               '2023-01-01 00:00:04', '2023-01-01 00:00:05',\n",
       "               '2023-01-01 00:00:06', '2023-01-01 00:00:07',\n",
       "               '2023-01-01 00:00:08', '2023-01-01 00:00:09',\n",
       "               ...\n",
       "               '2023-01-01 00:01:52', '2023-01-01 00:01:53',\n",
       "               '2023-01-01 00:01:54', '2023-01-01 00:01:55',\n",
       "               '2023-01-01 00:01:56', '2023-01-01 00:01:57',\n",
       "               '2023-01-01 00:01:58', '2023-01-01 00:01:59',\n",
       "               '2023-01-01 00:02:00', '2023-01-01 00:02:01'],\n",
       "              dtype='datetime64[ns]', length=122, freq='S')"
      ]
     },
     "execution_count": 158,
     "metadata": {},
     "output_type": "execute_result"
    }
   ],
   "source": [
    "rng"
   ]
  },
  {
   "cell_type": "code",
   "execution_count": 159,
   "id": "1a939b57",
   "metadata": {},
   "outputs": [
    {
     "data": {
      "text/plain": [
       "DatetimeIndex(['2023-01-01 00:00:00', '2023-01-01 00:00:00',\n",
       "               '2023-01-01 00:00:00', '2023-01-01 00:00:00',\n",
       "               '2023-01-01 00:00:00', '2023-01-01 00:00:00',\n",
       "               '2023-01-01 00:00:00', '2023-01-01 00:00:00',\n",
       "               '2023-01-01 00:00:00', '2023-01-01 00:00:00',\n",
       "               ...\n",
       "               '2023-01-01 00:01:00', '2023-01-01 00:01:00',\n",
       "               '2023-01-01 00:01:00', '2023-01-01 00:01:00',\n",
       "               '2023-01-01 00:01:00', '2023-01-01 00:01:00',\n",
       "               '2023-01-01 00:01:00', '2023-01-01 00:01:00',\n",
       "               '2023-01-01 00:02:00', '2023-01-01 00:02:00'],\n",
       "              dtype='datetime64[ns]', length=122, freq=None)"
      ]
     },
     "execution_count": 159,
     "metadata": {},
     "output_type": "execute_result"
    }
   ],
   "source": [
    "rng.floor('1min')"
   ]
  },
  {
   "cell_type": "code",
   "execution_count": null,
   "id": "06d60cf9",
   "metadata": {},
   "outputs": [],
   "source": []
  },
  {
   "cell_type": "code",
   "execution_count": null,
   "id": "128ffd65",
   "metadata": {},
   "outputs": [],
   "source": []
  },
  {
   "cell_type": "code",
   "execution_count": null,
   "id": "e9e4e53a",
   "metadata": {},
   "outputs": [],
   "source": []
  },
  {
   "cell_type": "code",
   "execution_count": null,
   "id": "3c5da629",
   "metadata": {},
   "outputs": [],
   "source": []
  },
  {
   "cell_type": "code",
   "execution_count": null,
   "id": "416bfe9e",
   "metadata": {},
   "outputs": [],
   "source": []
  },
  {
   "cell_type": "code",
   "execution_count": null,
   "id": "985628af",
   "metadata": {},
   "outputs": [],
   "source": []
  }
 ],
 "metadata": {
  "kernelspec": {
   "display_name": "Python 3 (ipykernel)",
   "language": "python",
   "name": "python3"
  },
  "language_info": {
   "codemirror_mode": {
    "name": "ipython",
    "version": 3
   },
   "file_extension": ".py",
   "mimetype": "text/x-python",
   "name": "python",
   "nbconvert_exporter": "python",
   "pygments_lexer": "ipython3",
   "version": "3.9.7"
  }
 },
 "nbformat": 4,
 "nbformat_minor": 5
}
